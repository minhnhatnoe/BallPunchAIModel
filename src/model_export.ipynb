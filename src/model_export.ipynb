{
 "cells": [
  {
   "cell_type": "markdown",
   "metadata": {},
   "source": [
    "# Import everything"
   ]
  },
  {
   "cell_type": "code",
   "execution_count": null,
   "metadata": {},
   "outputs": [],
   "source": [
    "import csv\n",
    "import torch\n",
    "from tqdm.notebook import tqdm\n",
    "from helper import loader, boilerplate\n",
    "from settings.cfg import model, device\n",
    "from settings.cfg import batch_size, tests_paths\n",
    "from settings.cfg import model_path, result_path"
   ]
  },
  {
   "cell_type": "markdown",
   "metadata": {},
   "source": [
    "# Get the dataset\n"
   ]
  },
  {
   "cell_type": "code",
   "execution_count": null,
   "metadata": {},
   "outputs": [],
   "source": [
    "test_image, test_names = loader.load_data(tests_paths, mmap_mode='c')"
   ]
  },
  {
   "cell_type": "markdown",
   "metadata": {},
   "source": [
    "# Boilerplate Code"
   ]
  },
  {
   "cell_type": "code",
   "execution_count": null,
   "metadata": {},
   "outputs": [],
   "source": [
    "Data = boilerplate.ExportDataset"
   ]
  },
  {
   "cell_type": "markdown",
   "metadata": {},
   "source": [
    "# Model"
   ]
  },
  {
   "cell_type": "code",
   "execution_count": null,
   "metadata": {},
   "outputs": [],
   "source": [
    "model.load_state_dict(torch.load(model_path))\n"
   ]
  },
  {
   "cell_type": "markdown",
   "metadata": {},
   "source": [
    "# Run tests"
   ]
  },
  {
   "cell_type": "code",
   "execution_count": null,
   "metadata": {},
   "outputs": [],
   "source": [
    "tests = Data(test_image, test_names)\n",
    "tests_dataloader = torch.utils.data.DataLoader(tests, batch_size=batch_size)\n",
    "\n",
    "with torch.no_grad(), open(result_path, \"w\", newline='') as result:\n",
    "    result_writer = csv.writer(result)\n",
    "    result_writer.writerow([\"Frame\", \"Label\"])\n",
    "    for image, names in tqdm(tests_dataloader):\n",
    "        image = image.to(device, dtype=torch.float)\n",
    "\n",
    "        output = model(image)\n",
    "        output = output.argmax(dim=1).cpu().numpy()\n",
    "        assert(output.shape[0] == len(names))\n",
    "        \n",
    "        result_writer.writerows(zip(names, output))\n"
   ]
  },
  {
   "cell_type": "markdown",
   "metadata": {},
   "source": [
    "# Submit\n"
   ]
  },
  {
   "cell_type": "markdown",
   "metadata": {},
   "source": [
    "## Create environment variables"
   ]
  },
  {
   "cell_type": "code",
   "execution_count": null,
   "metadata": {},
   "outputs": [],
   "source": [
    "from os import environ\n",
    "from settings.cfg import kaggle_path\n",
    "environ['KAGGLE_CONFIG_DIR'] = kaggle_path\n"
   ]
  },
  {
   "cell_type": "code",
   "execution_count": null,
   "metadata": {},
   "outputs": [],
   "source": [
    "from datetime import datetime\n",
    "from kaggle.api.kaggle_api_extended import KaggleApi\n",
    "api = KaggleApi()\n",
    "api.authenticate()\n"
   ]
  },
  {
   "cell_type": "code",
   "execution_count": null,
   "metadata": {},
   "outputs": [],
   "source": [
    "api.competition_submit(\n",
    "    result_path, f\"Submitted at {datetime.now()}\", \"hsgs-hackathon2022\")\n"
   ]
  }
 ],
 "metadata": {
  "kernelspec": {
   "display_name": "Python 3.10.5 ('nhatenv')",
   "language": "python",
   "name": "python3"
  },
  "language_info": {
   "codemirror_mode": {
    "name": "ipython",
    "version": 3
   },
   "file_extension": ".py",
   "mimetype": "text/x-python",
   "name": "python",
   "nbconvert_exporter": "python",
   "pygments_lexer": "ipython3",
   "version": "3.10.5"
  },
  "orig_nbformat": 4,
  "vscode": {
   "interpreter": {
    "hash": "867ad48846dc57cdb6a7846b46ef358b3169581697c80695711b9dc516eb64da"
   }
  }
 },
 "nbformat": 4,
 "nbformat_minor": 2
}
