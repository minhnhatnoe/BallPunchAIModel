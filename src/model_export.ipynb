{
 "cells": [
  {
   "cell_type": "markdown",
   "metadata": {},
   "source": [
    "# Get the dataset\n"
   ]
  },
  {
   "cell_type": "code",
   "execution_count": 1,
   "metadata": {},
   "outputs": [
    {
     "name": "stderr",
     "output_type": "stream",
     "text": [
      "/home/phuonghd/.conda/envs/nhatenv/lib/python3.10/site-packages/tqdm/auto.py:22: TqdmWarning: IProgress not found. Please update jupyter and ipywidgets. See https://ipywidgets.readthedocs.io/en/stable/user_install.html\n",
      "  from .autonotebook import tqdm as notebook_tqdm\n"
     ]
    }
   ],
   "source": [
    "import csv\n",
    "import numpy as np\n",
    "import config\n",
    "\n",
    "test_image = np.load(config.t_path)\n",
    "test_names = np.load(config.n_path)\n",
    "\n",
    "assert(test_image.shape[0] == test_names.shape[0])\n"
   ]
  },
  {
   "cell_type": "markdown",
   "metadata": {},
   "source": [
    "# Boilerplate Code"
   ]
  },
  {
   "cell_type": "code",
   "execution_count": 2,
   "metadata": {},
   "outputs": [],
   "source": [
    "import torch\n",
    "from typing import Tuple\n",
    "class Data(torch.utils.data.Dataset):\n",
    "    def __init__(self, image: np.ndarray, name: np.ndarray) -> None:\n",
    "        assert(image.shape[0] == name.shape[0])\n",
    "        self.image = image\n",
    "        self.name = name\n",
    "    \n",
    "    def __len__(self) -> int:\n",
    "        return self.image.shape[0]\n",
    "    \n",
    "    def __getitem__(self, idx: int) -> 'Tuple[np.ndarray, str]':\n",
    "        return self.image[idx], self.name[idx]\n"
   ]
  },
  {
   "cell_type": "markdown",
   "metadata": {},
   "source": [
    "# Model"
   ]
  },
  {
   "cell_type": "code",
   "execution_count": 3,
   "metadata": {},
   "outputs": [],
   "source": [
    "model = config.get_model()\n",
    "model.load_state_dict(torch.load(config.model_path))\n",
    "\n",
    "use_cuda = torch.cuda.is_available()\n",
    "if not use_cuda:\n",
    "    print(\"CUDA not used!\")\n",
    "device = torch.device(\"cuda\" if use_cuda else \"cpu\")\n",
    "\n",
    "model = model.to(device)\n"
   ]
  },
  {
   "cell_type": "markdown",
   "metadata": {},
   "source": [
    "# Run tests"
   ]
  },
  {
   "cell_type": "code",
   "execution_count": 4,
   "metadata": {},
   "outputs": [
    {
     "name": "stderr",
     "output_type": "stream",
     "text": [
      "  1%|          | 3/296 [00:03<04:11,  1.17it/s]"
     ]
    },
    {
     "name": "stdout",
     "output_type": "stream",
     "text": [
      "('frame_000000.PNG', 'frame_000001.PNG', 'frame_000002.PNG', 'frame_000003.PNG', 'frame_000004.PNG', 'frame_000005.PNG', 'frame_000006.PNG', 'frame_000007.PNG', 'frame_000008.PNG', 'frame_000009.PNG', 'frame_000010.PNG', 'frame_000011.PNG', 'frame_000012.PNG', 'frame_000013.PNG', 'frame_000014.PNG', 'frame_000015.PNG', 'frame_000016.PNG', 'frame_000017.PNG', 'frame_000018.PNG', 'frame_000019.PNG', 'frame_000020.PNG', 'frame_000021.PNG', 'frame_000022.PNG', 'frame_000023.PNG', 'frame_000024.PNG', 'frame_000025.PNG', 'frame_000026.PNG', 'frame_000027.PNG', 'frame_000028.PNG', 'frame_000029.PNG', 'frame_000030.PNG', 'frame_000031.PNG') tensor([1, 1, 1, 1, 1, 1, 1, 1, 1, 1, 1, 1, 1, 1, 1, 1, 1, 1, 1, 1, 1, 1, 1, 1,\n",
      "        1, 1, 1, 1, 1, 1, 1, 1], device='cuda:0')\n",
      "('frame_000032.PNG', 'frame_000033.PNG', 'frame_000034.PNG', 'frame_000035.PNG', 'frame_000036.PNG', 'frame_000037.PNG', 'frame_000038.PNG', 'frame_000039.PNG', 'frame_000040.PNG', 'frame_000041.PNG', 'frame_000042.PNG', 'frame_000043.PNG', 'frame_000044.PNG', 'frame_000045.PNG', 'frame_000046.PNG', 'frame_000047.PNG', 'frame_000048.PNG', 'frame_000049.PNG', 'frame_000050.PNG', 'frame_000051.PNG', 'frame_000052.PNG', 'frame_000053.PNG', 'frame_000054.PNG', 'frame_000055.PNG', 'frame_000056.PNG', 'frame_000057.PNG', 'frame_000058.PNG', 'frame_000059.PNG', 'frame_000060.PNG', 'frame_000061.PNG', 'frame_000062.PNG', 'frame_000063.PNG') tensor([1, 1, 1, 1, 1, 1, 1, 1, 1, 1, 1, 1, 1, 1, 1, 1, 1, 1, 1, 1, 1, 1, 1, 1,\n",
      "        1, 1, 1, 1, 1, 1, 1, 1], device='cuda:0')\n",
      "('frame_000064.PNG', 'frame_000065.PNG', 'frame_000066.PNG', 'frame_000067.PNG', 'frame_000068.PNG', 'frame_000069.PNG', 'frame_000070.PNG', 'frame_000071.PNG', 'frame_000072.PNG', 'frame_000073.PNG', 'frame_000074.PNG', 'frame_000075.PNG', 'frame_000076.PNG', 'frame_000077.PNG', 'frame_000078.PNG', 'frame_000079.PNG', 'frame_000080.PNG', 'frame_000081.PNG', 'frame_000082.PNG', 'frame_000083.PNG', 'frame_000084.PNG', 'frame_000085.PNG', 'frame_000086.PNG', 'frame_000087.PNG', 'frame_000088.PNG', 'frame_000089.PNG', 'frame_000090.PNG', 'frame_000091.PNG', 'frame_000092.PNG', 'frame_000093.PNG', 'frame_000094.PNG', 'frame_000095.PNG') tensor([1, 1, 1, 1, 1, 1, 1, 1, 1, 1, 1, 1, 1, 1, 1, 1, 1, 1, 1, 1, 1, 1, 1, 1,\n",
      "        1, 1, 1, 1, 1, 1, 1, 1], device='cuda:0')\n"
     ]
    },
    {
     "name": "stderr",
     "output_type": "stream",
     "text": [
      "  2%|▏         | 5/296 [00:03<02:09,  2.25it/s]"
     ]
    },
    {
     "name": "stdout",
     "output_type": "stream",
     "text": [
      "('frame_000096.PNG', 'frame_000097.PNG', 'frame_000098.PNG', 'frame_000099.PNG', 'frame_000100.PNG', 'frame_000101.PNG', 'frame_000102.PNG', 'frame_000103.PNG', 'frame_000104.PNG', 'frame_000105.PNG', 'frame_000106.PNG', 'frame_000107.PNG', 'frame_000108.PNG', 'frame_000109.PNG', 'frame_000110.PNG', 'frame_000111.PNG', 'frame_000112.PNG', 'frame_000113.PNG', 'frame_000114.PNG', 'frame_000115.PNG', 'frame_000116.PNG', 'frame_000117.PNG', 'frame_000118.PNG', 'frame_000119.PNG', 'frame_000120.PNG', 'frame_000121.PNG', 'frame_000122.PNG', 'frame_000123.PNG', 'frame_000124.PNG', 'frame_000125.PNG', 'frame_000126.PNG', 'frame_000127.PNG') tensor([1, 1, 1, 1, 1, 1, 1, 1, 1, 1, 1, 1, 1, 1, 1, 1, 1, 1, 1, 1, 1, 1, 1, 1,\n",
      "        1, 1, 1, 1, 1, 1, 1, 1], device='cuda:0')\n",
      "('frame_000128.PNG', 'frame_000129.PNG', 'frame_000130.PNG', 'frame_000131.PNG', 'frame_000132.PNG', 'frame_000133.PNG', 'frame_000134.PNG', 'frame_000135.PNG', 'frame_000136.PNG', 'frame_000137.PNG', 'frame_000138.PNG', 'frame_000139.PNG', 'frame_000140.PNG', 'frame_000141.PNG', 'frame_000142.PNG', 'frame_000143.PNG', 'frame_000144.PNG', 'frame_000145.PNG', 'frame_000146.PNG', 'frame_000147.PNG', 'frame_000148.PNG', 'frame_000149.PNG', 'frame_000150.PNG', 'frame_000151.PNG', 'frame_000152.PNG', 'frame_000153.PNG', 'frame_000154.PNG', 'frame_000155.PNG', 'frame_000156.PNG', 'frame_000157.PNG', 'frame_000158.PNG', 'frame_000159.PNG') tensor([1, 1, 1, 1, 1, 1, 1, 1, 1, 1, 1, 1, 1, 1, 1, 1, 1, 1, 1, 1, 1, 1, 1, 1,\n",
      "        1, 1, 1, 1, 1, 1, 1, 1], device='cuda:0')\n",
      "('frame_000160.PNG', 'frame_000161.PNG', 'frame_000162.PNG', 'frame_000163.PNG', 'frame_000164.PNG', 'frame_000165.PNG', 'frame_000166.PNG', 'frame_000167.PNG', 'frame_000168.PNG', 'frame_000169.PNG', 'frame_000170.PNG', 'frame_000171.PNG', 'frame_000172.PNG', 'frame_000173.PNG', 'frame_000174.PNG', 'frame_000175.PNG', 'frame_000176.PNG', 'frame_000177.PNG', 'frame_000178.PNG', 'frame_000179.PNG', 'frame_000180.PNG', 'frame_000181.PNG', 'frame_000182.PNG', 'frame_000183.PNG', 'frame_000184.PNG', 'frame_000185.PNG', 'frame_000186.PNG', 'frame_000187.PNG', 'frame_000188.PNG', 'frame_000189.PNG', 'frame_000190.PNG', 'frame_000191.PNG') tensor([1, 1, 1, 1, 1, 1, 1, 1, 1, 1, 1, 1, 1, 1, 1, 1, 1, 1, 1, 1, 1, 1, 1, 1,\n",
      "        1, 1, 1, 1, 1, 1, 1, 1], device='cuda:0')\n",
      "('frame_000192.PNG', 'frame_000193.PNG', 'frame_000194.PNG', 'frame_000195.PNG', 'frame_000196.PNG', 'frame_000197.PNG', 'frame_000198.PNG', 'frame_000199.PNG', 'frame_000200.PNG', 'frame_000201.PNG', 'frame_000202.PNG', 'frame_000203.PNG', 'frame_000204.PNG', 'frame_000205.PNG', 'frame_000206.PNG', 'frame_000207.PNG', 'frame_000208.PNG', 'frame_000209.PNG', 'frame_000210.PNG', 'frame_000211.PNG', 'frame_000212.PNG', 'frame_000213.PNG', 'frame_000214.PNG', 'frame_000215.PNG', 'frame_000216.PNG', 'frame_000217.PNG', 'frame_000218.PNG', 'frame_000219.PNG', 'frame_000220.PNG', 'frame_000221.PNG', 'frame_000222.PNG', 'frame_000223.PNG') tensor([1, 1, 1, 1, 1, 1, 1, 1, 1, 1, 1, 1, 1, 1, 1, 1, 1, 1, 1, 1, 1, 1, 1, 1,\n",
      "        1, 1, 1, 1, 1, 1, 1, 1], device='cuda:0')\n",
      "('frame_000224.PNG', 'frame_000225.PNG', 'frame_000226.PNG', 'frame_000227.PNG', 'frame_000228.PNG', 'frame_000229.PNG', 'frame_000230.PNG', 'frame_000231.PNG', 'frame_000232.PNG', 'frame_000233.PNG', 'frame_000234.PNG', 'frame_000235.PNG', 'frame_000236.PNG', 'frame_000237.PNG', 'frame_000238.PNG', 'frame_000239.PNG', 'frame_000240.PNG', 'frame_000241.PNG', 'frame_000242.PNG', 'frame_000243.PNG', 'frame_000244.PNG', 'frame_000245.PNG', 'frame_000246.PNG', 'frame_000247.PNG', 'frame_000248.PNG', 'frame_000249.PNG', 'frame_000250.PNG', 'frame_000251.PNG', 'frame_000252.PNG', 'frame_000253.PNG', 'frame_000254.PNG', 'frame_000255.PNG') "
     ]
    },
    {
     "name": "stderr",
     "output_type": "stream",
     "text": [
      "  4%|▎         | 11/296 [00:03<00:43,  6.53it/s]"
     ]
    },
    {
     "name": "stdout",
     "output_type": "stream",
     "text": [
      "tensor([1, 1, 1, 1, 1, 1, 1, 1, 1, 1, 1, 1, 1, 1, 1, 1, 1, 1, 1, 1, 1, 1, 1, 1,\n",
      "        1, 1, 1, 1, 1, 1, 1, 1], device='cuda:0')\n",
      "('frame_000256.PNG', 'frame_000257.PNG', 'frame_000258.PNG', 'frame_000259.PNG', 'frame_000260.PNG', 'frame_000261.PNG', 'frame_000262.PNG', 'frame_000263.PNG', 'frame_000264.PNG', 'frame_000265.PNG', 'frame_000266.PNG', 'frame_000267.PNG', 'frame_000268.PNG', 'frame_000269.PNG', 'frame_000270.PNG', 'frame_000271.PNG', 'frame_000272.PNG', 'frame_000273.PNG', 'frame_000274.PNG', 'frame_000275.PNG', 'frame_000276.PNG', 'frame_000277.PNG', 'frame_000278.PNG', 'frame_000279.PNG', 'frame_000280.PNG', 'frame_000281.PNG', 'frame_000282.PNG', 'frame_000283.PNG', 'frame_000284.PNG', 'frame_000285.PNG', 'frame_000286.PNG', 'frame_000287.PNG') tensor([1, 1, 1, 1, 1, 1, 1, 1, 1, 1, 1, 1, 1, 1, 1, 1, 1, 1, 1, 1, 1, 1, 1, 1,\n",
      "        1, 1, 1, 1, 1, 1, 1, 1], device='cuda:0')\n",
      "('frame_000288.PNG', 'frame_000289.PNG', 'frame_000290.PNG', 'frame_000291.PNG', 'frame_000292.PNG', 'frame_000293.PNG', 'frame_000294.PNG', 'frame_000295.PNG', 'frame_000296.PNG', 'frame_000297.PNG', 'frame_000298.PNG', 'frame_000299.PNG', 'frame_000300.PNG', 'frame_000301.PNG', 'frame_000302.PNG', 'frame_000303.PNG', 'frame_000304.PNG', 'frame_000305.PNG', 'frame_000306.PNG', 'frame_000307.PNG', 'frame_000308.PNG', 'frame_000309.PNG', 'frame_000310.PNG', 'frame_000311.PNG', 'frame_000312.PNG', 'frame_000313.PNG', 'frame_000314.PNG', 'frame_000315.PNG', 'frame_000316.PNG', 'frame_000317.PNG', 'frame_000318.PNG', 'frame_000319.PNG') tensor([1, 1, 1, 1, 1, 1, 1, 1, 1, 1, 1, 1, 1, 1, 1, 1, 1, 1, 1, 1, 1, 1, 1, 1,\n",
      "        1, 1, 1, 1, 1, 1, 1, 1], device='cuda:0')\n",
      "('frame_000320.PNG', 'frame_000321.PNG', 'frame_000322.PNG', 'frame_000323.PNG', 'frame_000324.PNG', 'frame_000325.PNG', 'frame_000326.PNG', 'frame_000327.PNG', 'frame_000328.PNG', 'frame_000329.PNG', 'frame_000330.PNG', 'frame_000331.PNG', 'frame_000332.PNG', 'frame_000333.PNG', 'frame_000334.PNG', 'frame_000335.PNG', 'frame_000336.PNG', 'frame_000337.PNG', 'frame_000338.PNG', 'frame_000339.PNG', 'frame_000340.PNG', 'frame_000341.PNG', 'frame_000342.PNG', 'frame_000343.PNG', 'frame_000344.PNG', 'frame_000345.PNG', 'frame_000346.PNG', 'frame_000347.PNG', 'frame_000348.PNG', 'frame_000349.PNG', 'frame_000350.PNG', 'frame_000351.PNG') tensor([1, 1, 1, 1, 1, 1, 1, 1, 1, 1, 1, 1, 1, 1, 1, 1, 1, 1, 1, 1, 1, 1, 1, 1,\n",
      "        1, 1, 1, 1, 1, 1, 1, 1], device='cuda:0')\n",
      "('frame_000352.PNG', 'frame_000353.PNG', 'frame_000354.PNG', 'frame_000355.PNG', 'frame_000356.PNG', 'frame_000357.PNG', 'frame_000358.PNG', 'frame_000359.PNG', 'frame_000360.PNG', 'frame_000361.PNG', 'frame_000362.PNG', 'frame_000363.PNG', 'frame_000364.PNG', 'frame_000365.PNG', 'frame_000366.PNG', 'frame_000367.PNG', 'frame_000368.PNG', 'frame_000369.PNG', 'frame_000370.PNG', 'frame_000371.PNG', 'frame_000372.PNG', 'frame_000373.PNG', 'frame_000374.PNG', 'frame_000375.PNG', 'frame_000376.PNG', 'frame_000377.PNG', 'frame_000378.PNG', 'frame_000379.PNG', 'frame_000380.PNG', 'frame_000381.PNG', 'frame_000382.PNG', 'frame_000383.PNG') tensor([1, 1, 1, 1, 1, 1, 1, 1, 1, 1, 1, 1, 1, 1, 1, 1, 1, 1, 1, 1, 1, 1, 1, 1,\n",
      "        1, 1, 1, 1, 1, 1, 1, 1], device='cuda:0')\n",
      "('frame_000384.PNG', 'frame_000385.PNG', 'frame_000386.PNG', 'frame_000387.PNG', 'frame_000388.PNG', 'frame_000389.PNG', 'frame_000390.PNG', 'frame_000391.PNG', 'frame_000392.PNG', 'frame_000393.PNG', 'frame_000394.PNG', 'frame_000395.PNG', 'frame_000396.PNG', 'frame_000397.PNG', 'frame_000398.PNG', 'frame_000399.PNG', 'frame_000400.PNG', 'frame_000401.PNG', 'frame_000402.PNG', 'frame_000403.PNG', 'frame_000404.PNG', 'frame_000405.PNG', 'frame_000406.PNG', 'frame_000407.PNG', 'frame_000408.PNG', 'frame_000409.PNG', 'frame_000410.PNG', 'frame_000411.PNG', 'frame_000412.PNG', 'frame_000413.PNG', 'frame_000414.PNG', 'frame_000415.PNG') tensor([1, 1, 1, 1, 1, 1, 1, 1, 1, 1, 1, 1, 1, 1, 1, 1, 1, 1, 1, 1, 1, 1, 1, 1,\n",
      "        1, 1, 1, 1, 1, 1, 1, 1], device='cuda:0')\n"
     ]
    },
    {
     "name": "stderr",
     "output_type": "stream",
     "text": [
      "  6%|▌         | 17/296 [00:03<00:23, 11.87it/s]"
     ]
    },
    {
     "name": "stdout",
     "output_type": "stream",
     "text": [
      "('frame_000416.PNG', 'frame_000417.PNG', 'frame_000418.PNG', 'frame_000419.PNG', 'frame_000420.PNG', 'frame_000421.PNG', 'frame_000422.PNG', 'frame_000423.PNG', 'frame_000424.PNG', 'frame_000425.PNG', 'frame_000426.PNG', 'frame_000427.PNG', 'frame_000428.PNG', 'frame_000429.PNG', 'frame_000430.PNG', 'frame_000431.PNG', 'frame_000432.PNG', 'frame_000433.PNG', 'frame_000434.PNG', 'frame_000435.PNG', 'frame_000436.PNG', 'frame_000437.PNG', 'frame_000438.PNG', 'frame_000439.PNG', 'frame_000440.PNG', 'frame_000441.PNG', 'frame_000442.PNG', 'frame_000443.PNG', 'frame_000444.PNG', 'frame_000445.PNG', 'frame_000446.PNG', 'frame_000447.PNG') tensor([1, 1, 1, 1, 1, 1, 1, 1, 1, 1, 1, 1, 1, 1, 1, 1, 1, 1, 1, 1, 1, 1, 1, 1,\n",
      "        1, 1, 1, 1, 1, 1, 1, 1], device='cuda:0')\n",
      "('frame_000448.PNG', 'frame_000449.PNG', 'frame_000450.PNG', 'frame_000451.PNG', 'frame_000452.PNG', 'frame_000453.PNG', 'frame_000454.PNG', 'frame_000455.PNG', 'frame_000456.PNG', 'frame_000457.PNG', 'frame_000458.PNG', 'frame_000459.PNG', 'frame_000460.PNG', 'frame_000461.PNG', 'frame_000462.PNG', 'frame_000463.PNG', 'frame_000464.PNG', 'frame_000465.PNG', 'frame_000466.PNG', 'frame_000467.PNG', 'frame_000468.PNG', 'frame_000469.PNG', 'frame_000470.PNG', 'frame_000471.PNG', 'frame_000472.PNG', 'frame_000473.PNG', 'frame_000474.PNG', 'frame_000475.PNG', 'frame_000476.PNG', 'frame_000477.PNG', 'frame_000478.PNG', 'frame_000479.PNG') tensor([1, 1, 1, 1, 1, 1, 1, 1, 1, 1, 1, 1, 1, 1, 1, 1, 1, 1, 1, 1, 1, 1, 1, 1,\n",
      "        1, 1, 1, 1, 1, 1, 1, 1], device='cuda:0')\n",
      "('frame_000480.PNG', 'frame_000481.PNG', 'frame_000482.PNG', 'frame_000483.PNG', 'frame_000484.PNG', 'frame_000485.PNG', 'frame_000486.PNG', 'frame_000487.PNG', 'frame_000488.PNG', 'frame_000489.PNG', 'frame_000490.PNG', 'frame_000491.PNG', 'frame_000492.PNG', 'frame_000493.PNG', 'frame_000494.PNG', 'frame_000495.PNG', 'frame_000496.PNG', 'frame_000497.PNG', 'frame_000498.PNG', 'frame_000499.PNG', 'frame_000500.PNG', 'frame_000501.PNG', 'frame_000502.PNG', 'frame_000503.PNG', 'frame_000504.PNG', 'frame_000505.PNG', 'frame_000506.PNG', 'frame_000507.PNG', 'frame_000508.PNG', 'frame_000509.PNG', 'frame_000510.PNG', 'frame_000511.PNG') tensor([1, 1, 1, 1, 1, 1, 1, 1, 1, 1, 1, 1, 1, 1, 1, 1, 1, 1, 1, 1, 1, 1, 1, 1,\n",
      "        1, 1, 1, 1, 1, 1, 1, 1], device='cuda:0')\n",
      "('frame_000512.PNG', 'frame_000513.PNG', 'frame_000514.PNG', 'frame_000515.PNG', 'frame_000516.PNG', 'frame_000517.PNG', 'frame_000518.PNG', 'frame_000519.PNG', 'frame_000520.PNG', 'frame_000521.PNG', 'frame_000522.PNG', 'frame_000523.PNG', 'frame_000524.PNG', 'frame_000525.PNG', 'frame_000526.PNG', 'frame_000527.PNG', 'frame_000528.PNG', 'frame_000529.PNG', 'frame_000530.PNG', 'frame_000531.PNG', 'frame_000532.PNG', 'frame_000533.PNG', 'frame_000534.PNG', 'frame_000535.PNG', 'frame_000536.PNG', 'frame_000537.PNG', 'frame_000538.PNG', 'frame_000539.PNG', 'frame_000540.PNG', 'frame_000541.PNG', 'frame_000542.PNG', 'frame_000543.PNG') tensor([1, 1, 1, 1, 1, 1, 1, 1, 1, 1, 1, 1, 1, 1, 1, 1, 1, 1, 1, 1, 1, 1, 1, 1,\n",
      "        1, 1, 1, 1, 1, 1, 1, 1], device='cuda:0')\n",
      "('frame_000544.PNG', 'frame_000545.PNG', 'frame_000546.PNG', 'frame_000547.PNG', 'frame_000548.PNG', 'frame_000549.PNG', 'frame_000550.PNG', 'frame_000551.PNG', 'frame_000552.PNG', 'frame_000553.PNG', 'frame_000554.PNG', 'frame_000555.PNG', 'frame_000556.PNG', 'frame_000557.PNG', 'frame_000558.PNG', 'frame_000559.PNG', 'frame_000560.PNG', 'frame_000561.PNG', 'frame_000562.PNG', 'frame_000563.PNG', 'frame_000564.PNG', 'frame_000565.PNG', 'frame_000566.PNG', 'frame_000567.PNG', 'frame_000568.PNG', 'frame_000569.PNG', 'frame_000570.PNG', 'frame_000571.PNG', 'frame_000572.PNG', 'frame_000573.PNG', 'frame_000574.PNG', 'frame_000575.PNG') tensor([1, 1, 1, 1, 1, 1, 1, 1, 1, 1, 1, 1, 1, 1, 1, 1, 1, 1, 1, 1, 1, 1, 1, 1,\n",
      "        1, 1, 1, 1, 1, 1, 1, 1], device='cuda:0')\n",
      "('frame_000576.PNG', 'frame_000577.PNG', 'frame_000578.PNG', 'frame_000579.PNG', 'frame_000580.PNG', 'frame_000581.PNG', 'frame_000582.PNG', 'frame_000583.PNG', 'frame_000584.PNG', 'frame_000585.PNG', 'frame_000586.PNG', 'frame_000587.PNG', 'frame_000588.PNG', 'frame_000589.PNG', 'frame_000590.PNG', 'frame_000591.PNG', 'frame_000592.PNG', 'frame_000593.PNG', 'frame_000594.PNG', 'frame_000595.PNG', 'frame_000596.PNG', 'frame_000597.PNG', 'frame_000598.PNG', 'frame_000599.PNG', 'frame_000600.PNG', 'frame_000601.PNG', 'frame_000602.PNG', 'frame_000603.PNG', 'frame_000604.PNG', 'frame_000605.PNG', 'frame_000606.PNG', 'frame_000607.PNG') "
     ]
    },
    {
     "name": "stderr",
     "output_type": "stream",
     "text": [
      "  8%|▊         | 23/296 [00:04<00:15, 17.11it/s]"
     ]
    },
    {
     "name": "stdout",
     "output_type": "stream",
     "text": [
      "tensor([1, 1, 1, 1, 1, 1, 1, 1, 1, 1, 1, 1, 1, 1, 1, 1, 1, 1, 1, 1, 1, 1, 1, 1,\n",
      "        1, 1, 1, 1, 1, 1, 1, 1], device='cuda:0')\n",
      "('frame_000608.PNG', 'frame_000609.PNG', 'frame_000610.PNG', 'frame_000611.PNG', 'frame_000612.PNG', 'frame_000613.PNG', 'frame_000614.PNG', 'frame_000615.PNG', 'frame_000616.PNG', 'frame_000617.PNG', 'frame_000618.PNG', 'frame_000619.PNG', 'frame_000620.PNG', 'frame_000621.PNG', 'frame_000622.PNG', 'frame_000623.PNG', 'frame_000624.PNG', 'frame_000625.PNG', 'frame_000626.PNG', 'frame_000627.PNG', 'frame_000628.PNG', 'frame_000629.PNG', 'frame_000630.PNG', 'frame_000631.PNG', 'frame_000632.PNG', 'frame_000633.PNG', 'frame_000634.PNG', 'frame_000635.PNG', 'frame_000636.PNG', 'frame_000637.PNG', 'frame_000638.PNG', 'frame_000639.PNG') tensor([1, 1, 1, 1, 1, 1, 1, 1, 1, 1, 1, 1, 1, 1, 1, 1, 1, 1, 1, 1, 1, 1, 1, 1,\n",
      "        1, 1, 1, 1, 1, 1, 1, 1], device='cuda:0')\n",
      "('frame_000640.PNG', 'frame_000641.PNG', 'frame_000642.PNG', 'frame_000643.PNG', 'frame_000644.PNG', 'frame_000645.PNG', 'frame_000646.PNG', 'frame_000647.PNG', 'frame_000648.PNG', 'frame_000649.PNG', 'frame_000650.PNG', 'frame_000651.PNG', 'frame_000652.PNG', 'frame_000653.PNG', 'frame_000654.PNG', 'frame_000655.PNG', 'frame_000656.PNG', 'frame_000657.PNG', 'frame_000658.PNG', 'frame_000659.PNG', 'frame_000660.PNG', 'frame_000661.PNG', 'frame_000662.PNG', 'frame_000663.PNG', 'frame_000664.PNG', 'frame_000665.PNG', 'frame_000666.PNG', 'frame_000667.PNG', 'frame_000668.PNG', 'frame_000669.PNG', 'frame_000670.PNG', 'frame_000671.PNG') tensor([1, 1, 1, 1, 1, 1, 1, 1, 1, 1, 1, 1, 1, 1, 1, 1, 1, 1, 1, 1, 1, 1, 1, 1,\n",
      "        1, 1, 1, 1, 1, 1, 1, 1], device='cuda:0')\n",
      "('frame_000672.PNG', 'frame_000673.PNG', 'frame_000674.PNG', 'frame_000675.PNG', 'frame_000676.PNG', 'frame_000677.PNG', 'frame_000678.PNG', 'frame_000679.PNG', 'frame_000680.PNG', 'frame_000681.PNG', 'frame_000682.PNG', 'frame_000683.PNG', 'frame_000684.PNG', 'frame_000685.PNG', 'frame_000686.PNG', 'frame_000687.PNG', 'frame_000688.PNG', 'frame_000689.PNG', 'frame_000690.PNG', 'frame_000691.PNG', 'frame_000692.PNG', 'frame_000693.PNG', 'frame_000694.PNG', 'frame_000695.PNG', 'frame_000696.PNG', 'frame_000697.PNG', 'frame_000698.PNG', 'frame_000699.PNG', 'frame_000700.PNG', 'frame_000701.PNG', 'frame_000702.PNG', 'frame_000703.PNG') tensor([1, 1, 1, 1, 1, 1, 1, 1, 1, 1, 1, 1, 1, 1, 1, 1, 1, 1, 1, 1, 1, 1, 1, 1,\n",
      "        1, 1, 1, 1, 1, 1, 1, 1], device='cuda:0')\n",
      "('frame_000704.PNG', 'frame_000705.PNG', 'frame_000706.PNG', 'frame_000707.PNG', 'frame_000708.PNG', 'frame_000709.PNG', 'frame_000710.PNG', 'frame_000711.PNG', 'frame_000712.PNG', 'frame_000713.PNG', 'frame_000714.PNG', 'frame_000715.PNG', 'frame_000716.PNG', 'frame_000717.PNG', 'frame_000718.PNG', 'frame_000719.PNG', 'frame_000720.PNG', 'frame_000721.PNG', 'frame_000722.PNG', 'frame_000723.PNG', 'frame_000724.PNG', 'frame_000725.PNG', 'frame_000726.PNG', 'frame_000727.PNG', 'frame_000728.PNG', 'frame_000729.PNG', 'frame_000730.PNG', 'frame_000731.PNG', 'frame_000732.PNG', 'frame_000733.PNG', 'frame_000734.PNG', 'frame_000735.PNG') tensor([1, 1, 1, 1, 1, 1, 1, 1, 1, 1, 1, 1, 1, 1, 1, 1, 1, 1, 1, 1, 1, 1, 1, 1,\n",
      "        1, 1, 1, 1, 1, 1, 1, 1], device='cuda:0')\n",
      "('frame_000736.PNG', 'frame_000737.PNG', 'frame_000738.PNG', 'frame_000739.PNG', 'frame_000740.PNG', 'frame_000741.PNG', 'frame_000742.PNG', 'frame_000743.PNG', 'frame_000744.PNG', 'frame_000745.PNG', 'frame_000746.PNG', 'frame_000747.PNG', 'frame_000748.PNG', 'frame_000749.PNG', 'frame_000750.PNG', 'frame_000751.PNG', 'frame_000752.PNG', 'frame_000753.PNG', 'frame_000754.PNG', 'frame_000755.PNG', 'frame_000756.PNG', 'frame_000757.PNG', 'frame_000758.PNG', 'frame_000759.PNG', 'frame_000760.PNG', 'frame_000761.PNG', 'frame_000762.PNG', 'frame_000763.PNG', 'frame_000764.PNG', 'frame_000765.PNG', 'frame_000766.PNG', 'frame_000767.PNG') tensor([1, 1, 1, 1, 1, 1, 1, 1, 1, 1, 1, 1, 1, 1, 1, 1, 1, 1, 1, 1, 1, 1, 1, 1,\n",
      "        1, 1, 1, 1, 1, 1, 1, 1], device='cuda:0')\n"
     ]
    },
    {
     "name": "stderr",
     "output_type": "stream",
     "text": [
      " 10%|▉         | 29/296 [00:04<00:12, 21.03it/s]"
     ]
    },
    {
     "name": "stdout",
     "output_type": "stream",
     "text": [
      "('frame_000768.PNG', 'frame_000769.PNG', 'frame_000770.PNG', 'frame_000771.PNG', 'frame_000772.PNG', 'frame_000773.PNG', 'frame_000774.PNG', 'frame_000775.PNG', 'frame_000776.PNG', 'frame_000777.PNG', 'frame_000778.PNG', 'frame_000779.PNG', 'frame_000780.PNG', 'frame_000781.PNG', 'frame_000782.PNG', 'frame_000783.PNG', 'frame_000784.PNG', 'frame_000785.PNG', 'frame_000786.PNG', 'frame_000787.PNG', 'frame_000788.PNG', 'frame_000789.PNG', 'frame_000790.PNG', 'frame_000791.PNG', 'frame_000792.PNG', 'frame_000793.PNG', 'frame_000794.PNG', 'frame_000795.PNG', 'frame_000796.PNG', 'frame_000797.PNG', 'frame_000798.PNG', 'frame_000799.PNG') tensor([1, 1, 1, 1, 1, 1, 1, 1, 1, 1, 1, 1, 1, 1, 1, 1, 1, 1, 1, 1, 1, 1, 1, 1,\n",
      "        1, 1, 1, 1, 1, 1, 1, 1], device='cuda:0')\n",
      "('frame_000800.PNG', 'frame_000801.PNG', 'frame_000802.PNG', 'frame_000803.PNG', 'frame_000804.PNG', 'frame_000805.PNG', 'frame_000806.PNG', 'frame_000807.PNG', 'frame_000808.PNG', 'frame_000809.PNG', 'frame_000810.PNG', 'frame_000811.PNG', 'frame_000812.PNG', 'frame_000813.PNG', 'frame_000814.PNG', 'frame_000815.PNG', 'frame_000816.PNG', 'frame_000817.PNG', 'frame_000818.PNG', 'frame_000819.PNG', 'frame_000820.PNG', 'frame_000821.PNG', 'frame_000822.PNG', 'frame_000823.PNG', 'frame_000824.PNG', 'frame_000825.PNG', 'frame_000826.PNG', 'frame_000827.PNG', 'frame_000828.PNG', 'frame_000829.PNG', 'frame_000830.PNG', 'frame_000831.PNG') tensor([1, 1, 1, 1, 1, 1, 1, 1, 1, 1, 1, 1, 1, 1, 1, 1, 1, 1, 1, 1, 1, 1, 1, 1,\n",
      "        1, 1, 1, 1, 1, 1, 1, 1], device='cuda:0')\n",
      "('frame_000832.PNG', 'frame_000833.PNG', 'frame_000834.PNG', 'frame_000835.PNG', 'frame_000836.PNG', 'frame_000837.PNG', 'frame_000838.PNG', 'frame_000839.PNG', 'frame_000840.PNG', 'frame_000841.PNG', 'frame_000842.PNG', 'frame_000843.PNG', 'frame_000844.PNG', 'frame_000845.PNG', 'frame_000846.PNG', 'frame_000847.PNG', 'frame_000848.PNG', 'frame_000849.PNG', 'frame_000850.PNG', 'frame_000851.PNG', 'frame_000852.PNG', 'frame_000853.PNG', 'frame_000854.PNG', 'frame_000855.PNG', 'frame_000856.PNG', 'frame_000857.PNG', 'frame_000858.PNG', 'frame_000859.PNG', 'frame_000860.PNG', 'frame_000861.PNG', 'frame_000862.PNG', 'frame_000863.PNG') tensor([1, 1, 1, 1, 1, 1, 1, 1, 1, 1, 1, 1, 1, 1, 1, 1, 1, 1, 1, 1, 1, 1, 1, 1,\n",
      "        1, 1, 1, 1, 1, 1, 1, 1], device='cuda:0')\n",
      "('frame_000864.PNG', 'frame_000865.PNG', 'frame_000866.PNG', 'frame_000867.PNG', 'frame_000868.PNG', 'frame_000869.PNG', 'frame_000870.PNG', 'frame_000871.PNG', 'frame_000872.PNG', 'frame_000873.PNG', 'frame_000874.PNG', 'frame_000875.PNG', 'frame_000876.PNG', 'frame_000877.PNG', 'frame_000878.PNG', 'frame_000879.PNG', 'frame_000880.PNG', 'frame_000881.PNG', 'frame_000882.PNG', 'frame_000883.PNG', 'frame_000884.PNG', 'frame_000885.PNG', 'frame_000886.PNG', 'frame_000887.PNG', 'frame_000888.PNG', 'frame_000889.PNG', 'frame_000890.PNG', 'frame_000891.PNG', 'frame_000892.PNG', 'frame_000893.PNG', 'frame_000894.PNG', 'frame_000895.PNG') tensor([1, 1, 1, 1, 1, 1, 1, 1, 1, 1, 1, 1, 1, 1, 1, 1, 1, 1, 1, 1, 1, 1, 1, 1,\n",
      "        1, 1, 1, 1, 1, 1, 1, 1], device='cuda:0')\n",
      "('frame_000896.PNG', 'frame_000897.PNG', 'frame_000898.PNG', 'frame_000899.PNG', 'frame_000900.PNG', 'frame_000901.PNG', 'frame_000902.PNG', 'frame_000903.PNG', 'frame_000904.PNG', 'frame_000905.PNG', 'frame_000906.PNG', 'frame_000907.PNG', 'frame_000908.PNG', 'frame_000909.PNG', 'frame_000910.PNG', 'frame_000911.PNG', 'frame_000912.PNG', 'frame_000913.PNG', 'frame_000914.PNG', 'frame_000915.PNG', 'frame_000916.PNG', 'frame_000917.PNG', 'frame_000918.PNG', 'frame_000919.PNG', 'frame_000920.PNG', 'frame_000921.PNG', 'frame_000922.PNG', 'frame_000923.PNG', 'frame_000924.PNG', 'frame_000925.PNG', 'frame_000926.PNG', 'frame_000927.PNG') tensor([1, 1, 1, 1, 1, 1, 1, 1, 1, 1, 1, 1, 1, 1, 1, 1, 1, 1, 1, 1, 1, 1, 1, 1,\n",
      "        1, 1, 1, 1, 1, 1, 1, 1], device='cuda:0')\n",
      "('frame_000928.PNG', 'frame_000929.PNG', 'frame_000930.PNG', 'frame_000931.PNG', 'frame_000932.PNG', 'frame_000933.PNG', 'frame_000934.PNG', 'frame_000935.PNG', 'frame_000936.PNG', 'frame_000937.PNG', 'frame_000938.PNG', 'frame_000939.PNG', 'frame_000940.PNG', 'frame_000941.PNG', 'frame_000942.PNG', 'frame_000943.PNG', 'frame_000944.PNG', 'frame_000945.PNG', 'frame_000946.PNG', 'frame_000947.PNG', 'frame_000948.PNG', 'frame_000949.PNG', 'frame_000950.PNG', 'frame_000951.PNG', 'frame_000952.PNG', 'frame_000953.PNG', 'frame_000954.PNG', 'frame_000955.PNG', 'frame_000956.PNG', 'frame_000957.PNG', 'frame_000958.PNG', 'frame_000959.PNG') "
     ]
    },
    {
     "name": "stderr",
     "output_type": "stream",
     "text": [
      " 12%|█▏        | 35/296 [00:04<00:10, 23.91it/s]"
     ]
    },
    {
     "name": "stdout",
     "output_type": "stream",
     "text": [
      "tensor([1, 1, 1, 1, 1, 1, 1, 1, 1, 1, 1, 1, 1, 1, 1, 1, 1, 1, 1, 1, 1, 1, 1, 1,\n",
      "        1, 1, 1, 1, 1, 1, 1, 1], device='cuda:0')\n",
      "('frame_000960.PNG', 'frame_000961.PNG', 'frame_000962.PNG', 'frame_000963.PNG', 'frame_000964.PNG', 'frame_000965.PNG', 'frame_000966.PNG', 'frame_000967.PNG', 'frame_000968.PNG', 'frame_000969.PNG', 'frame_000970.PNG', 'frame_000971.PNG', 'frame_000972.PNG', 'frame_000973.PNG', 'frame_000974.PNG', 'frame_000975.PNG', 'frame_000976.PNG', 'frame_000977.PNG', 'frame_000978.PNG', 'frame_000979.PNG', 'frame_000980.PNG', 'frame_000981.PNG', 'frame_000982.PNG', 'frame_000983.PNG', 'frame_000984.PNG', 'frame_000985.PNG', 'frame_000986.PNG', 'frame_000987.PNG', 'frame_000988.PNG', 'frame_000989.PNG', 'frame_000990.PNG', 'frame_000991.PNG') tensor([1, 1, 1, 1, 1, 1, 1, 1, 1, 1, 1, 1, 1, 1, 1, 1, 1, 1, 1, 1, 1, 1, 1, 1,\n",
      "        1, 1, 1, 1, 1, 1, 1, 1], device='cuda:0')\n",
      "('frame_000992.PNG', 'frame_000993.PNG', 'frame_000994.PNG', 'frame_000995.PNG', 'frame_000996.PNG', 'frame_000997.PNG', 'frame_000998.PNG', 'frame_000999.PNG', 'frame_001000.PNG', 'frame_001001.PNG', 'frame_001002.PNG', 'frame_001003.PNG', 'frame_001004.PNG', 'frame_001005.PNG', 'frame_001006.PNG', 'frame_001007.PNG', 'frame_001008.PNG', 'frame_001009.PNG', 'frame_001010.PNG', 'frame_001011.PNG', 'frame_001012.PNG', 'frame_001013.PNG', 'frame_001014.PNG', 'frame_001015.PNG', 'frame_001016.PNG', 'frame_001017.PNG', 'frame_001018.PNG', 'frame_001019.PNG', 'frame_001020.PNG', 'frame_001021.PNG', 'frame_001022.PNG', 'frame_001023.PNG') tensor([1, 1, 1, 1, 1, 1, 1, 1, 1, 1, 1, 1, 1, 1, 1, 1, 1, 1, 1, 1, 1, 1, 1, 1,\n",
      "        1, 1, 1, 1, 1, 1, 1, 1], device='cuda:0')\n",
      "('frame_001024.PNG', 'frame_001025.PNG', 'frame_001026.PNG', 'frame_001027.PNG', 'frame_001028.PNG', 'frame_001029.PNG', 'frame_001030.PNG', 'frame_001031.PNG', 'frame_001032.PNG', 'frame_001033.PNG', 'frame_001034.PNG', 'frame_001035.PNG', 'frame_001036.PNG', 'frame_001037.PNG', 'frame_001038.PNG', 'frame_001039.PNG', 'frame_001040.PNG', 'frame_001041.PNG', 'frame_001042.PNG', 'frame_001043.PNG', 'frame_001044.PNG', 'frame_001045.PNG', 'frame_001046.PNG', 'frame_001047.PNG', 'frame_001048.PNG', 'frame_001049.PNG', 'frame_001050.PNG', 'frame_001051.PNG', 'frame_001052.PNG', 'frame_001053.PNG', 'frame_001054.PNG', 'frame_001055.PNG') tensor([1, 1, 1, 1, 1, 1, 1, 1, 1, 1, 1, 1, 1, 1, 1, 1, 1, 1, 1, 1, 1, 1, 1, 1,\n",
      "        1, 1, 1, 1, 1, 1, 1, 1], device='cuda:0')\n",
      "('frame_001056.PNG', 'frame_001057.PNG', 'frame_001058.PNG', 'frame_001059.PNG', 'frame_001060.PNG', 'frame_001061.PNG', 'frame_001062.PNG', 'frame_001063.PNG', 'frame_001064.PNG', 'frame_001065.PNG', 'frame_001066.PNG', 'frame_001067.PNG', 'frame_001068.PNG', 'frame_001069.PNG', 'frame_001070.PNG', 'frame_001071.PNG', 'frame_001072.PNG', 'frame_001073.PNG', 'frame_001074.PNG', 'frame_001075.PNG', 'frame_001076.PNG', 'frame_001077.PNG', 'frame_001078.PNG', 'frame_001079.PNG', 'frame_001080.PNG', 'frame_001081.PNG', 'frame_001082.PNG', 'frame_001083.PNG', 'frame_001084.PNG', 'frame_001085.PNG', 'frame_001086.PNG', 'frame_001087.PNG') tensor([1, 1, 1, 1, 1, 1, 1, 1, 1, 1, 1, 1, 1, 1, 1, 1, 1, 1, 1, 1, 1, 1, 1, 1,\n",
      "        1, 1, 1, 1, 1, 1, 1, 1], device='cuda:0')\n",
      "('frame_001088.PNG', 'frame_001089.PNG', 'frame_001090.PNG', 'frame_001091.PNG', 'frame_001092.PNG', 'frame_001093.PNG', 'frame_001094.PNG', 'frame_001095.PNG', 'frame_001096.PNG', 'frame_001097.PNG', 'frame_001098.PNG', 'frame_001099.PNG', 'frame_001100.PNG', 'frame_001101.PNG', 'frame_001102.PNG', 'frame_001103.PNG', 'frame_001104.PNG', 'frame_001105.PNG', 'frame_001106.PNG', 'frame_001107.PNG', 'frame_001108.PNG', 'frame_001109.PNG', 'frame_001110.PNG', 'frame_001111.PNG', 'frame_001112.PNG', 'frame_001113.PNG', 'frame_001114.PNG', 'frame_001115.PNG', 'frame_001116.PNG', 'frame_001117.PNG', 'frame_001118.PNG', 'frame_001119.PNG') tensor([1, 1, 1, 1, 1, 1, 1, 1, 1, 1, 1, 1, 1, 1, 1, 1, 1, 1, 1, 1, 1, 1, 1, 1,\n",
      "        1, 1, 1, 1, 1, 1, 1, 1], device='cuda:0')\n"
     ]
    },
    {
     "name": "stderr",
     "output_type": "stream",
     "text": [
      " 14%|█▍        | 41/296 [00:04<00:10, 25.30it/s]"
     ]
    },
    {
     "name": "stdout",
     "output_type": "stream",
     "text": [
      "('frame_001120.PNG', 'frame_001121.PNG', 'frame_001122.PNG', 'frame_001123.PNG', 'frame_001124.PNG', 'frame_001125.PNG', 'frame_001126.PNG', 'frame_001127.PNG', 'frame_001128.PNG', 'frame_001129.PNG', 'frame_001130.PNG', 'frame_001131.PNG', 'frame_001132.PNG', 'frame_001133.PNG', 'frame_001134.PNG', 'frame_001135.PNG', 'frame_001136.PNG', 'frame_001137.PNG', 'frame_001138.PNG', 'frame_001139.PNG', 'frame_001140.PNG', 'frame_001141.PNG', 'frame_001142.PNG', 'frame_001143.PNG', 'frame_001144.PNG', 'frame_001145.PNG', 'frame_001146.PNG', 'frame_001147.PNG', 'frame_001148.PNG', 'frame_001149.PNG', 'frame_001150.PNG', 'frame_001151.PNG') tensor([1, 1, 1, 1, 1, 1, 1, 1, 1, 1, 1, 1, 1, 1, 1, 1, 1, 1, 1, 1, 1, 1, 1, 1,\n",
      "        1, 1, 1, 1, 1, 1, 1, 1], device='cuda:0')\n",
      "('frame_001152.PNG', 'frame_001153.PNG', 'frame_001154.PNG', 'frame_001155.PNG', 'frame_001156.PNG', 'frame_001157.PNG', 'frame_001158.PNG', 'frame_001159.PNG', 'frame_001160.PNG', 'frame_001161.PNG', 'frame_001162.PNG', 'frame_001163.PNG', 'frame_001164.PNG', 'frame_001165.PNG', 'frame_001166.PNG', 'frame_001167.PNG', 'frame_001168.PNG', 'frame_001169.PNG', 'frame_001170.PNG', 'frame_001171.PNG', 'frame_001172.PNG', 'frame_001173.PNG', 'frame_001174.PNG', 'frame_001175.PNG', 'frame_001176.PNG', 'frame_001177.PNG', 'frame_001178.PNG', 'frame_001179.PNG', 'frame_001180.PNG', 'frame_001181.PNG', 'frame_001182.PNG', 'frame_001183.PNG') tensor([1, 1, 1, 1, 1, 1, 1, 1, 1, 1, 1, 1, 1, 1, 1, 1, 1, 1, 1, 1, 1, 1, 1, 1,\n",
      "        1, 1, 1, 1, 1, 1, 1, 1], device='cuda:0')\n",
      "('frame_001184.PNG', 'frame_001185.PNG', 'frame_001186.PNG', 'frame_001187.PNG', 'frame_001188.PNG', 'frame_001189.PNG', 'frame_001190.PNG', 'frame_001191.PNG', 'frame_001192.PNG', 'frame_001193.PNG', 'frame_001194.PNG', 'frame_001195.PNG', 'frame_001196.PNG', 'frame_001197.PNG', 'frame_001198.PNG', 'frame_001199.PNG', 'frame_001200.PNG', 'frame_001201.PNG', 'frame_001202.PNG', 'frame_001203.PNG', 'frame_001204.PNG', 'frame_001205.PNG', 'frame_001206.PNG', 'frame_001207.PNG', 'frame_001208.PNG', 'frame_001209.PNG', 'frame_001210.PNG', 'frame_001211.PNG', 'frame_001212.PNG', 'frame_001213.PNG', 'frame_001214.PNG', 'frame_001215.PNG') tensor([1, 1, 1, 1, 1, 1, 1, 1, 1, 1, 1, 1, 1, 1, 1, 1, 1, 1, 1, 1, 1, 1, 1, 1,\n",
      "        1, 1, 1, 1, 1, 1, 1, 1], device='cuda:0')\n",
      "('frame_001216.PNG', 'frame_001217.PNG', 'frame_001218.PNG', 'frame_001219.PNG', 'frame_001220.PNG', 'frame_001221.PNG', 'frame_001222.PNG', 'frame_001223.PNG', 'frame_001224.PNG', 'frame_001225.PNG', 'frame_001226.PNG', 'frame_001227.PNG', 'frame_001228.PNG', 'frame_001229.PNG', 'frame_001230.PNG', 'frame_001231.PNG', 'frame_001232.PNG', 'frame_001233.PNG', 'frame_001234.PNG', 'frame_001235.PNG', 'frame_001236.PNG', 'frame_001237.PNG', 'frame_001238.PNG', 'frame_001239.PNG', 'frame_001240.PNG', 'frame_001241.PNG', 'frame_001242.PNG', 'frame_001243.PNG', 'frame_001244.PNG', 'frame_001245.PNG', 'frame_001246.PNG', 'frame_001247.PNG') tensor([1, 1, 1, 1, 1, 1, 1, 1, 1, 1, 1, 1, 1, 1, 1, 1, 1, 1, 1, 1, 1, 1, 1, 1,\n",
      "        1, 1, 1, 1, 1, 1, 1, 1], device='cuda:0')\n",
      "('frame_001248.PNG', 'frame_001249.PNG', 'frame_001250.PNG', 'frame_001251.PNG', 'frame_001252.PNG', 'frame_001253.PNG', 'frame_001254.PNG', 'frame_001255.PNG', 'frame_001256.PNG', 'frame_001257.PNG', 'frame_001258.PNG', 'frame_001259.PNG', 'frame_001260.PNG', 'frame_001261.PNG', 'frame_001262.PNG', 'frame_001263.PNG', 'frame_001264.PNG', 'frame_001265.PNG', 'frame_001266.PNG', 'frame_001267.PNG', 'frame_001268.PNG', 'frame_001269.PNG', 'frame_001270.PNG', 'frame_001271.PNG', 'frame_001272.PNG', 'frame_001273.PNG', 'frame_001274.PNG', 'frame_001275.PNG', 'frame_001276.PNG', 'frame_001277.PNG', 'frame_001278.PNG', 'frame_001279.PNG') tensor([1, 1, 1, 1, 1, 1, 1, 1, 1, 1, 1, 1, 1, 1, 1, 1, 1, 1, 1, 1, 1, 1, 1, 1,\n",
      "        1, 1, 1, 1, 1, 1, 1, 1], device='cuda:0')\n",
      "('frame_001280.PNG', 'frame_001281.PNG', 'frame_001282.PNG', 'frame_001283.PNG', 'frame_001284.PNG', 'frame_001285.PNG', 'frame_001286.PNG', 'frame_001287.PNG', 'frame_001288.PNG', 'frame_001289.PNG', 'frame_001290.PNG', 'frame_001291.PNG', 'frame_001292.PNG', 'frame_001293.PNG', 'frame_001294.PNG', 'frame_001295.PNG', 'frame_001296.PNG', 'frame_001297.PNG', 'frame_001298.PNG', 'frame_001299.PNG', 'frame_001300.PNG', 'frame_001301.PNG', 'frame_001302.PNG', 'frame_001303.PNG', 'frame_001304.PNG', 'frame_001305.PNG', 'frame_001306.PNG', 'frame_001307.PNG', 'frame_001308.PNG', 'frame_001309.PNG', 'frame_001310.PNG', 'frame_001311.PNG') tensor([1, 1, 1, 1, 1, 1, 1, 1, 1, 1, 1, 1, 1, 1, 1, 1, 1, 1, 1, 1, 1, 1, 1, 1,\n",
      "        1, 1, 1, 1, 1, 1, 1, 1], device='cuda:0')\n"
     ]
    },
    {
     "name": "stderr",
     "output_type": "stream",
     "text": [
      " 15%|█▍        | 44/296 [00:04<00:09, 25.73it/s]"
     ]
    },
    {
     "name": "stdout",
     "output_type": "stream",
     "text": [
      "('frame_001312.PNG', 'frame_001313.PNG', 'frame_001314.PNG', 'frame_001315.PNG', 'frame_001316.PNG', 'frame_001317.PNG', 'frame_001318.PNG', 'frame_001319.PNG', 'frame_001320.PNG', 'frame_001321.PNG', 'frame_001322.PNG', 'frame_001323.PNG', 'frame_001324.PNG', 'frame_001325.PNG', 'frame_001326.PNG', 'frame_001327.PNG', 'frame_001328.PNG', 'frame_001329.PNG', 'frame_001330.PNG', 'frame_001331.PNG', 'frame_001332.PNG', 'frame_001333.PNG', 'frame_001334.PNG', 'frame_001335.PNG', 'frame_001336.PNG', 'frame_001337.PNG', 'frame_001338.PNG', 'frame_001339.PNG', 'frame_001340.PNG', 'frame_001341.PNG', 'frame_001342.PNG', 'frame_001343.PNG') tensor([1, 1, 1, 1, 1, 1, 1, 1, 1, 1, 1, 1, 1, 1, 1, 1, 1, 1, 1, 1, 1, 1, 1, 1,\n",
      "        1, 1, 1, 1, 1, 1, 1, 1], device='cuda:0')\n",
      "('frame_001344.PNG', 'frame_001345.PNG', 'frame_001346.PNG', 'frame_001347.PNG', 'frame_000000.PNG', 'frame_000001.PNG', 'frame_000002.PNG', 'frame_000003.PNG', 'frame_000004.PNG', 'frame_000005.PNG', 'frame_000006.PNG', 'frame_000007.PNG', 'frame_000008.PNG', 'frame_000009.PNG', 'frame_000010.PNG', 'frame_000011.PNG', 'frame_000012.PNG', 'frame_000013.PNG', 'frame_000014.PNG', 'frame_000015.PNG', 'frame_000016.PNG', 'frame_000017.PNG', 'frame_000018.PNG', 'frame_000019.PNG', 'frame_000020.PNG', 'frame_000021.PNG', 'frame_000022.PNG', 'frame_000023.PNG', 'frame_000024.PNG', 'frame_000025.PNG', 'frame_000026.PNG', 'frame_000027.PNG') tensor([1, 1, 1, 1, 1, 1, 1, 1, 1, 1, 1, 1, 1, 1, 1, 1, 1, 1, 1, 1, 1, 1, 1, 1,\n",
      "        1, 1, 1, 1, 1, 1, 1, 1], device='cuda:0')\n",
      "('frame_000028.PNG', 'frame_000029.PNG', 'frame_000030.PNG', 'frame_000031.PNG', 'frame_000032.PNG', 'frame_000033.PNG', 'frame_000034.PNG', 'frame_000035.PNG', 'frame_000036.PNG', 'frame_000037.PNG', 'frame_000038.PNG', 'frame_000039.PNG', 'frame_000040.PNG', 'frame_000041.PNG', 'frame_000042.PNG', 'frame_000043.PNG', 'frame_000044.PNG', 'frame_000045.PNG', 'frame_000046.PNG', 'frame_000047.PNG', 'frame_000048.PNG', 'frame_000049.PNG', 'frame_000050.PNG', 'frame_000051.PNG', 'frame_000052.PNG', 'frame_000053.PNG', 'frame_000054.PNG', 'frame_000055.PNG', 'frame_000056.PNG', 'frame_000057.PNG', 'frame_000058.PNG', 'frame_000059.PNG') tensor([1, 1, 1, 1, 1, 1, 1, 1, 1, 1, 1, 1, 1, 1, 1, 1, 1, 1, 1, 1, 1, 1, 1, 1,\n",
      "        1, 1, 1, 1, 1, 1, 1, 1], device='cuda:0')\n",
      "('frame_000060.PNG', 'frame_000061.PNG', 'frame_000062.PNG', 'frame_000063.PNG', 'frame_000064.PNG', 'frame_000065.PNG', 'frame_000066.PNG', 'frame_000067.PNG', 'frame_000068.PNG', 'frame_000069.PNG', 'frame_000070.PNG', 'frame_000071.PNG', 'frame_000072.PNG', 'frame_000073.PNG', 'frame_000074.PNG', 'frame_000075.PNG', 'frame_000076.PNG', 'frame_000077.PNG', 'frame_000078.PNG', 'frame_000079.PNG', 'frame_000080.PNG', 'frame_000081.PNG', 'frame_000082.PNG', 'frame_000083.PNG', 'frame_000084.PNG', 'frame_000085.PNG', 'frame_000086.PNG', 'frame_000087.PNG', 'frame_000088.PNG', 'frame_000089.PNG', 'frame_000090.PNG', 'frame_000091.PNG') tensor([1, 1, 1, 1, 1, 1, 1, 1, 1, 1, 1, 1, 1, 1, 1, 1, 1, 1, 1, 1, 1, 1, 1, 1,\n",
      "        1, 1, 1, 1, 1, 1, 1, 1], device='cuda:0')\n",
      "('frame_000092.PNG', 'frame_000093.PNG', 'frame_000094.PNG', 'frame_000095.PNG', 'frame_000096.PNG', 'frame_000097.PNG', 'frame_000098.PNG', 'frame_000099.PNG', 'frame_000100.PNG', 'frame_000101.PNG', 'frame_000102.PNG', 'frame_000103.PNG', 'frame_000104.PNG', 'frame_000105.PNG', 'frame_000106.PNG', 'frame_000107.PNG', 'frame_000108.PNG', 'frame_000109.PNG', 'frame_000110.PNG', 'frame_000111.PNG', 'frame_000112.PNG', 'frame_000113.PNG', 'frame_000114.PNG', 'frame_000115.PNG', 'frame_000116.PNG', 'frame_000117.PNG', 'frame_000118.PNG', 'frame_000119.PNG', 'frame_000120.PNG', 'frame_000121.PNG', 'frame_000122.PNG', 'frame_000123.PNG') tensor([1, 1, 1, 1, 1, 1, 1, 1, 1, 1, 1, 1, 1, 1, 1, 1, 1, 1, 1, 1, 1, 1, 1, 1,\n",
      "        1, 1, 1, 1, 1, 1, 1, 1], device='cuda:0')\n",
      "('frame_000124.PNG', 'frame_000125.PNG', 'frame_000126.PNG', 'frame_000127.PNG', 'frame_000128.PNG', 'frame_000129.PNG', 'frame_000130.PNG', 'frame_000131.PNG', 'frame_000132.PNG', 'frame_000133.PNG', 'frame_000134.PNG', 'frame_000135.PNG', 'frame_000136.PNG', 'frame_000137.PNG', 'frame_000138.PNG', 'frame_000139.PNG', 'frame_000140.PNG', 'frame_000141.PNG', 'frame_000142.PNG', 'frame_000143.PNG', 'frame_000144.PNG', 'frame_000145.PNG', 'frame_000146.PNG', 'frame_000147.PNG', 'frame_000148.PNG', 'frame_000149.PNG', 'frame_000150.PNG', 'frame_000151.PNG', 'frame_000152.PNG', 'frame_000153.PNG', 'frame_000154.PNG', 'frame_000155.PNG') tensor([1, 1, 1, 1, 1, 1, 1, 1, 1, 1, 1, 1, 1, 1, 1, 1, 1, 1, 1, 1, 1, 1, 1, 1,\n",
      "        1, 1, 1, 1, 1, 1, 1, 1], device='cuda:0')\n"
     ]
    },
    {
     "name": "stderr",
     "output_type": "stream",
     "text": [
      " 17%|█▋        | 50/296 [00:05<00:09, 26.09it/s]"
     ]
    },
    {
     "name": "stdout",
     "output_type": "stream",
     "text": [
      "('frame_000156.PNG', 'frame_000157.PNG', 'frame_000158.PNG', 'frame_000159.PNG', 'frame_000160.PNG', 'frame_000161.PNG', 'frame_000162.PNG', 'frame_000163.PNG', 'frame_000164.PNG', 'frame_000165.PNG', 'frame_000166.PNG', 'frame_000167.PNG', 'frame_000168.PNG', 'frame_000169.PNG', 'frame_000170.PNG', 'frame_000171.PNG', 'frame_000172.PNG', 'frame_000173.PNG', 'frame_000174.PNG', 'frame_000175.PNG', 'frame_000176.PNG', 'frame_000177.PNG', 'frame_000178.PNG', 'frame_000179.PNG', 'frame_000180.PNG', 'frame_000181.PNG', 'frame_000182.PNG', 'frame_000183.PNG', 'frame_000184.PNG', 'frame_000185.PNG', 'frame_000186.PNG', 'frame_000187.PNG') tensor([1, 1, 1, 1, 1, 1, 1, 1, 1, 1, 1, 1, 1, 1, 1, 1, 1, 1, 1, 1, 1, 1, 1, 1,\n",
      "        1, 1, 1, 1, 1, 1, 1, 1], device='cuda:0')\n",
      "('frame_000188.PNG', 'frame_000189.PNG', 'frame_000190.PNG', 'frame_000191.PNG', 'frame_000192.PNG', 'frame_000193.PNG', 'frame_000194.PNG', 'frame_000195.PNG', 'frame_000196.PNG', 'frame_000197.PNG', 'frame_000198.PNG', 'frame_000199.PNG', 'frame_000200.PNG', 'frame_000201.PNG', 'frame_000202.PNG', 'frame_000203.PNG', 'frame_000204.PNG', 'frame_000205.PNG', 'frame_000206.PNG', 'frame_000207.PNG', 'frame_000208.PNG', 'frame_000209.PNG', 'frame_000210.PNG', 'frame_000211.PNG', 'frame_000212.PNG', 'frame_000213.PNG', 'frame_000214.PNG', 'frame_000215.PNG', 'frame_000216.PNG', 'frame_000217.PNG', 'frame_000218.PNG', 'frame_000219.PNG') tensor([1, 1, 1, 1, 1, 1, 1, 1, 1, 1, 1, 1, 1, 1, 1, 1, 1, 1, 1, 1, 1, 1, 1, 1,\n",
      "        1, 1, 1, 1, 1, 1, 1, 1], device='cuda:0')\n",
      "('frame_000220.PNG', 'frame_000221.PNG', 'frame_000222.PNG', 'frame_000223.PNG', 'frame_000224.PNG', 'frame_000225.PNG', 'frame_000226.PNG', 'frame_000227.PNG', 'frame_000228.PNG', 'frame_000229.PNG', 'frame_000230.PNG', 'frame_000231.PNG', 'frame_000232.PNG', 'frame_000233.PNG', 'frame_000234.PNG', 'frame_000235.PNG', 'frame_000236.PNG', 'frame_000237.PNG', 'frame_000238.PNG', 'frame_000239.PNG', 'frame_000240.PNG', 'frame_000241.PNG', 'frame_000242.PNG', 'frame_000243.PNG', 'frame_000244.PNG', 'frame_000245.PNG', 'frame_000246.PNG', 'frame_000247.PNG', 'frame_000248.PNG', 'frame_000249.PNG', 'frame_000250.PNG', 'frame_000251.PNG') tensor([1, 1, 1, 1, 1, 1, 1, 1, 1, 1, 1, 1, 1, 1, 1, 1, 1, 1, 1, 1, 1, 1, 1, 1,\n",
      "        1, 1, 1, 1, 1, 1, 1, 1], device='cuda:0')\n",
      "('frame_000252.PNG', 'frame_000253.PNG', 'frame_000254.PNG', 'frame_000255.PNG', 'frame_000256.PNG', 'frame_000257.PNG', 'frame_000258.PNG', 'frame_000259.PNG', 'frame_000260.PNG', 'frame_000261.PNG', 'frame_000262.PNG', 'frame_000263.PNG', 'frame_000264.PNG', 'frame_000265.PNG', 'frame_000266.PNG', 'frame_000267.PNG', 'frame_000268.PNG', 'frame_000269.PNG', 'frame_000270.PNG', 'frame_000271.PNG', 'frame_000272.PNG', 'frame_000273.PNG', 'frame_000274.PNG', 'frame_000275.PNG', 'frame_000276.PNG', 'frame_000277.PNG', 'frame_000278.PNG', 'frame_000279.PNG', 'frame_000280.PNG', 'frame_000281.PNG', 'frame_000282.PNG', 'frame_000283.PNG') tensor([1, 1, 1, 1, 1, 1, 1, 1, 1, 1, 1, 1, 1, 1, 1, 1, 1, 1, 1, 1, 1, 1, 1, 1,\n",
      "        1, 1, 1, 1, 1, 1, 1, 1], device='cuda:0')\n",
      "('frame_000284.PNG', 'frame_000285.PNG', 'frame_000286.PNG', 'frame_000287.PNG', 'frame_000288.PNG', 'frame_000289.PNG', 'frame_000290.PNG', 'frame_000291.PNG', 'frame_000292.PNG', 'frame_000293.PNG', 'frame_000294.PNG', 'frame_000295.PNG', 'frame_000296.PNG', 'frame_000297.PNG', 'frame_000298.PNG', 'frame_000299.PNG', 'frame_000300.PNG', 'frame_000301.PNG', 'frame_000302.PNG', 'frame_000303.PNG', 'frame_000304.PNG', 'frame_000305.PNG', 'frame_000306.PNG', 'frame_000307.PNG', 'frame_000308.PNG', 'frame_000309.PNG', 'frame_000310.PNG', 'frame_000311.PNG', 'frame_000312.PNG', 'frame_000313.PNG', 'frame_000314.PNG', 'frame_000315.PNG') tensor([1, 1, 1, 1, 1, 1, 1, 1, 1, 1, 1, 1, 1, 1, 1, 1, 1, 1, 1, 1, 1, 1, 1, 1,\n",
      "        1, 1, 1, 1, 1, 1, 1, 1], device='cuda:0')\n",
      "('frame_000316.PNG', 'frame_000317.PNG', 'frame_000318.PNG', 'frame_000319.PNG', 'frame_000320.PNG', 'frame_000321.PNG', 'frame_000322.PNG', 'frame_000323.PNG', 'frame_000324.PNG', 'frame_000325.PNG', 'frame_000326.PNG', 'frame_000327.PNG', 'frame_000328.PNG', 'frame_000329.PNG', 'frame_000330.PNG', 'frame_000331.PNG', 'frame_000332.PNG', 'frame_000333.PNG', 'frame_000334.PNG', 'frame_000335.PNG', 'frame_000336.PNG', 'frame_000337.PNG', 'frame_000338.PNG', 'frame_000339.PNG', 'frame_000340.PNG', 'frame_000341.PNG', 'frame_000342.PNG', 'frame_000343.PNG', 'frame_000344.PNG', 'frame_000345.PNG', 'frame_000346.PNG', 'frame_000347.PNG') tensor([1, 1, 1, 1, 1, 1, 1, 1, 1, 1, 1, 1, 1, 1, 1, 1, 1, 1, 1, 1, 1, 1, 1, 1,\n",
      "        1, 1, 1, 1, 1, 1, 1, 1], device='cuda:0')\n"
     ]
    },
    {
     "name": "stderr",
     "output_type": "stream",
     "text": [
      " 20%|█▉        | 59/296 [00:05<00:08, 26.64it/s]"
     ]
    },
    {
     "name": "stdout",
     "output_type": "stream",
     "text": [
      "('frame_000348.PNG', 'frame_000349.PNG', 'frame_000350.PNG', 'frame_000351.PNG', 'frame_000352.PNG', 'frame_000353.PNG', 'frame_000354.PNG', 'frame_000355.PNG', 'frame_000356.PNG', 'frame_000357.PNG', 'frame_000358.PNG', 'frame_000359.PNG', 'frame_000360.PNG', 'frame_000361.PNG', 'frame_000362.PNG', 'frame_000363.PNG', 'frame_000364.PNG', 'frame_000365.PNG', 'frame_000366.PNG', 'frame_000367.PNG', 'frame_000368.PNG', 'frame_000369.PNG', 'frame_000370.PNG', 'frame_000371.PNG', 'frame_000372.PNG', 'frame_000373.PNG', 'frame_000374.PNG', 'frame_000375.PNG', 'frame_000376.PNG', 'frame_000377.PNG', 'frame_000378.PNG', 'frame_000379.PNG') tensor([1, 1, 1, 1, 1, 1, 1, 1, 1, 1, 1, 1, 1, 1, 1, 1, 1, 1, 1, 1, 1, 1, 1, 1,\n",
      "        1, 1, 1, 1, 1, 1, 1, 1], device='cuda:0')\n",
      "('frame_000380.PNG', 'frame_000381.PNG', 'frame_000382.PNG', 'frame_000383.PNG', 'frame_000384.PNG', 'frame_000385.PNG', 'frame_000386.PNG', 'frame_000387.PNG', 'frame_000388.PNG', 'frame_000389.PNG', 'frame_000390.PNG', 'frame_000391.PNG', 'frame_000392.PNG', 'frame_000393.PNG', 'frame_000394.PNG', 'frame_000395.PNG', 'frame_000396.PNG', 'frame_000397.PNG', 'frame_000398.PNG', 'frame_000399.PNG', 'frame_000400.PNG', 'frame_000401.PNG', 'frame_000402.PNG', 'frame_000403.PNG', 'frame_000404.PNG', 'frame_000405.PNG', 'frame_000406.PNG', 'frame_000407.PNG', 'frame_000408.PNG', 'frame_000409.PNG', 'frame_000410.PNG', 'frame_000411.PNG') tensor([1, 1, 1, 1, 1, 1, 1, 1, 1, 1, 1, 1, 1, 1, 1, 1, 1, 1, 1, 1, 1, 1, 1, 1,\n",
      "        1, 1, 1, 1, 1, 1, 1, 1], device='cuda:0')\n",
      "('frame_000412.PNG', 'frame_000413.PNG', 'frame_000414.PNG', 'frame_000415.PNG', 'frame_000416.PNG', 'frame_000417.PNG', 'frame_000418.PNG', 'frame_000419.PNG', 'frame_000420.PNG', 'frame_000421.PNG', 'frame_000422.PNG', 'frame_000423.PNG', 'frame_000424.PNG', 'frame_000425.PNG', 'frame_000426.PNG', 'frame_000427.PNG', 'frame_000428.PNG', 'frame_000429.PNG', 'frame_000430.PNG', 'frame_000431.PNG', 'frame_000432.PNG', 'frame_000433.PNG', 'frame_000434.PNG', 'frame_000435.PNG', 'frame_000436.PNG', 'frame_000437.PNG', 'frame_000438.PNG', 'frame_000439.PNG', 'frame_000440.PNG', 'frame_000441.PNG', 'frame_000442.PNG', 'frame_000443.PNG') tensor([1, 1, 1, 1, 1, 1, 1, 1, 1, 1, 1, 1, 1, 1, 1, 1, 1, 1, 1, 1, 1, 1, 1, 1,\n",
      "        1, 1, 1, 1, 1, 1, 1, 1], device='cuda:0')\n",
      "('frame_000444.PNG', 'frame_000445.PNG', 'frame_000446.PNG', 'frame_000447.PNG', 'frame_000448.PNG', 'frame_000449.PNG', 'frame_000450.PNG', 'frame_000451.PNG', 'frame_000452.PNG', 'frame_000453.PNG', 'frame_000454.PNG', 'frame_000455.PNG', 'frame_000456.PNG', 'frame_000457.PNG', 'frame_000458.PNG', 'frame_000459.PNG', 'frame_000460.PNG', 'frame_000461.PNG', 'frame_000462.PNG', 'frame_000463.PNG', 'frame_000464.PNG', 'frame_000465.PNG', 'frame_000466.PNG', 'frame_000467.PNG', 'frame_000468.PNG', 'frame_000469.PNG', 'frame_000470.PNG', 'frame_000471.PNG', 'frame_000472.PNG', 'frame_000473.PNG', 'frame_000474.PNG', 'frame_000475.PNG') tensor([1, 1, 1, 1, 1, 1, 1, 1, 1, 1, 1, 1, 1, 1, 1, 1, 1, 1, 1, 1, 1, 1, 1, 1,\n",
      "        1, 1, 1, 1, 1, 1, 1, 1], device='cuda:0')\n",
      "('frame_000476.PNG', 'frame_000477.PNG', 'frame_000478.PNG', 'frame_000479.PNG', 'frame_000480.PNG', 'frame_000481.PNG', 'frame_000482.PNG', 'frame_000483.PNG', 'frame_000484.PNG', 'frame_000485.PNG', 'frame_000486.PNG', 'frame_000487.PNG', 'frame_000488.PNG', 'frame_000489.PNG', 'frame_000490.PNG', 'frame_000491.PNG', 'frame_000492.PNG', 'frame_000493.PNG', 'frame_000494.PNG', 'frame_000495.PNG', 'frame_000496.PNG', 'frame_000497.PNG', 'frame_000498.PNG', 'frame_000499.PNG', 'frame_000500.PNG', 'frame_000501.PNG', 'frame_000502.PNG', 'frame_000503.PNG', 'frame_000504.PNG', 'frame_000505.PNG', 'frame_000506.PNG', 'frame_000507.PNG') tensor([1, 1, 1, 1, 1, 1, 1, 1, 1, 1, 1, 1, 1, 1, 1, 1, 1, 1, 1, 1, 1, 1, 1, 1,\n",
      "        1, 1, 1, 1, 1, 1, 1, 1], device='cuda:0')\n",
      "('frame_000508.PNG', 'frame_000509.PNG', 'frame_000510.PNG', 'frame_000511.PNG', 'frame_000512.PNG', 'frame_000513.PNG', 'frame_000514.PNG', 'frame_000515.PNG', 'frame_000516.PNG', 'frame_000517.PNG', 'frame_000518.PNG', 'frame_000519.PNG', 'frame_000520.PNG', 'frame_000521.PNG', 'frame_000522.PNG', 'frame_000523.PNG', 'frame_000524.PNG', 'frame_000525.PNG', 'frame_000526.PNG', 'frame_000527.PNG', 'frame_000528.PNG', 'frame_000529.PNG', 'frame_000530.PNG', 'frame_000531.PNG', 'frame_000532.PNG', 'frame_000533.PNG', 'frame_000534.PNG', 'frame_000535.PNG', 'frame_000536.PNG', 'frame_000537.PNG', 'frame_000538.PNG', 'frame_000539.PNG') tensor([1, 1, 1, 1, 1, 1, 1, 1, 1, 1, 1, 1, 1, 1, 1, 1, 1, 1, 1, 1, 1, 1, 1, 1,\n",
      "        1, 1, 1, 1, 1, 1, 1, 1], device='cuda:0')\n"
     ]
    },
    {
     "name": "stderr",
     "output_type": "stream",
     "text": [
      " 22%|██▏       | 65/296 [00:05<00:08, 26.99it/s]"
     ]
    },
    {
     "name": "stdout",
     "output_type": "stream",
     "text": [
      "('frame_000540.PNG', 'frame_000541.PNG', 'frame_000542.PNG', 'frame_000543.PNG', 'frame_000544.PNG', 'frame_000545.PNG', 'frame_000546.PNG', 'frame_000547.PNG', 'frame_000548.PNG', 'frame_000549.PNG', 'frame_000550.PNG', 'frame_000551.PNG', 'frame_000552.PNG', 'frame_000553.PNG', 'frame_000554.PNG', 'frame_000555.PNG', 'frame_000556.PNG', 'frame_000557.PNG', 'frame_000558.PNG', 'frame_000559.PNG', 'frame_000560.PNG', 'frame_000561.PNG', 'frame_000562.PNG', 'frame_000563.PNG', 'frame_000564.PNG', 'frame_000565.PNG', 'frame_000566.PNG', 'frame_000567.PNG', 'frame_000568.PNG', 'frame_000569.PNG', 'frame_000570.PNG', 'frame_000571.PNG') tensor([1, 1, 1, 1, 1, 1, 1, 1, 1, 1, 1, 1, 1, 1, 1, 1, 1, 1, 1, 1, 1, 1, 1, 1,\n",
      "        1, 1, 1, 1, 1, 1, 1, 1], device='cuda:0')\n",
      "('frame_000572.PNG', 'frame_000573.PNG', 'frame_000574.PNG', 'frame_000575.PNG', 'frame_000576.PNG', 'frame_000577.PNG', 'frame_000578.PNG', 'frame_000579.PNG', 'frame_000580.PNG', 'frame_000581.PNG', 'frame_000582.PNG', 'frame_000583.PNG', 'frame_000584.PNG', 'frame_000585.PNG', 'frame_000586.PNG', 'frame_000587.PNG', 'frame_000588.PNG', 'frame_000589.PNG', 'frame_000590.PNG', 'frame_000591.PNG', 'frame_000592.PNG', 'frame_000593.PNG', 'frame_000594.PNG', 'frame_000595.PNG', 'frame_000596.PNG', 'frame_000597.PNG', 'frame_000598.PNG', 'frame_000599.PNG', 'frame_000600.PNG', 'frame_000601.PNG', 'frame_000602.PNG', 'frame_000603.PNG') tensor([1, 1, 1, 1, 1, 1, 1, 1, 1, 1, 1, 1, 1, 1, 1, 1, 1, 1, 1, 1, 1, 1, 1, 1,\n",
      "        1, 1, 1, 1, 1, 1, 1, 1], device='cuda:0')\n",
      "('frame_000604.PNG', 'frame_000605.PNG', 'frame_000606.PNG', 'frame_000607.PNG', 'frame_000608.PNG', 'frame_000609.PNG', 'frame_000610.PNG', 'frame_000611.PNG', 'frame_000612.PNG', 'frame_000613.PNG', 'frame_000614.PNG', 'frame_000615.PNG', 'frame_000616.PNG', 'frame_000617.PNG', 'frame_000618.PNG', 'frame_000619.PNG', 'frame_000620.PNG', 'frame_000621.PNG', 'frame_000622.PNG', 'frame_000623.PNG', 'frame_000624.PNG', 'frame_000625.PNG', 'frame_000626.PNG', 'frame_000627.PNG', 'frame_000628.PNG', 'frame_000629.PNG', 'frame_000630.PNG', 'frame_000631.PNG', 'frame_000632.PNG', 'frame_000633.PNG', 'frame_000634.PNG', 'frame_000635.PNG') tensor([1, 1, 1, 1, 1, 1, 1, 1, 1, 1, 1, 1, 1, 1, 1, 1, 1, 1, 1, 1, 1, 1, 1, 1,\n",
      "        1, 1, 1, 1, 1, 1, 1, 1], device='cuda:0')\n",
      "('frame_000636.PNG', 'frame_000637.PNG', 'frame_000638.PNG', 'frame_000639.PNG', 'frame_000640.PNG', 'frame_000641.PNG', 'frame_000642.PNG', 'frame_000643.PNG', 'frame_000644.PNG', 'frame_000645.PNG', 'frame_000646.PNG', 'frame_000647.PNG', 'frame_000648.PNG', 'frame_000649.PNG', 'frame_000650.PNG', 'frame_000651.PNG', 'frame_000652.PNG', 'frame_000653.PNG', 'frame_000654.PNG', 'frame_000655.PNG', 'frame_000656.PNG', 'frame_000657.PNG', 'frame_000658.PNG', 'frame_000659.PNG', 'frame_000660.PNG', 'frame_000661.PNG', 'frame_000662.PNG', 'frame_000663.PNG', 'frame_000664.PNG', 'frame_000665.PNG', 'frame_000666.PNG', 'frame_000667.PNG') tensor([1, 1, 1, 1, 1, 1, 1, 1, 1, 1, 1, 1, 1, 1, 1, 1, 1, 1, 1, 1, 1, 1, 1, 1,\n",
      "        1, 1, 1, 1, 1, 1, 1, 1], device='cuda:0')\n",
      "('frame_000668.PNG', 'frame_000669.PNG', 'frame_000670.PNG', 'frame_000671.PNG', 'frame_000672.PNG', 'frame_000673.PNG', 'frame_000674.PNG', 'frame_000675.PNG', 'frame_000676.PNG', 'frame_000677.PNG', 'frame_000678.PNG', 'frame_000679.PNG', 'frame_000680.PNG', 'frame_000681.PNG', 'frame_000682.PNG', 'frame_000683.PNG', 'frame_000684.PNG', 'frame_000685.PNG', 'frame_000686.PNG', 'frame_000687.PNG', 'frame_000688.PNG', 'frame_000689.PNG', 'frame_000690.PNG', 'frame_000691.PNG', 'frame_000692.PNG', 'frame_000693.PNG', 'frame_000694.PNG', 'frame_000695.PNG', 'frame_000696.PNG', 'frame_000697.PNG', 'frame_000698.PNG', 'frame_000699.PNG') tensor([1, 1, 1, 1, 1, 1, 1, 1, 1, 1, 1, 1, 1, 1, 1, 1, 1, 1, 1, 1, 1, 1, 1, 1,\n",
      "        1, 1, 1, 1, 1, 1, 1, 1], device='cuda:0')\n",
      "('frame_000700.PNG', 'frame_000701.PNG', 'frame_000702.PNG', 'frame_000703.PNG', 'frame_000704.PNG', 'frame_000705.PNG', 'frame_000706.PNG', 'frame_000707.PNG', 'frame_000708.PNG', 'frame_000709.PNG', 'frame_000710.PNG', 'frame_000711.PNG', 'frame_000712.PNG', 'frame_000713.PNG', 'frame_000714.PNG', 'frame_000715.PNG', 'frame_000716.PNG', 'frame_000717.PNG', 'frame_000718.PNG', 'frame_000719.PNG', 'frame_000720.PNG', 'frame_000721.PNG', 'frame_000722.PNG', 'frame_000723.PNG', 'frame_000724.PNG', 'frame_000725.PNG', 'frame_000726.PNG', 'frame_000727.PNG', 'frame_000728.PNG', 'frame_000729.PNG', 'frame_000730.PNG', 'frame_000731.PNG') tensor([1, 1, 1, 1, 1, 1, 1, 1, 1, 1, 1, 1, 1, 1, 1, 1, 1, 1, 1, 1, 1, 1, 1, 1,\n",
      "        1, 1, 1, 1, 1, 1, 1, 1], device='cuda:0')\n"
     ]
    },
    {
     "name": "stderr",
     "output_type": "stream",
     "text": [
      " 23%|██▎       | 68/296 [00:05<00:08, 26.89it/s]"
     ]
    },
    {
     "name": "stdout",
     "output_type": "stream",
     "text": [
      "('frame_000732.PNG', 'frame_000733.PNG', 'frame_000734.PNG', 'frame_000735.PNG', 'frame_000736.PNG', 'frame_000737.PNG', 'frame_000738.PNG', 'frame_000739.PNG', 'frame_000740.PNG', 'frame_000741.PNG', 'frame_000742.PNG', 'frame_000743.PNG', 'frame_000744.PNG', 'frame_000745.PNG', 'frame_000746.PNG', 'frame_000747.PNG', 'frame_000748.PNG', 'frame_000749.PNG', 'frame_000750.PNG', 'frame_000751.PNG', 'frame_000752.PNG', 'frame_000753.PNG', 'frame_000754.PNG', 'frame_000755.PNG', 'frame_000756.PNG', 'frame_000757.PNG', 'frame_000758.PNG', 'frame_000759.PNG', 'frame_000760.PNG', 'frame_000761.PNG', 'frame_000762.PNG', 'frame_000763.PNG') tensor([1, 1, 1, 1, 1, 1, 1, 1, 1, 1, 1, 1, 1, 1, 1, 1, 1, 1, 1, 1, 1, 1, 1, 1,\n",
      "        1, 1, 1, 1, 1, 1, 1, 1], device='cuda:0')\n",
      "('frame_000764.PNG', 'frame_000765.PNG', 'frame_000766.PNG', 'frame_000767.PNG', 'frame_000768.PNG', 'frame_000769.PNG', 'frame_000770.PNG', 'frame_000771.PNG', 'frame_000772.PNG', 'frame_000773.PNG', 'frame_000774.PNG', 'frame_000775.PNG', 'frame_000776.PNG', 'frame_000777.PNG', 'frame_000778.PNG', 'frame_000779.PNG', 'frame_000780.PNG', 'frame_000781.PNG', 'frame_000782.PNG', 'frame_000783.PNG', 'frame_000784.PNG', 'frame_000785.PNG', 'frame_000786.PNG', 'frame_000787.PNG', 'frame_000788.PNG', 'frame_000789.PNG', 'frame_000790.PNG', 'frame_000791.PNG', 'frame_000792.PNG', 'frame_000793.PNG', 'frame_000794.PNG', 'frame_000795.PNG') tensor([1, 1, 1, 1, 1, 1, 1, 1, 1, 1, 1, 1, 1, 1, 1, 1, 1, 1, 1, 1, 1, 1, 1, 1,\n",
      "        1, 1, 1, 1, 1, 1, 1, 1], device='cuda:0')\n",
      "('frame_000796.PNG', 'frame_000797.PNG', 'frame_000798.PNG', 'frame_000799.PNG', 'frame_000800.PNG', 'frame_000801.PNG', 'frame_000802.PNG', 'frame_000803.PNG', 'frame_000804.PNG', 'frame_000805.PNG', 'frame_000806.PNG', 'frame_000807.PNG', 'frame_000808.PNG', 'frame_000809.PNG', 'frame_000810.PNG', 'frame_000811.PNG', 'frame_000812.PNG', 'frame_000813.PNG', 'frame_000814.PNG', 'frame_000815.PNG', 'frame_000816.PNG', 'frame_000817.PNG', 'frame_000818.PNG', 'frame_000819.PNG', 'frame_000820.PNG', 'frame_000821.PNG', 'frame_000822.PNG', 'frame_000823.PNG', 'frame_000824.PNG', 'frame_000825.PNG', 'frame_000826.PNG', 'frame_000827.PNG') tensor([1, 1, 1, 1, 1, 1, 1, 1, 1, 1, 1, 1, 1, 1, 1, 1, 1, 1, 1, 1, 1, 1, 1, 1,\n",
      "        1, 1, 1, 1, 1, 1, 1, 1], device='cuda:0')\n",
      "('frame_000828.PNG', 'frame_000829.PNG', 'frame_000830.PNG', 'frame_000831.PNG', 'frame_000832.PNG', 'frame_000833.PNG', 'frame_000834.PNG', 'frame_000835.PNG', 'frame_000836.PNG', 'frame_000837.PNG', 'frame_000838.PNG', 'frame_000839.PNG', 'frame_000840.PNG', 'frame_000841.PNG', 'frame_000842.PNG', 'frame_000843.PNG', 'frame_000844.PNG', 'frame_000845.PNG', 'frame_000846.PNG', 'frame_000847.PNG', 'frame_000848.PNG', 'frame_000849.PNG', 'frame_000850.PNG', 'frame_000851.PNG', 'frame_000852.PNG', 'frame_000853.PNG', 'frame_000854.PNG', 'frame_000855.PNG', 'frame_000856.PNG', 'frame_000857.PNG', 'frame_000858.PNG', 'frame_000859.PNG') tensor([1, 1, 1, 1, 1, 1, 1, 1, 1, 1, 1, 1, 1, 1, 1, 1, 1, 1, 1, 1, 1, 1, 1, 1,\n",
      "        1, 1, 1, 1, 1, 1, 1, 1], device='cuda:0')\n",
      "('frame_000860.PNG', 'frame_000861.PNG', 'frame_000862.PNG', 'frame_000863.PNG', 'frame_000864.PNG', 'frame_000865.PNG', 'frame_000866.PNG', 'frame_000867.PNG', 'frame_000868.PNG', 'frame_000869.PNG', 'frame_000870.PNG', 'frame_000871.PNG', 'frame_000872.PNG', 'frame_000873.PNG', 'frame_000874.PNG', 'frame_000875.PNG', 'frame_000876.PNG', 'frame_000877.PNG', 'frame_000878.PNG', 'frame_000879.PNG', 'frame_000880.PNG', 'frame_000881.PNG', 'frame_000882.PNG', 'frame_000883.PNG', 'frame_000884.PNG', 'frame_000885.PNG', 'frame_000886.PNG', 'frame_000887.PNG', 'frame_000888.PNG', 'frame_000889.PNG', 'frame_000890.PNG', 'frame_000891.PNG') tensor([1, 1, 1, 1, 1, 1, 1, 1, 1, 1, 1, 1, 1, 1, 1, 1, 1, 1, 1, 1, 1, 1, 1, 1,\n",
      "        1, 1, 1, 1, 1, 1, 1, 1], device='cuda:0')\n",
      "('frame_000892.PNG', 'frame_000893.PNG', 'frame_000894.PNG', 'frame_000895.PNG', 'frame_000896.PNG', 'frame_000897.PNG', 'frame_000898.PNG', 'frame_000899.PNG', 'frame_000900.PNG', 'frame_000901.PNG', 'frame_000902.PNG', 'frame_000903.PNG', 'frame_000904.PNG', 'frame_000905.PNG', 'frame_000906.PNG', 'frame_000907.PNG', 'frame_000908.PNG', 'frame_000909.PNG', 'frame_000910.PNG', 'frame_000911.PNG', 'frame_000912.PNG', 'frame_000913.PNG', 'frame_000914.PNG', 'frame_000915.PNG', 'frame_000916.PNG', 'frame_000917.PNG', 'frame_000918.PNG', 'frame_000919.PNG', 'frame_000920.PNG', 'frame_000921.PNG', 'frame_000922.PNG', 'frame_000923.PNG') tensor([1, 1, 1, 1, 1, 1, 1, 1, 1, 1, 1, 1, 1, 1, 1, 1, 1, 1, 1, 1, 1, 1, 1, 1,\n",
      "        1, 1, 1, 1, 1, 1, 1, 1], device='cuda:0')\n"
     ]
    },
    {
     "name": "stderr",
     "output_type": "stream",
     "text": [
      " 26%|██▌       | 77/296 [00:06<00:08, 27.11it/s]"
     ]
    },
    {
     "name": "stdout",
     "output_type": "stream",
     "text": [
      "('frame_000924.PNG', 'frame_000925.PNG', 'frame_000926.PNG', 'frame_000927.PNG', 'frame_000928.PNG', 'frame_000929.PNG', 'frame_000930.PNG', 'frame_000931.PNG', 'frame_000932.PNG', 'frame_000933.PNG', 'frame_000934.PNG', 'frame_000935.PNG', 'frame_000936.PNG', 'frame_000937.PNG', 'frame_000938.PNG', 'frame_000939.PNG', 'frame_000940.PNG', 'frame_000941.PNG', 'frame_000942.PNG', 'frame_000943.PNG', 'frame_000944.PNG', 'frame_000945.PNG', 'frame_000946.PNG', 'frame_000947.PNG', 'frame_000948.PNG', 'frame_000949.PNG', 'frame_000950.PNG', 'frame_000951.PNG', 'frame_000952.PNG', 'frame_000953.PNG', 'frame_000954.PNG', 'frame_000955.PNG') tensor([1, 1, 1, 1, 1, 1, 1, 1, 1, 1, 1, 1, 1, 1, 1, 1, 1, 1, 1, 1, 1, 1, 1, 1,\n",
      "        1, 1, 1, 1, 1, 1, 1, 1], device='cuda:0')\n",
      "('frame_000956.PNG', 'frame_000957.PNG', 'frame_000958.PNG', 'frame_000959.PNG', 'frame_000960.PNG', 'frame_000961.PNG', 'frame_000962.PNG', 'frame_000963.PNG', 'frame_000964.PNG', 'frame_000965.PNG', 'frame_000966.PNG', 'frame_000967.PNG', 'frame_000968.PNG', 'frame_000969.PNG', 'frame_000970.PNG', 'frame_000971.PNG', 'frame_000972.PNG', 'frame_000973.PNG', 'frame_000974.PNG', 'frame_000975.PNG', 'frame_000976.PNG', 'frame_000977.PNG', 'frame_000978.PNG', 'frame_000979.PNG', 'frame_000980.PNG', 'frame_000981.PNG', 'frame_000982.PNG', 'frame_000983.PNG', 'frame_000984.PNG', 'frame_000985.PNG', 'frame_000986.PNG', 'frame_000987.PNG') tensor([1, 1, 1, 1, 1, 1, 1, 1, 1, 1, 1, 1, 1, 1, 1, 1, 1, 1, 1, 1, 1, 1, 1, 1,\n",
      "        1, 1, 1, 1, 1, 1, 1, 1], device='cuda:0')\n",
      "('frame_000988.PNG', 'frame_000989.PNG', 'frame_000990.PNG', 'frame_000991.PNG', 'frame_000992.PNG', 'frame_000993.PNG', 'frame_000994.PNG', 'frame_000995.PNG', 'frame_000996.PNG', 'frame_000997.PNG', 'frame_000998.PNG', 'frame_000999.PNG', 'frame_001000.PNG', 'frame_001001.PNG', 'frame_001002.PNG', 'frame_001003.PNG', 'frame_001004.PNG', 'frame_001005.PNG', 'frame_001006.PNG', 'frame_001007.PNG', 'frame_001008.PNG', 'frame_001009.PNG', 'frame_001010.PNG', 'frame_001011.PNG', 'frame_001012.PNG', 'frame_001013.PNG', 'frame_001014.PNG', 'frame_001015.PNG', 'frame_001016.PNG', 'frame_001017.PNG', 'frame_001018.PNG', 'frame_001019.PNG') tensor([1, 1, 1, 1, 1, 1, 1, 1, 1, 1, 1, 1, 1, 1, 1, 1, 1, 1, 1, 1, 1, 1, 1, 1,\n",
      "        1, 1, 1, 1, 1, 1, 1, 1], device='cuda:0')\n",
      "('frame_001020.PNG', 'frame_001021.PNG', 'frame_001022.PNG', 'frame_001023.PNG', 'frame_001024.PNG', 'frame_001025.PNG', 'frame_001026.PNG', 'frame_001027.PNG', 'frame_001028.PNG', 'frame_001029.PNG', 'frame_001030.PNG', 'frame_001031.PNG', 'frame_001032.PNG', 'frame_001033.PNG', 'frame_001034.PNG', 'frame_001035.PNG', 'frame_001036.PNG', 'frame_001037.PNG', 'frame_001038.PNG', 'frame_001039.PNG', 'frame_001040.PNG', 'frame_001041.PNG', 'frame_001042.PNG', 'frame_001043.PNG', 'frame_001044.PNG', 'frame_001045.PNG', 'frame_001046.PNG', 'frame_001047.PNG', 'frame_001048.PNG', 'frame_001049.PNG', 'frame_001050.PNG', 'frame_001051.PNG') tensor([1, 1, 1, 1, 1, 1, 1, 1, 1, 1, 1, 1, 1, 1, 1, 1, 1, 1, 1, 1, 1, 1, 1, 1,\n",
      "        1, 1, 1, 1, 1, 1, 1, 1], device='cuda:0')\n",
      "('frame_001052.PNG', 'frame_001053.PNG', 'frame_001054.PNG', 'frame_001055.PNG', 'frame_001056.PNG', 'frame_001057.PNG', 'frame_001058.PNG', 'frame_001059.PNG', 'frame_001060.PNG', 'frame_001061.PNG', 'frame_001062.PNG', 'frame_001063.PNG', 'frame_001064.PNG', 'frame_001065.PNG', 'frame_001066.PNG', 'frame_001067.PNG', 'frame_001068.PNG', 'frame_001069.PNG', 'frame_001070.PNG', 'frame_001071.PNG', 'frame_001072.PNG', 'frame_001073.PNG', 'frame_001074.PNG', 'frame_001075.PNG', 'frame_001076.PNG', 'frame_001077.PNG', 'frame_001078.PNG', 'frame_001079.PNG', 'frame_001080.PNG', 'frame_001081.PNG', 'frame_001082.PNG', 'frame_001083.PNG') tensor([1, 1, 1, 1, 1, 1, 1, 1, 1, 1, 1, 1, 1, 1, 1, 1, 1, 1, 1, 1, 1, 1, 1, 1,\n",
      "        1, 1, 1, 1, 1, 1, 1, 1], device='cuda:0')\n",
      "('frame_001084.PNG', 'frame_001085.PNG', 'frame_001086.PNG', 'frame_001087.PNG', 'frame_001088.PNG', 'frame_001089.PNG', 'frame_001090.PNG', 'frame_001091.PNG', 'frame_001092.PNG', 'frame_001093.PNG', 'frame_001094.PNG', 'frame_001095.PNG', 'frame_001096.PNG', 'frame_001097.PNG', 'frame_001098.PNG', 'frame_001099.PNG', 'frame_001100.PNG', 'frame_001101.PNG', 'frame_001102.PNG', 'frame_001103.PNG', 'frame_001104.PNG', 'frame_001105.PNG', 'frame_001106.PNG', 'frame_001107.PNG', 'frame_001108.PNG', 'frame_001109.PNG', 'frame_001110.PNG', 'frame_001111.PNG', 'frame_001112.PNG', 'frame_001113.PNG', 'frame_001114.PNG', 'frame_001115.PNG') tensor([1, 1, 1, 1, 1, 1, 1, 1, 1, 1, 1, 1, 1, 1, 1, 1, 1, 1, 1, 1, 1, 1, 1, 1,\n",
      "        1, 1, 1, 1, 1, 1, 1, 1], device='cuda:0')\n"
     ]
    },
    {
     "name": "stderr",
     "output_type": "stream",
     "text": [
      " 28%|██▊       | 83/296 [00:06<00:07, 27.63it/s]"
     ]
    },
    {
     "name": "stdout",
     "output_type": "stream",
     "text": [
      "('frame_001116.PNG', 'frame_001117.PNG', 'frame_001118.PNG', 'frame_001119.PNG', 'frame_001120.PNG', 'frame_001121.PNG', 'frame_001122.PNG', 'frame_001123.PNG', 'frame_001124.PNG', 'frame_001125.PNG', 'frame_001126.PNG', 'frame_001127.PNG', 'frame_001128.PNG', 'frame_001129.PNG', 'frame_001130.PNG', 'frame_001131.PNG', 'frame_001132.PNG', 'frame_001133.PNG', 'frame_001134.PNG', 'frame_001135.PNG', 'frame_001136.PNG', 'frame_001137.PNG', 'frame_001138.PNG', 'frame_001139.PNG', 'frame_001140.PNG', 'frame_001141.PNG', 'frame_001142.PNG', 'frame_001143.PNG', 'frame_001144.PNG', 'frame_001145.PNG', 'frame_001146.PNG', 'frame_001147.PNG') tensor([1, 1, 1, 1, 1, 1, 1, 1, 1, 1, 1, 1, 1, 1, 1, 1, 1, 1, 1, 1, 1, 1, 1, 1,\n",
      "        1, 1, 1, 1, 1, 1, 1, 1], device='cuda:0')\n",
      "('frame_001148.PNG', 'frame_001149.PNG', 'frame_001150.PNG', 'frame_001151.PNG', 'frame_001152.PNG', 'frame_001153.PNG', 'frame_001154.PNG', 'frame_001155.PNG', 'frame_001156.PNG', 'frame_001157.PNG', 'frame_001158.PNG', 'frame_001159.PNG', 'frame_001160.PNG', 'frame_001161.PNG', 'frame_001162.PNG', 'frame_001163.PNG', 'frame_001164.PNG', 'frame_001165.PNG', 'frame_001166.PNG', 'frame_001167.PNG', 'frame_001168.PNG', 'frame_001169.PNG', 'frame_001170.PNG', 'frame_001171.PNG', 'frame_001172.PNG', 'frame_001173.PNG', 'frame_001174.PNG', 'frame_001175.PNG', 'frame_001176.PNG', 'frame_001177.PNG', 'frame_001178.PNG', 'frame_001179.PNG') tensor([1, 1, 1, 1, 1, 1, 1, 1, 1, 1, 1, 1, 1, 1, 1, 1, 1, 1, 1, 1, 1, 1, 1, 1,\n",
      "        1, 1, 1, 1, 1, 1, 1, 1], device='cuda:0')\n",
      "('frame_001180.PNG', 'frame_001181.PNG', 'frame_001182.PNG', 'frame_001183.PNG', 'frame_001184.PNG', 'frame_001185.PNG', 'frame_001186.PNG', 'frame_001187.PNG', 'frame_001188.PNG', 'frame_001189.PNG', 'frame_001190.PNG', 'frame_001191.PNG', 'frame_001192.PNG', 'frame_001193.PNG', 'frame_001194.PNG', 'frame_001195.PNG', 'frame_001196.PNG', 'frame_001197.PNG', 'frame_001198.PNG', 'frame_001199.PNG', 'frame_001200.PNG', 'frame_001201.PNG', 'frame_001202.PNG', 'frame_001203.PNG', 'frame_001204.PNG', 'frame_001205.PNG', 'frame_001206.PNG', 'frame_001207.PNG', 'frame_001208.PNG', 'frame_001209.PNG', 'frame_001210.PNG', 'frame_001211.PNG') tensor([1, 1, 1, 1, 1, 1, 1, 1, 1, 1, 1, 1, 1, 1, 1, 1, 1, 1, 1, 1, 1, 1, 1, 1,\n",
      "        1, 1, 1, 1, 1, 1, 1, 1], device='cuda:0')\n",
      "('frame_001212.PNG', 'frame_001213.PNG', 'frame_001214.PNG', 'frame_001215.PNG', 'frame_001216.PNG', 'frame_001217.PNG', 'frame_001218.PNG', 'frame_001219.PNG', 'frame_001220.PNG', 'frame_001221.PNG', 'frame_001222.PNG', 'frame_001223.PNG', 'frame_001224.PNG', 'frame_001225.PNG', 'frame_001226.PNG', 'frame_001227.PNG', 'frame_001228.PNG', 'frame_001229.PNG', 'frame_001230.PNG', 'frame_001231.PNG', 'frame_001232.PNG', 'frame_001233.PNG', 'frame_001234.PNG', 'frame_001235.PNG', 'frame_001236.PNG', 'frame_001237.PNG', 'frame_001238.PNG', 'frame_001239.PNG', 'frame_001240.PNG', 'frame_001241.PNG', 'frame_001242.PNG', 'frame_001243.PNG') tensor([1, 1, 1, 1, 1, 1, 1, 1, 1, 1, 1, 1, 1, 1, 1, 1, 1, 1, 1, 1, 1, 1, 1, 1,\n",
      "        1, 1, 1, 1, 1, 1, 1, 1], device='cuda:0')\n",
      "('frame_001244.PNG', 'frame_001245.PNG', 'frame_001246.PNG', 'frame_001247.PNG', 'frame_001248.PNG', 'frame_001249.PNG', 'frame_001250.PNG', 'frame_001251.PNG', 'frame_001252.PNG', 'frame_001253.PNG', 'frame_001254.PNG', 'frame_001255.PNG', 'frame_001256.PNG', 'frame_001257.PNG', 'frame_001258.PNG', 'frame_001259.PNG', 'frame_001260.PNG', 'frame_001261.PNG', 'frame_001262.PNG', 'frame_001263.PNG', 'frame_001264.PNG', 'frame_001265.PNG', 'frame_001266.PNG', 'frame_001267.PNG', 'frame_001268.PNG', 'frame_001269.PNG', 'frame_001270.PNG', 'frame_001271.PNG', 'frame_001272.PNG', 'frame_001273.PNG', 'frame_001274.PNG', 'frame_001275.PNG') tensor([1, 1, 1, 1, 1, 1, 1, 1, 1, 1, 1, 1, 1, 1, 1, 1, 1, 1, 1, 1, 1, 1, 1, 1,\n",
      "        1, 1, 1, 1, 1, 1, 1, 1], device='cuda:0')\n",
      "('frame_001276.PNG', 'frame_001277.PNG', 'frame_001278.PNG', 'frame_001279.PNG', 'frame_001280.PNG', 'frame_001281.PNG', 'frame_001282.PNG', 'frame_001283.PNG', 'frame_001284.PNG', 'frame_001285.PNG', 'frame_001286.PNG', 'frame_001287.PNG', 'frame_001288.PNG', 'frame_001289.PNG', 'frame_001290.PNG', 'frame_001291.PNG', 'frame_001292.PNG', 'frame_001293.PNG', 'frame_001294.PNG', 'frame_001295.PNG', 'frame_001296.PNG', 'frame_001297.PNG', 'frame_001298.PNG', 'frame_001299.PNG', 'frame_001300.PNG', 'frame_001301.PNG', 'frame_001302.PNG', 'frame_001303.PNG', 'frame_001304.PNG', 'frame_001305.PNG', 'frame_001306.PNG', 'frame_001307.PNG') tensor([1, 1, 1, 1, 1, 1, 1, 1, 1, 1, 1, 1, 1, 1, 1, 1, 1, 1, 1, 1, 1, 1, 1, 1,\n",
      "        1, 1, 1, 1, 1, 1, 1, 1], device='cuda:0')\n"
     ]
    },
    {
     "name": "stderr",
     "output_type": "stream",
     "text": [
      " 30%|███       | 89/296 [00:06<00:07, 27.25it/s]"
     ]
    },
    {
     "name": "stdout",
     "output_type": "stream",
     "text": [
      "('frame_001308.PNG', 'frame_001309.PNG', 'frame_001310.PNG', 'frame_001311.PNG', 'frame_001312.PNG', 'frame_001313.PNG', 'frame_001314.PNG', 'frame_001315.PNG', 'frame_001316.PNG', 'frame_001317.PNG', 'frame_001318.PNG', 'frame_001319.PNG', 'frame_001320.PNG', 'frame_001321.PNG', 'frame_001322.PNG', 'frame_001323.PNG', 'frame_001324.PNG', 'frame_001325.PNG', 'frame_001326.PNG', 'frame_001327.PNG', 'frame_001328.PNG', 'frame_001329.PNG', 'frame_001330.PNG', 'frame_001331.PNG', 'frame_001332.PNG', 'frame_001333.PNG', 'frame_001334.PNG', 'frame_001335.PNG', 'frame_001336.PNG', 'frame_001337.PNG', 'frame_001338.PNG', 'frame_001339.PNG') tensor([1, 1, 1, 1, 1, 1, 1, 1, 1, 1, 1, 1, 1, 1, 1, 1, 1, 1, 1, 1, 1, 1, 1, 1,\n",
      "        1, 1, 1, 1, 1, 1, 1, 1], device='cuda:0')\n",
      "('frame_001340.PNG', 'frame_001341.PNG', 'frame_001342.PNG', 'frame_001343.PNG', 'frame_001344.PNG', 'frame_001345.PNG', 'frame_001346.PNG', 'frame_001347.PNG', 'frame_001348.PNG', 'frame_001349.PNG', 'frame_001350.PNG', 'frame_001351.PNG', 'frame_001352.PNG', 'frame_001353.PNG', 'frame_001354.PNG', 'frame_001355.PNG', 'frame_001356.PNG', 'frame_001357.PNG', 'frame_001358.PNG', 'frame_001359.PNG', 'frame_001360.PNG', 'frame_001361.PNG', 'frame_001362.PNG', 'frame_001363.PNG', 'frame_001364.PNG', 'frame_001365.PNG', 'frame_001366.PNG', 'frame_001367.PNG', 'frame_001368.PNG', 'frame_001369.PNG', 'frame_001370.PNG', 'frame_001371.PNG') tensor([1, 1, 1, 1, 1, 1, 1, 1, 1, 1, 1, 1, 1, 1, 1, 1, 1, 1, 1, 1, 1, 1, 1, 1,\n",
      "        1, 1, 1, 1, 1, 1, 1, 1], device='cuda:0')\n",
      "('frame_001372.PNG', 'frame_001373.PNG', 'frame_001374.PNG', 'frame_001375.PNG', 'frame_001376.PNG', 'frame_001377.PNG', 'frame_001378.PNG', 'frame_001379.PNG', 'frame_001380.PNG', 'frame_001381.PNG', 'frame_001382.PNG', 'frame_001383.PNG', 'frame_001384.PNG', 'frame_001385.PNG', 'frame_001386.PNG', 'frame_001387.PNG', 'frame_001388.PNG', 'frame_001389.PNG', 'frame_001390.PNG', 'frame_001391.PNG', 'frame_001392.PNG', 'frame_001393.PNG', 'frame_001394.PNG', 'frame_001395.PNG', 'frame_001396.PNG', 'frame_001397.PNG', 'frame_001398.PNG', 'frame_001399.PNG', 'frame_001400.PNG', 'frame_001401.PNG', 'frame_001402.PNG', 'frame_001403.PNG') tensor([1, 1, 1, 1, 1, 1, 1, 1, 1, 1, 1, 1, 1, 1, 1, 1, 1, 1, 1, 1, 1, 1, 1, 1,\n",
      "        1, 1, 1, 1, 1, 1, 1, 1], device='cuda:0')\n",
      "('frame_001404.PNG', 'frame_001405.PNG', 'frame_001406.PNG', 'frame_001407.PNG', 'frame_001408.PNG', 'frame_001409.PNG', 'frame_001410.PNG', 'frame_001411.PNG', 'frame_001412.PNG', 'frame_001413.PNG', 'frame_001414.PNG', 'frame_001415.PNG', 'frame_001416.PNG', 'frame_001417.PNG', 'frame_001418.PNG', 'frame_001419.PNG', 'frame_001420.PNG', 'frame_001421.PNG', 'frame_001422.PNG', 'frame_001423.PNG', 'frame_001424.PNG', 'frame_001425.PNG', 'frame_001426.PNG', 'frame_001427.PNG', 'frame_001428.PNG', 'frame_001429.PNG', 'frame_001430.PNG', 'frame_001431.PNG', 'frame_001432.PNG', 'frame_001433.PNG', 'frame_001434.PNG', 'frame_001435.PNG') tensor([1, 1, 1, 1, 1, 1, 1, 1, 1, 1, 1, 1, 1, 1, 1, 1, 1, 1, 1, 1, 1, 1, 1, 1,\n",
      "        1, 1, 1, 1, 1, 1, 1, 1], device='cuda:0')\n",
      "('frame_001436.PNG', 'frame_001437.PNG', 'frame_001438.PNG', 'frame_001439.PNG', 'frame_001440.PNG', 'frame_001441.PNG', 'frame_001442.PNG', 'frame_001443.PNG', 'frame_001444.PNG', 'frame_001445.PNG', 'frame_001446.PNG', 'frame_001447.PNG', 'frame_001448.PNG', 'frame_001449.PNG', 'frame_001450.PNG', 'frame_001451.PNG', 'frame_001452.PNG', 'frame_001453.PNG', 'frame_001454.PNG', 'frame_001455.PNG', 'frame_001456.PNG', 'frame_001457.PNG', 'frame_001458.PNG', 'frame_001459.PNG', 'frame_001460.PNG', 'frame_001461.PNG', 'frame_001462.PNG', 'frame_001463.PNG', 'frame_001464.PNG', 'frame_001465.PNG', 'frame_001466.PNG', 'frame_001467.PNG') tensor([1, 1, 1, 1, 1, 1, 1, 1, 1, 1, 1, 1, 1, 1, 1, 1, 1, 1, 1, 1, 1, 1, 1, 1,\n",
      "        1, 1, 1, 1, 1, 1, 1, 1], device='cuda:0')\n",
      "('frame_001468.PNG', 'frame_001469.PNG', 'frame_001470.PNG', 'frame_001471.PNG', 'frame_001472.PNG', 'frame_001473.PNG', 'frame_001474.PNG', 'frame_001475.PNG', 'frame_001476.PNG', 'frame_001477.PNG', 'frame_001478.PNG', 'frame_001479.PNG', 'frame_001480.PNG', 'frame_001481.PNG', 'frame_001482.PNG', 'frame_001483.PNG', 'frame_001484.PNG', 'frame_001485.PNG', 'frame_001486.PNG', 'frame_001487.PNG', 'frame_001488.PNG', 'frame_001489.PNG', 'frame_001490.PNG', 'frame_001491.PNG', 'frame_001492.PNG', 'frame_001493.PNG', 'frame_001494.PNG', 'frame_001495.PNG', 'frame_001496.PNG', 'frame_001497.PNG', 'frame_001498.PNG', 'frame_001499.PNG') tensor([1, 1, 1, 1, 1, 1, 1, 1, 1, 1, 1, 1, 1, 1, 1, 1, 1, 1, 1, 1, 1, 1, 1, 1,\n",
      "        1, 1, 1, 1, 1, 1, 1, 1], device='cuda:0')\n"
     ]
    },
    {
     "name": "stderr",
     "output_type": "stream",
     "text": [
      " 32%|███▏      | 95/296 [00:06<00:07, 26.97it/s]"
     ]
    },
    {
     "name": "stdout",
     "output_type": "stream",
     "text": [
      "('frame_007999.PNG', 'frame_008000.PNG', 'frame_008001.PNG', 'frame_008002.PNG', 'frame_008003.PNG', 'frame_008004.PNG', 'frame_008005.PNG', 'frame_008006.PNG', 'frame_008007.PNG', 'frame_008008.PNG', 'frame_008009.PNG', 'frame_008010.PNG', 'frame_008011.PNG', 'frame_008012.PNG', 'frame_008013.PNG', 'frame_008014.PNG', 'frame_008015.PNG', 'frame_008016.PNG', 'frame_008017.PNG', 'frame_008018.PNG', 'frame_008019.PNG', 'frame_008020.PNG', 'frame_008021.PNG', 'frame_008022.PNG', 'frame_008023.PNG', 'frame_008024.PNG', 'frame_008025.PNG', 'frame_008026.PNG', 'frame_008027.PNG', 'frame_008028.PNG', 'frame_008029.PNG', 'frame_008030.PNG') tensor([1, 1, 1, 1, 1, 1, 1, 1, 1, 1, 1, 1, 1, 1, 1, 1, 1, 1, 1, 1, 1, 1, 1, 1,\n",
      "        1, 1, 1, 1, 1, 1, 1, 1], device='cuda:0')\n",
      "('frame_008031.PNG', 'frame_008032.PNG', 'frame_008033.PNG', 'frame_008034.PNG', 'frame_008035.PNG', 'frame_008036.PNG', 'frame_008037.PNG', 'frame_008038.PNG', 'frame_008039.PNG', 'frame_008040.PNG', 'frame_008041.PNG', 'frame_008042.PNG', 'frame_008043.PNG', 'frame_008044.PNG', 'frame_008045.PNG', 'frame_008046.PNG', 'frame_008047.PNG', 'frame_008048.PNG', 'frame_008049.PNG', 'frame_008050.PNG', 'frame_008051.PNG', 'frame_008052.PNG', 'frame_008053.PNG', 'frame_008054.PNG', 'frame_008055.PNG', 'frame_008056.PNG', 'frame_008057.PNG', 'frame_008058.PNG', 'frame_008059.PNG', 'frame_008060.PNG', 'frame_008061.PNG', 'frame_008062.PNG') tensor([1, 1, 1, 1, 1, 1, 1, 1, 1, 1, 1, 1, 1, 1, 1, 1, 1, 1, 1, 1, 1, 1, 1, 1,\n",
      "        1, 1, 1, 1, 1, 1, 1, 1], device='cuda:0')\n",
      "('frame_008063.PNG', 'frame_008064.PNG', 'frame_008065.PNG', 'frame_008066.PNG', 'frame_008067.PNG', 'frame_008068.PNG', 'frame_008069.PNG', 'frame_008070.PNG', 'frame_008071.PNG', 'frame_008072.PNG', 'frame_008073.PNG', 'frame_008074.PNG', 'frame_008075.PNG', 'frame_008076.PNG', 'frame_008077.PNG', 'frame_008078.PNG', 'frame_008079.PNG', 'frame_008080.PNG', 'frame_008081.PNG', 'frame_008082.PNG', 'frame_008083.PNG', 'frame_008084.PNG', 'frame_008085.PNG', 'frame_008086.PNG', 'frame_008087.PNG', 'frame_008088.PNG', 'frame_008089.PNG', 'frame_008090.PNG', 'frame_008091.PNG', 'frame_008092.PNG', 'frame_008093.PNG', 'frame_008094.PNG') tensor([1, 1, 1, 1, 1, 1, 1, 1, 1, 1, 1, 1, 1, 1, 1, 1, 1, 1, 1, 1, 1, 1, 1, 1,\n",
      "        1, 1, 1, 1, 1, 1, 1, 1], device='cuda:0')\n",
      "('frame_008095.PNG', 'frame_008096.PNG', 'frame_008097.PNG', 'frame_008098.PNG', 'frame_008099.PNG', 'frame_008100.PNG', 'frame_008101.PNG', 'frame_008102.PNG', 'frame_008103.PNG', 'frame_008104.PNG', 'frame_008105.PNG', 'frame_008106.PNG', 'frame_008107.PNG', 'frame_008108.PNG', 'frame_008109.PNG', 'frame_008110.PNG', 'frame_008111.PNG', 'frame_008112.PNG', 'frame_008113.PNG', 'frame_008114.PNG', 'frame_008115.PNG', 'frame_008116.PNG', 'frame_008117.PNG', 'frame_008118.PNG', 'frame_008119.PNG', 'frame_008120.PNG', 'frame_008121.PNG', 'frame_008122.PNG', 'frame_008123.PNG', 'frame_008124.PNG', 'frame_008125.PNG', 'frame_008126.PNG') tensor([1, 1, 1, 1, 1, 1, 1, 1, 1, 1, 1, 1, 1, 1, 1, 1, 1, 1, 1, 1, 1, 1, 1, 1,\n",
      "        1, 1, 1, 1, 1, 1, 1, 1], device='cuda:0')\n",
      "('frame_008127.PNG', 'frame_008128.PNG', 'frame_008129.PNG', 'frame_008130.PNG', 'frame_008131.PNG', 'frame_008132.PNG', 'frame_008133.PNG', 'frame_008134.PNG', 'frame_008135.PNG', 'frame_008136.PNG', 'frame_008137.PNG', 'frame_008138.PNG', 'frame_008139.PNG', 'frame_008140.PNG', 'frame_008141.PNG', 'frame_008142.PNG', 'frame_008143.PNG', 'frame_008144.PNG', 'frame_008145.PNG', 'frame_008146.PNG', 'frame_008147.PNG', 'frame_008148.PNG', 'frame_008149.PNG', 'frame_008150.PNG', 'frame_008151.PNG', 'frame_008152.PNG', 'frame_008153.PNG', 'frame_008154.PNG', 'frame_008155.PNG', 'frame_008156.PNG', 'frame_008157.PNG', 'frame_008158.PNG') tensor([1, 1, 1, 1, 1, 1, 1, 1, 1, 1, 1, 1, 1, 1, 1, 1, 1, 1, 1, 1, 1, 1, 1, 1,\n",
      "        1, 1, 1, 1, 1, 1, 1, 1], device='cuda:0')\n",
      "('frame_008159.PNG', 'frame_008160.PNG', 'frame_008161.PNG', 'frame_008162.PNG', 'frame_008163.PNG', 'frame_008164.PNG', 'frame_008165.PNG', 'frame_008166.PNG', 'frame_008167.PNG', 'frame_008168.PNG', 'frame_008169.PNG', 'frame_008170.PNG', 'frame_008171.PNG', 'frame_008172.PNG', 'frame_008173.PNG', 'frame_008174.PNG', 'frame_008175.PNG', 'frame_008176.PNG', 'frame_008177.PNG', 'frame_008178.PNG', 'frame_008179.PNG', 'frame_008180.PNG', 'frame_008181.PNG', 'frame_008182.PNG', 'frame_008183.PNG', 'frame_008184.PNG', 'frame_008185.PNG', 'frame_008186.PNG', 'frame_008187.PNG', 'frame_008188.PNG', 'frame_008189.PNG', 'frame_008190.PNG') tensor([1, 1, 1, 1, 1, 1, 1, 1, 1, 1, 1, 1, 1, 1, 1, 1, 1, 1, 1, 1, 1, 1, 1, 1,\n",
      "        1, 1, 1, 1, 1, 1, 1, 1], device='cuda:0')\n"
     ]
    },
    {
     "name": "stderr",
     "output_type": "stream",
     "text": [
      " 33%|███▎      | 98/296 [00:06<00:07, 26.77it/s]"
     ]
    },
    {
     "name": "stdout",
     "output_type": "stream",
     "text": [
      "('frame_008191.PNG', 'frame_008192.PNG', 'frame_008193.PNG', 'frame_008194.PNG', 'frame_008195.PNG', 'frame_008196.PNG', 'frame_008197.PNG', 'frame_008198.PNG', 'frame_008199.PNG', 'frame_008200.PNG', 'frame_008201.PNG', 'frame_008202.PNG', 'frame_008203.PNG', 'frame_008204.PNG', 'frame_008205.PNG', 'frame_008206.PNG', 'frame_008207.PNG', 'frame_008208.PNG', 'frame_008209.PNG', 'frame_008210.PNG', 'frame_008211.PNG', 'frame_008212.PNG', 'frame_008213.PNG', 'frame_008214.PNG', 'frame_008215.PNG', 'frame_008216.PNG', 'frame_008217.PNG', 'frame_008218.PNG', 'frame_008219.PNG', 'frame_008220.PNG', 'frame_008221.PNG', 'frame_008222.PNG') tensor([1, 1, 1, 1, 1, 1, 1, 1, 1, 1, 1, 1, 1, 1, 1, 1, 1, 1, 1, 1, 1, 1, 1, 1,\n",
      "        1, 1, 1, 1, 1, 1, 1, 1], device='cuda:0')\n",
      "('frame_008223.PNG', 'frame_008224.PNG', 'frame_008225.PNG', 'frame_008226.PNG', 'frame_008227.PNG', 'frame_008228.PNG', 'frame_008229.PNG', 'frame_008230.PNG', 'frame_008231.PNG', 'frame_008232.PNG', 'frame_008233.PNG', 'frame_008234.PNG', 'frame_008235.PNG', 'frame_008236.PNG', 'frame_008237.PNG', 'frame_008238.PNG', 'frame_008239.PNG', 'frame_008240.PNG', 'frame_008241.PNG', 'frame_008242.PNG', 'frame_008243.PNG', 'frame_008244.PNG', 'frame_008245.PNG', 'frame_008246.PNG', 'frame_008247.PNG', 'frame_008248.PNG', 'frame_008249.PNG', 'frame_008250.PNG', 'frame_008251.PNG', 'frame_008252.PNG', 'frame_008253.PNG', 'frame_008254.PNG') tensor([1, 1, 1, 1, 1, 1, 1, 1, 1, 1, 1, 1, 1, 1, 1, 1, 1, 1, 1, 1, 1, 1, 1, 1,\n",
      "        1, 1, 1, 1, 1, 1, 1, 1], device='cuda:0')\n",
      "('frame_008255.PNG', 'frame_008256.PNG', 'frame_008257.PNG', 'frame_008258.PNG', 'frame_008259.PNG', 'frame_008260.PNG', 'frame_008261.PNG', 'frame_008262.PNG', 'frame_008263.PNG', 'frame_008264.PNG', 'frame_008265.PNG', 'frame_008266.PNG', 'frame_008267.PNG', 'frame_008268.PNG', 'frame_008269.PNG', 'frame_008270.PNG', 'frame_008271.PNG', 'frame_008272.PNG', 'frame_008273.PNG', 'frame_008274.PNG', 'frame_008275.PNG', 'frame_008276.PNG', 'frame_008277.PNG', 'frame_008278.PNG', 'frame_008279.PNG', 'frame_008280.PNG', 'frame_008281.PNG', 'frame_008282.PNG', 'frame_008283.PNG', 'frame_008284.PNG', 'frame_008285.PNG', 'frame_008286.PNG') tensor([1, 1, 1, 1, 1, 1, 1, 1, 1, 1, 1, 1, 1, 1, 1, 1, 1, 1, 1, 1, 1, 1, 1, 1,\n",
      "        1, 1, 1, 1, 1, 1, 1, 1], device='cuda:0')\n",
      "('frame_008287.PNG', 'frame_008288.PNG', 'frame_008289.PNG', 'frame_008290.PNG', 'frame_008291.PNG', 'frame_008292.PNG', 'frame_008293.PNG', 'frame_008294.PNG', 'frame_008295.PNG', 'frame_008296.PNG', 'frame_008297.PNG', 'frame_008298.PNG', 'frame_008299.PNG', 'frame_008300.PNG', 'frame_008301.PNG', 'frame_008302.PNG', 'frame_008303.PNG', 'frame_008304.PNG', 'frame_008305.PNG', 'frame_008306.PNG', 'frame_008307.PNG', 'frame_008308.PNG', 'frame_008309.PNG', 'frame_008310.PNG', 'frame_008311.PNG', 'frame_008312.PNG', 'frame_008313.PNG', 'frame_008314.PNG', 'frame_008315.PNG', 'frame_008316.PNG', 'frame_008317.PNG', 'frame_008318.PNG') tensor([1, 1, 1, 1, 1, 1, 1, 1, 1, 1, 1, 1, 1, 1, 1, 1, 1, 1, 1, 1, 1, 1, 1, 1,\n",
      "        1, 1, 1, 1, 1, 1, 1, 1], device='cuda:0')\n",
      "('frame_008319.PNG', 'frame_008320.PNG', 'frame_008321.PNG', 'frame_008322.PNG', 'frame_008323.PNG', 'frame_008324.PNG', 'frame_008325.PNG', 'frame_008326.PNG', 'frame_008327.PNG', 'frame_008328.PNG', 'frame_008329.PNG', 'frame_008330.PNG', 'frame_008331.PNG', 'frame_008332.PNG', 'frame_008333.PNG', 'frame_008334.PNG', 'frame_008335.PNG', 'frame_008336.PNG', 'frame_008337.PNG', 'frame_008338.PNG', 'frame_008339.PNG', 'frame_008340.PNG', 'frame_008341.PNG', 'frame_008342.PNG', 'frame_008343.PNG', 'frame_008344.PNG', 'frame_008345.PNG', 'frame_008346.PNG', 'frame_008347.PNG', 'frame_008348.PNG', 'frame_008349.PNG', 'frame_008350.PNG') tensor([1, 1, 1, 1, 1, 1, 1, 1, 1, 1, 1, 1, 1, 1, 1, 1, 1, 1, 1, 1, 1, 1, 1, 1,\n",
      "        1, 1, 1, 1, 1, 1, 1, 1], device='cuda:0')\n",
      "('frame_008351.PNG', 'frame_008352.PNG', 'frame_008353.PNG', 'frame_008354.PNG', 'frame_008355.PNG', 'frame_008356.PNG', 'frame_008357.PNG', 'frame_008358.PNG', 'frame_008359.PNG', 'frame_008360.PNG', 'frame_008361.PNG', 'frame_008362.PNG', 'frame_008363.PNG', 'frame_008364.PNG', 'frame_008365.PNG', 'frame_008366.PNG', 'frame_008367.PNG', 'frame_008368.PNG', 'frame_008369.PNG', 'frame_008370.PNG', 'frame_008371.PNG', 'frame_008372.PNG', 'frame_008373.PNG', 'frame_008374.PNG', 'frame_008375.PNG', 'frame_008376.PNG', 'frame_008377.PNG', 'frame_008378.PNG', 'frame_008379.PNG', 'frame_008380.PNG', 'frame_008381.PNG', 'frame_008382.PNG') "
     ]
    },
    {
     "name": "stderr",
     "output_type": "stream",
     "text": [
      " 35%|███▌      | 104/296 [00:07<00:07, 26.77it/s]"
     ]
    },
    {
     "name": "stdout",
     "output_type": "stream",
     "text": [
      "tensor([1, 1, 1, 1, 1, 1, 1, 1, 1, 1, 1, 1, 1, 1, 1, 1, 1, 1, 1, 1, 1, 1, 1, 1,\n",
      "        1, 1, 1, 1, 1, 1, 1, 1], device='cuda:0')\n",
      "('frame_008383.PNG', 'frame_008384.PNG', 'frame_008385.PNG', 'frame_008386.PNG', 'frame_008387.PNG', 'frame_008388.PNG', 'frame_008389.PNG', 'frame_008390.PNG', 'frame_008391.PNG', 'frame_008392.PNG', 'frame_008393.PNG', 'frame_008394.PNG', 'frame_008395.PNG', 'frame_008396.PNG', 'frame_008397.PNG', 'frame_008398.PNG', 'frame_008399.PNG', 'frame_008400.PNG', 'frame_008401.PNG', 'frame_008402.PNG', 'frame_008403.PNG', 'frame_008404.PNG', 'frame_008405.PNG', 'frame_008406.PNG', 'frame_008407.PNG', 'frame_008408.PNG', 'frame_008409.PNG', 'frame_008410.PNG', 'frame_008411.PNG', 'frame_008412.PNG', 'frame_008413.PNG', 'frame_008414.PNG') tensor([1, 1, 1, 1, 1, 1, 1, 1, 1, 1, 1, 1, 1, 1, 1, 1, 1, 1, 1, 1, 1, 1, 1, 1,\n",
      "        1, 1, 1, 1, 1, 1, 1, 1], device='cuda:0')\n",
      "('frame_008415.PNG', 'frame_008416.PNG', 'frame_008417.PNG', 'frame_008418.PNG', 'frame_008419.PNG', 'frame_008420.PNG', 'frame_008421.PNG', 'frame_008422.PNG', 'frame_008423.PNG', 'frame_008424.PNG', 'frame_008425.PNG', 'frame_008426.PNG', 'frame_008427.PNG', 'frame_008428.PNG', 'frame_008429.PNG', 'frame_008430.PNG', 'frame_008431.PNG', 'frame_008432.PNG', 'frame_008433.PNG', 'frame_008434.PNG', 'frame_008435.PNG', 'frame_008436.PNG', 'frame_008437.PNG', 'frame_008438.PNG', 'frame_008439.PNG', 'frame_008440.PNG', 'frame_008441.PNG', 'frame_008442.PNG', 'frame_008443.PNG', 'frame_008444.PNG', 'frame_008445.PNG', 'frame_008446.PNG') tensor([1, 1, 1, 1, 1, 1, 1, 1, 1, 1, 1, 1, 1, 1, 1, 1, 1, 1, 1, 1, 1, 1, 1, 1,\n",
      "        1, 1, 1, 1, 1, 1, 1, 1], device='cuda:0')\n",
      "('frame_008447.PNG', 'frame_008448.PNG', 'frame_008449.PNG', 'frame_008450.PNG', 'frame_008451.PNG', 'frame_008452.PNG', 'frame_008453.PNG', 'frame_008454.PNG', 'frame_008455.PNG', 'frame_008456.PNG', 'frame_008457.PNG', 'frame_008458.PNG', 'frame_008459.PNG', 'frame_008460.PNG', 'frame_008461.PNG', 'frame_008462.PNG', 'frame_008463.PNG', 'frame_008464.PNG', 'frame_008465.PNG', 'frame_008466.PNG', 'frame_008467.PNG', 'frame_008468.PNG', 'frame_008469.PNG', 'frame_008470.PNG', 'frame_008471.PNG', 'frame_008472.PNG', 'frame_008473.PNG', 'frame_008474.PNG', 'frame_008475.PNG', 'frame_008476.PNG', 'frame_008477.PNG', 'frame_008478.PNG') tensor([1, 1, 1, 1, 1, 1, 1, 1, 1, 1, 1, 1, 1, 1, 1, 1, 1, 1, 1, 1, 1, 1, 1, 1,\n",
      "        1, 1, 1, 1, 1, 1, 1, 1], device='cuda:0')\n",
      "('frame_008479.PNG', 'frame_008480.PNG', 'frame_008481.PNG', 'frame_008482.PNG', 'frame_008483.PNG', 'frame_008484.PNG', 'frame_008485.PNG', 'frame_008486.PNG', 'frame_008487.PNG', 'frame_008488.PNG', 'frame_008489.PNG', 'frame_008490.PNG', 'frame_008491.PNG', 'frame_008492.PNG', 'frame_008493.PNG', 'frame_008494.PNG', 'frame_008495.PNG', 'frame_008496.PNG', 'frame_008497.PNG', 'frame_008498.PNG', 'frame_008499.PNG', 'frame_008500.PNG', 'frame_008501.PNG', 'frame_008502.PNG', 'frame_008503.PNG', 'frame_008504.PNG', 'frame_008505.PNG', 'frame_008506.PNG', 'frame_008507.PNG', 'frame_008508.PNG', 'frame_008509.PNG', 'frame_008510.PNG') tensor([1, 1, 1, 1, 1, 1, 1, 1, 1, 1, 1, 1, 1, 1, 1, 1, 1, 1, 1, 1, 1, 1, 1, 1,\n",
      "        1, 1, 1, 1, 1, 1, 1, 1], device='cuda:0')\n",
      "('frame_008511.PNG', 'frame_008512.PNG', 'frame_008513.PNG', 'frame_008514.PNG', 'frame_008515.PNG', 'frame_008516.PNG', 'frame_008517.PNG', 'frame_008518.PNG', 'frame_008519.PNG', 'frame_008520.PNG', 'frame_008521.PNG', 'frame_008522.PNG', 'frame_008523.PNG', 'frame_008524.PNG', 'frame_008525.PNG', 'frame_008526.PNG', 'frame_008527.PNG', 'frame_008528.PNG', 'frame_008529.PNG', 'frame_008530.PNG', 'frame_008531.PNG', 'frame_008532.PNG', 'frame_008533.PNG', 'frame_008534.PNG', 'frame_008535.PNG', 'frame_008536.PNG', 'frame_008537.PNG', 'frame_008538.PNG', 'frame_008539.PNG', 'frame_008540.PNG', 'frame_008541.PNG', 'frame_008542.PNG') tensor([1, 1, 1, 1, 1, 1, 1, 1, 1, 1, 1, 1, 1, 1, 1, 1, 1, 1, 1, 1, 1, 1, 1, 1,\n",
      "        1, 1, 1, 1, 1, 1, 1, 1], device='cuda:0')\n"
     ]
    },
    {
     "name": "stderr",
     "output_type": "stream",
     "text": [
      " 37%|███▋      | 110/296 [00:07<00:07, 26.02it/s]"
     ]
    },
    {
     "name": "stdout",
     "output_type": "stream",
     "text": [
      "('frame_008543.PNG', 'frame_008544.PNG', 'frame_008545.PNG', 'frame_008546.PNG', 'frame_008547.PNG', 'frame_008548.PNG', 'frame_008549.PNG', 'frame_008550.PNG', 'frame_008551.PNG', 'frame_008552.PNG', 'frame_008553.PNG', 'frame_008554.PNG', 'frame_008555.PNG', 'frame_008556.PNG', 'frame_008557.PNG', 'frame_008558.PNG', 'frame_008559.PNG', 'frame_008560.PNG', 'frame_008561.PNG', 'frame_008562.PNG', 'frame_008563.PNG', 'frame_008564.PNG', 'frame_008565.PNG', 'frame_008566.PNG', 'frame_008567.PNG', 'frame_008568.PNG', 'frame_008569.PNG', 'frame_008570.PNG', 'frame_008571.PNG', 'frame_008572.PNG', 'frame_008573.PNG', 'frame_008574.PNG') tensor([1, 1, 1, 1, 1, 1, 1, 1, 1, 1, 1, 1, 1, 1, 1, 1, 1, 1, 1, 1, 1, 1, 1, 1,\n",
      "        1, 1, 1, 1, 1, 1, 1, 1], device='cuda:0')\n",
      "('frame_008575.PNG', 'frame_008576.PNG', 'frame_008577.PNG', 'frame_008578.PNG', 'frame_008579.PNG', 'frame_008580.PNG', 'frame_008581.PNG', 'frame_008582.PNG', 'frame_008583.PNG', 'frame_008584.PNG', 'frame_008585.PNG', 'frame_008586.PNG', 'frame_008587.PNG', 'frame_008588.PNG', 'frame_008589.PNG', 'frame_008590.PNG', 'frame_008591.PNG', 'frame_008592.PNG', 'frame_008593.PNG', 'frame_008594.PNG', 'frame_008595.PNG', 'frame_008596.PNG', 'frame_008597.PNG', 'frame_008598.PNG', 'frame_008599.PNG', 'frame_008600.PNG', 'frame_008601.PNG', 'frame_008602.PNG', 'frame_008603.PNG', 'frame_008604.PNG', 'frame_008605.PNG', 'frame_008606.PNG') tensor([1, 1, 1, 1, 1, 1, 1, 1, 1, 1, 1, 1, 1, 1, 1, 1, 1, 1, 1, 1, 1, 1, 1, 1,\n",
      "        1, 1, 1, 1, 1, 1, 1, 1], device='cuda:0')\n",
      "('frame_008607.PNG', 'frame_008608.PNG', 'frame_008609.PNG', 'frame_008610.PNG', 'frame_008611.PNG', 'frame_008612.PNG', 'frame_008613.PNG', 'frame_008614.PNG', 'frame_008615.PNG', 'frame_008616.PNG', 'frame_008617.PNG', 'frame_008618.PNG', 'frame_008619.PNG', 'frame_008620.PNG', 'frame_008621.PNG', 'frame_008622.PNG', 'frame_008623.PNG', 'frame_008624.PNG', 'frame_008625.PNG', 'frame_008626.PNG', 'frame_008627.PNG', 'frame_008628.PNG', 'frame_008629.PNG', 'frame_008630.PNG', 'frame_008631.PNG', 'frame_008632.PNG', 'frame_008633.PNG', 'frame_008634.PNG', 'frame_008635.PNG', 'frame_008636.PNG', 'frame_008637.PNG', 'frame_008638.PNG') tensor([1, 1, 1, 1, 1, 1, 1, 1, 1, 1, 1, 1, 1, 1, 1, 1, 1, 1, 1, 1, 1, 1, 1, 1,\n",
      "        1, 1, 1, 1, 1, 1, 1, 1], device='cuda:0')\n",
      "('frame_008639.PNG', 'frame_008640.PNG', 'frame_008641.PNG', 'frame_008642.PNG', 'frame_008643.PNG', 'frame_008644.PNG', 'frame_008645.PNG', 'frame_008646.PNG', 'frame_008647.PNG', 'frame_008648.PNG', 'frame_008649.PNG', 'frame_008650.PNG', 'frame_008651.PNG', 'frame_008652.PNG', 'frame_008653.PNG', 'frame_008654.PNG', 'frame_008655.PNG', 'frame_008656.PNG', 'frame_008657.PNG', 'frame_008658.PNG', 'frame_008659.PNG', 'frame_008660.PNG', 'frame_008661.PNG', 'frame_008662.PNG', 'frame_008663.PNG', 'frame_008664.PNG', 'frame_008665.PNG', 'frame_008666.PNG', 'frame_008667.PNG', 'frame_008668.PNG', 'frame_008669.PNG', 'frame_008670.PNG') tensor([1, 1, 1, 1, 1, 1, 1, 1, 1, 1, 1, 1, 1, 1, 1, 1, 1, 1, 1, 1, 1, 1, 1, 1,\n",
      "        1, 1, 1, 1, 1, 1, 1, 1], device='cuda:0')\n",
      "('frame_008671.PNG', 'frame_008672.PNG', 'frame_008673.PNG', 'frame_008674.PNG', 'frame_008675.PNG', 'frame_008676.PNG', 'frame_008677.PNG', 'frame_008678.PNG', 'frame_008679.PNG', 'frame_008680.PNG', 'frame_008681.PNG', 'frame_008682.PNG', 'frame_008683.PNG', 'frame_008684.PNG', 'frame_008685.PNG', 'frame_008686.PNG', 'frame_008687.PNG', 'frame_008688.PNG', 'frame_008689.PNG', 'frame_008690.PNG', 'frame_008691.PNG', 'frame_008692.PNG', 'frame_008693.PNG', 'frame_008694.PNG', 'frame_008695.PNG', 'frame_008696.PNG', 'frame_008697.PNG', 'frame_008698.PNG', 'frame_008699.PNG', 'frame_008700.PNG', 'frame_008701.PNG', 'frame_008702.PNG') tensor([1, 1, 1, 1, 1, 1, 1, 1, 1, 1, 1, 1, 1, 1, 1, 1, 1, 1, 1, 1, 1, 1, 1, 1,\n",
      "        1, 1, 1, 1, 1, 1, 1, 1], device='cuda:0')\n",
      "('frame_008703.PNG', 'frame_008704.PNG', 'frame_008705.PNG', 'frame_008706.PNG', 'frame_008707.PNG', 'frame_008708.PNG', 'frame_008709.PNG', 'frame_008710.PNG', 'frame_008711.PNG', 'frame_008712.PNG', 'frame_008713.PNG', 'frame_008714.PNG', 'frame_008715.PNG', 'frame_008716.PNG', 'frame_008717.PNG', 'frame_008718.PNG', 'frame_008719.PNG', 'frame_008720.PNG', 'frame_008721.PNG', 'frame_008722.PNG', 'frame_008723.PNG', 'frame_008724.PNG', 'frame_008725.PNG', 'frame_008726.PNG', 'frame_008727.PNG', 'frame_008728.PNG', 'frame_008729.PNG', 'frame_008730.PNG', 'frame_008731.PNG', 'frame_008732.PNG', 'frame_008733.PNG', 'frame_008734.PNG') "
     ]
    },
    {
     "name": "stderr",
     "output_type": "stream",
     "text": [
      " 39%|███▉      | 116/296 [00:07<00:06, 26.45it/s]"
     ]
    },
    {
     "name": "stdout",
     "output_type": "stream",
     "text": [
      "tensor([1, 1, 1, 1, 1, 1, 1, 1, 1, 1, 1, 1, 1, 1, 1, 1, 1, 1, 1, 1, 1, 1, 1, 1,\n",
      "        1, 1, 1, 1, 1, 1, 1, 1], device='cuda:0')\n",
      "('frame_008735.PNG', 'frame_008736.PNG', 'frame_008737.PNG', 'frame_008738.PNG', 'frame_008739.PNG', 'frame_008740.PNG', 'frame_008741.PNG', 'frame_008742.PNG', 'frame_008743.PNG', 'frame_008744.PNG', 'frame_008745.PNG', 'frame_008746.PNG', 'frame_008747.PNG', 'frame_008748.PNG', 'frame_008749.PNG', 'frame_008750.PNG', 'frame_008751.PNG', 'frame_008752.PNG', 'frame_008753.PNG', 'frame_008754.PNG', 'frame_008755.PNG', 'frame_008756.PNG', 'frame_008757.PNG', 'frame_008758.PNG', 'frame_008759.PNG', 'frame_008760.PNG', 'frame_008761.PNG', 'frame_008762.PNG', 'frame_008763.PNG', 'frame_008764.PNG', 'frame_008765.PNG', 'frame_008766.PNG') tensor([1, 1, 1, 1, 1, 1, 1, 1, 1, 1, 1, 1, 1, 1, 1, 1, 1, 1, 1, 1, 1, 1, 1, 1,\n",
      "        1, 1, 1, 1, 1, 1, 1, 1], device='cuda:0')\n",
      "('frame_008767.PNG', 'frame_008768.PNG', 'frame_008769.PNG', 'frame_008770.PNG', 'frame_008771.PNG', 'frame_008772.PNG', 'frame_008773.PNG', 'frame_008774.PNG', 'frame_008775.PNG', 'frame_008776.PNG', 'frame_008777.PNG', 'frame_008778.PNG', 'frame_008779.PNG', 'frame_008780.PNG', 'frame_008781.PNG', 'frame_008782.PNG', 'frame_008783.PNG', 'frame_008784.PNG', 'frame_008785.PNG', 'frame_008786.PNG', 'frame_008787.PNG', 'frame_008788.PNG', 'frame_008789.PNG', 'frame_008790.PNG', 'frame_008791.PNG', 'frame_008792.PNG', 'frame_008793.PNG', 'frame_008794.PNG', 'frame_008795.PNG', 'frame_008796.PNG', 'frame_008797.PNG', 'frame_008798.PNG') tensor([1, 1, 1, 1, 1, 1, 1, 1, 1, 1, 1, 1, 1, 1, 1, 1, 1, 1, 1, 1, 1, 1, 1, 1,\n",
      "        1, 1, 1, 1, 1, 1, 1, 1], device='cuda:0')\n",
      "('frame_008799.PNG', 'frame_008800.PNG', 'frame_008801.PNG', 'frame_008802.PNG', 'frame_008803.PNG', 'frame_008804.PNG', 'frame_008805.PNG', 'frame_008806.PNG', 'frame_008807.PNG', 'frame_008808.PNG', 'frame_008809.PNG', 'frame_008810.PNG', 'frame_008811.PNG', 'frame_008812.PNG', 'frame_008813.PNG', 'frame_008814.PNG', 'frame_008815.PNG', 'frame_008816.PNG', 'frame_008817.PNG', 'frame_008818.PNG', 'frame_008819.PNG', 'frame_008820.PNG', 'frame_008821.PNG', 'frame_008822.PNG', 'frame_008823.PNG', 'frame_008824.PNG', 'frame_008825.PNG', 'frame_008826.PNG', 'frame_008827.PNG', 'frame_008828.PNG', 'frame_008829.PNG', 'frame_008830.PNG') tensor([1, 1, 1, 1, 1, 1, 1, 1, 1, 1, 1, 1, 1, 1, 1, 1, 1, 1, 1, 1, 1, 1, 1, 1,\n",
      "        1, 1, 1, 1, 1, 1, 1, 1], device='cuda:0')\n",
      "('frame_008831.PNG', 'frame_008832.PNG', 'frame_008833.PNG', 'frame_008834.PNG', 'frame_008835.PNG', 'frame_008836.PNG', 'frame_008837.PNG', 'frame_008838.PNG', 'frame_008839.PNG', 'frame_008840.PNG', 'frame_008841.PNG', 'frame_008842.PNG', 'frame_008843.PNG', 'frame_008844.PNG', 'frame_008845.PNG', 'frame_008846.PNG', 'frame_008847.PNG', 'frame_008848.PNG', 'frame_008849.PNG', 'frame_008850.PNG', 'frame_008851.PNG', 'frame_008852.PNG', 'frame_008853.PNG', 'frame_008854.PNG', 'frame_008855.PNG', 'frame_008856.PNG', 'frame_008857.PNG', 'frame_008858.PNG', 'frame_008859.PNG', 'frame_008860.PNG', 'frame_008861.PNG', 'frame_008862.PNG') tensor([1, 1, 1, 1, 1, 1, 1, 1, 1, 1, 1, 1, 1, 1, 1, 1, 1, 1, 1, 1, 1, 1, 1, 1,\n",
      "        1, 1, 1, 1, 1, 1, 1, 1], device='cuda:0')\n",
      "('frame_008863.PNG', 'frame_008864.PNG', 'frame_008865.PNG', 'frame_008866.PNG', 'frame_008867.PNG', 'frame_008868.PNG', 'frame_008869.PNG', 'frame_008870.PNG', 'frame_008871.PNG', 'frame_008872.PNG', 'frame_008873.PNG', 'frame_008874.PNG', 'frame_008875.PNG', 'frame_008876.PNG', 'frame_008877.PNG', 'frame_008878.PNG', 'frame_008879.PNG', 'frame_008880.PNG', 'frame_008881.PNG', 'frame_008882.PNG', 'frame_008883.PNG', 'frame_008884.PNG', 'frame_008885.PNG', 'frame_008886.PNG', 'frame_008887.PNG', 'frame_008888.PNG', 'frame_008889.PNG', 'frame_008890.PNG', 'frame_008891.PNG', 'frame_008892.PNG', 'frame_008893.PNG', 'frame_008894.PNG') tensor([1, 1, 1, 1, 1, 1, 1, 1, 1, 1, 1, 1, 1, 1, 1, 1, 1, 1, 1, 1, 1, 1, 1, 1,\n",
      "        1, 1, 1, 1, 1, 1, 1, 1], device='cuda:0')\n"
     ]
    },
    {
     "name": "stderr",
     "output_type": "stream",
     "text": [
      " 40%|████      | 119/296 [00:07<00:06, 26.45it/s]"
     ]
    },
    {
     "name": "stdout",
     "output_type": "stream",
     "text": [
      "('frame_008895.PNG', 'frame_008896.PNG', 'frame_008897.PNG', 'frame_008898.PNG', 'frame_008899.PNG', 'frame_008900.PNG', 'frame_008901.PNG', 'frame_008902.PNG', 'frame_008903.PNG', 'frame_008904.PNG', 'frame_008905.PNG', 'frame_008906.PNG', 'frame_008907.PNG', 'frame_008908.PNG', 'frame_008909.PNG', 'frame_008910.PNG', 'frame_008911.PNG', 'frame_008912.PNG', 'frame_008913.PNG', 'frame_008914.PNG', 'frame_008915.PNG', 'frame_008916.PNG', 'frame_008917.PNG', 'frame_008918.PNG', 'frame_008919.PNG', 'frame_008920.PNG', 'frame_008921.PNG', 'frame_008922.PNG', 'frame_008923.PNG', 'frame_008924.PNG', 'frame_008925.PNG', 'frame_008926.PNG') tensor([1, 1, 1, 1, 1, 1, 1, 1, 1, 1, 1, 1, 1, 1, 1, 1, 1, 1, 1, 1, 1, 1, 1, 1,\n",
      "        1, 1, 1, 1, 1, 1, 1, 1], device='cuda:0')\n",
      "('frame_008927.PNG', 'frame_008928.PNG', 'frame_008929.PNG', 'frame_008930.PNG', 'frame_008931.PNG', 'frame_008932.PNG', 'frame_008933.PNG', 'frame_008934.PNG', 'frame_008935.PNG', 'frame_008936.PNG', 'frame_008937.PNG', 'frame_008938.PNG', 'frame_008939.PNG', 'frame_008940.PNG', 'frame_008941.PNG', 'frame_008942.PNG', 'frame_008943.PNG', 'frame_008944.PNG', 'frame_008945.PNG', 'frame_008946.PNG', 'frame_008947.PNG', 'frame_008948.PNG', 'frame_008949.PNG', 'frame_008950.PNG', 'frame_008951.PNG', 'frame_008952.PNG', 'frame_008953.PNG', 'frame_008954.PNG', 'frame_008955.PNG', 'frame_008956.PNG', 'frame_008957.PNG', 'frame_008958.PNG') tensor([1, 1, 1, 1, 1, 1, 1, 1, 1, 1, 1, 1, 1, 1, 1, 1, 1, 1, 1, 1, 1, 1, 1, 1,\n",
      "        1, 1, 1, 1, 1, 1, 1, 1], device='cuda:0')\n",
      "('frame_008959.PNG', 'frame_008960.PNG', 'frame_008961.PNG', 'frame_008962.PNG', 'frame_008963.PNG', 'frame_008964.PNG', 'frame_008965.PNG', 'frame_008966.PNG', 'frame_008967.PNG', 'frame_008968.PNG', 'frame_008969.PNG', 'frame_008970.PNG', 'frame_008971.PNG', 'frame_008972.PNG', 'frame_008973.PNG', 'frame_008974.PNG', 'frame_008975.PNG', 'frame_008976.PNG', 'frame_008977.PNG', 'frame_008978.PNG', 'frame_008979.PNG', 'frame_008980.PNG', 'frame_008981.PNG', 'frame_008982.PNG', 'frame_008983.PNG', 'frame_008984.PNG', 'frame_008985.PNG', 'frame_008986.PNG', 'frame_008987.PNG', 'frame_008988.PNG', 'frame_008989.PNG', 'frame_008990.PNG') tensor([1, 1, 1, 1, 1, 1, 1, 1, 1, 1, 1, 1, 1, 1, 1, 1, 1, 1, 1, 1, 1, 1, 1, 1,\n",
      "        1, 1, 1, 1, 1, 1, 1, 1], device='cuda:0')\n",
      "('frame_008991.PNG', 'frame_008992.PNG', 'frame_008993.PNG', 'frame_008994.PNG', 'frame_008995.PNG', 'frame_008996.PNG', 'frame_008997.PNG', 'frame_008998.PNG', 'frame_008999.PNG', 'frame_009000.PNG', 'frame_009001.PNG', 'frame_009002.PNG', 'frame_009003.PNG', 'frame_009004.PNG', 'frame_009005.PNG', 'frame_009006.PNG', 'frame_009007.PNG', 'frame_009008.PNG', 'frame_009009.PNG', 'frame_009010.PNG', 'frame_009011.PNG', 'frame_009012.PNG', 'frame_009013.PNG', 'frame_009014.PNG', 'frame_009015.PNG', 'frame_009016.PNG', 'frame_009017.PNG', 'frame_009018.PNG', 'frame_001300.PNG', 'frame_001301.PNG', 'frame_001302.PNG', 'frame_001303.PNG') tensor([1, 1, 1, 1, 1, 1, 1, 1, 1, 1, 1, 1, 1, 1, 1, 1, 1, 1, 1, 1, 1, 1, 1, 1,\n",
      "        1, 1, 1, 1, 1, 1, 1, 1], device='cuda:0')\n",
      "('frame_001304.PNG', 'frame_001305.PNG', 'frame_001306.PNG', 'frame_001307.PNG', 'frame_001308.PNG', 'frame_001309.PNG', 'frame_001310.PNG', 'frame_001311.PNG', 'frame_001312.PNG', 'frame_001313.PNG', 'frame_001314.PNG', 'frame_001315.PNG', 'frame_001316.PNG', 'frame_001317.PNG', 'frame_001318.PNG', 'frame_001319.PNG', 'frame_001320.PNG', 'frame_001321.PNG', 'frame_001322.PNG', 'frame_001323.PNG', 'frame_001324.PNG', 'frame_001325.PNG', 'frame_001326.PNG', 'frame_001327.PNG', 'frame_001328.PNG', 'frame_001329.PNG', 'frame_001330.PNG', 'frame_001331.PNG', 'frame_001332.PNG', 'frame_001333.PNG', 'frame_001334.PNG', 'frame_001335.PNG') "
     ]
    },
    {
     "name": "stderr",
     "output_type": "stream",
     "text": [
      " 42%|████▏     | 125/296 [00:07<00:07, 22.23it/s]"
     ]
    },
    {
     "name": "stdout",
     "output_type": "stream",
     "text": [
      "tensor([1, 1, 1, 1, 1, 1, 1, 1, 1, 1, 1, 1, 1, 1, 1, 1, 1, 1, 1, 1, 1, 1, 1, 1,\n",
      "        1, 1, 1, 1, 1, 1, 1, 1], device='cuda:0')\n",
      "('frame_001336.PNG', 'frame_001337.PNG', 'frame_001338.PNG', 'frame_001339.PNG', 'frame_001340.PNG', 'frame_001341.PNG', 'frame_001342.PNG', 'frame_001343.PNG', 'frame_001344.PNG', 'frame_001345.PNG', 'frame_001346.PNG', 'frame_001347.PNG', 'frame_001348.PNG', 'frame_001349.PNG', 'frame_001350.PNG', 'frame_001351.PNG', 'frame_001352.PNG', 'frame_001353.PNG', 'frame_001354.PNG', 'frame_001355.PNG', 'frame_001356.PNG', 'frame_001357.PNG', 'frame_001358.PNG', 'frame_001359.PNG', 'frame_001360.PNG', 'frame_001361.PNG', 'frame_001362.PNG', 'frame_001363.PNG', 'frame_001364.PNG', 'frame_001365.PNG', 'frame_001366.PNG', 'frame_001367.PNG') tensor([1, 1, 1, 1, 1, 1, 1, 1, 1, 1, 1, 1, 1, 1, 1, 1, 1, 1, 1, 1, 1, 1, 1, 1,\n",
      "        1, 1, 1, 1, 1, 1, 1, 1], device='cuda:0')\n",
      "('frame_001368.PNG', 'frame_001369.PNG', 'frame_001370.PNG', 'frame_001371.PNG', 'frame_001372.PNG', 'frame_001373.PNG', 'frame_001374.PNG', 'frame_001375.PNG', 'frame_001376.PNG', 'frame_001377.PNG', 'frame_001378.PNG', 'frame_001379.PNG', 'frame_001380.PNG', 'frame_001381.PNG', 'frame_001382.PNG', 'frame_001383.PNG', 'frame_001384.PNG', 'frame_001385.PNG', 'frame_001386.PNG', 'frame_001387.PNG', 'frame_001388.PNG', 'frame_001389.PNG', 'frame_001390.PNG', 'frame_001391.PNG', 'frame_001392.PNG', 'frame_001393.PNG', 'frame_001394.PNG', 'frame_001395.PNG', 'frame_001396.PNG', 'frame_001397.PNG', 'frame_001398.PNG', 'frame_001399.PNG') tensor([1, 1, 1, 1, 1, 1, 1, 1, 1, 1, 1, 1, 1, 1, 1, 1, 1, 1, 1, 1, 1, 1, 1, 1,\n",
      "        1, 1, 1, 1, 1, 1, 1, 1], device='cuda:0')\n",
      "('frame_001400.PNG', 'frame_001401.PNG', 'frame_001402.PNG', 'frame_001403.PNG', 'frame_001404.PNG', 'frame_001405.PNG', 'frame_001406.PNG', 'frame_001407.PNG', 'frame_001408.PNG', 'frame_001409.PNG', 'frame_001410.PNG', 'frame_001411.PNG', 'frame_001412.PNG', 'frame_001413.PNG', 'frame_001414.PNG', 'frame_001415.PNG', 'frame_001416.PNG', 'frame_001417.PNG', 'frame_001418.PNG', 'frame_001419.PNG', 'frame_001420.PNG', 'frame_001421.PNG', 'frame_001422.PNG', 'frame_001423.PNG', 'frame_001424.PNG', 'frame_001425.PNG', 'frame_001426.PNG', 'frame_001427.PNG', 'frame_001428.PNG', 'frame_001429.PNG', 'frame_001430.PNG', 'frame_001431.PNG') tensor([1, 1, 1, 1, 1, 1, 1, 1, 1, 1, 1, 1, 1, 1, 1, 1, 1, 1, 1, 1, 1, 1, 1, 1,\n",
      "        1, 1, 1, 1, 1, 1, 1, 1], device='cuda:0')\n",
      "('frame_001432.PNG', 'frame_001433.PNG', 'frame_001434.PNG', 'frame_001435.PNG', 'frame_001436.PNG', 'frame_001437.PNG', 'frame_001438.PNG', 'frame_001439.PNG', 'frame_001440.PNG', 'frame_001441.PNG', 'frame_001442.PNG', 'frame_001443.PNG', 'frame_001444.PNG', 'frame_001445.PNG', 'frame_001446.PNG', 'frame_001447.PNG', 'frame_001448.PNG', 'frame_001449.PNG', 'frame_001450.PNG', 'frame_001451.PNG', 'frame_001452.PNG', 'frame_001453.PNG', 'frame_001454.PNG', 'frame_001455.PNG', 'frame_001456.PNG', 'frame_001457.PNG', 'frame_001458.PNG', 'frame_001459.PNG', 'frame_001460.PNG', 'frame_001461.PNG', 'frame_001462.PNG', 'frame_001463.PNG') tensor([1, 1, 1, 1, 1, 1, 1, 1, 1, 1, 1, 1, 1, 1, 1, 1, 1, 1, 1, 1, 1, 1, 1, 1,\n",
      "        1, 1, 1, 1, 1, 1, 1, 1], device='cuda:0')\n"
     ]
    },
    {
     "name": "stderr",
     "output_type": "stream",
     "text": [
      " 44%|████▍     | 131/296 [00:08<00:07, 22.95it/s]"
     ]
    },
    {
     "name": "stdout",
     "output_type": "stream",
     "text": [
      "('frame_001464.PNG', 'frame_001465.PNG', 'frame_001466.PNG', 'frame_001467.PNG', 'frame_001468.PNG', 'frame_001469.PNG', 'frame_001470.PNG', 'frame_001471.PNG', 'frame_001472.PNG', 'frame_001473.PNG', 'frame_001474.PNG', 'frame_001475.PNG', 'frame_001476.PNG', 'frame_001477.PNG', 'frame_001478.PNG', 'frame_001479.PNG', 'frame_001480.PNG', 'frame_001481.PNG', 'frame_001482.PNG', 'frame_001483.PNG', 'frame_001484.PNG', 'frame_001485.PNG', 'frame_001486.PNG', 'frame_001487.PNG', 'frame_001488.PNG', 'frame_001489.PNG', 'frame_001490.PNG', 'frame_001491.PNG', 'frame_001492.PNG', 'frame_001493.PNG', 'frame_001494.PNG', 'frame_001495.PNG') tensor([1, 1, 1, 1, 1, 1, 1, 1, 1, 1, 1, 1, 1, 1, 1, 1, 1, 1, 1, 1, 1, 1, 1, 1,\n",
      "        1, 1, 1, 1, 1, 1, 1, 1], device='cuda:0')\n",
      "('frame_001496.PNG', 'frame_001497.PNG', 'frame_001498.PNG', 'frame_001499.PNG', 'frame_001500.PNG', 'frame_001501.PNG', 'frame_001502.PNG', 'frame_001503.PNG', 'frame_001504.PNG', 'frame_001505.PNG', 'frame_001506.PNG', 'frame_001507.PNG', 'frame_001508.PNG', 'frame_001509.PNG', 'frame_001510.PNG', 'frame_001511.PNG', 'frame_001512.PNG', 'frame_001513.PNG', 'frame_001514.PNG', 'frame_001515.PNG', 'frame_001516.PNG', 'frame_001517.PNG', 'frame_001518.PNG', 'frame_001519.PNG', 'frame_001520.PNG', 'frame_001521.PNG', 'frame_001522.PNG', 'frame_001523.PNG', 'frame_001524.PNG', 'frame_001525.PNG', 'frame_001526.PNG', 'frame_001527.PNG') tensor([1, 1, 1, 1, 1, 1, 1, 1, 1, 1, 1, 1, 1, 1, 1, 1, 1, 1, 1, 1, 1, 1, 1, 1,\n",
      "        1, 1, 1, 1, 1, 1, 1, 1], device='cuda:0')\n",
      "('frame_001528.PNG', 'frame_001529.PNG', 'frame_001530.PNG', 'frame_001531.PNG', 'frame_001532.PNG', 'frame_001533.PNG', 'frame_001534.PNG', 'frame_001535.PNG', 'frame_001536.PNG', 'frame_001537.PNG', 'frame_001538.PNG', 'frame_001539.PNG', 'frame_001540.PNG', 'frame_001541.PNG', 'frame_001542.PNG', 'frame_001543.PNG', 'frame_001544.PNG', 'frame_001545.PNG', 'frame_001546.PNG', 'frame_001547.PNG', 'frame_001548.PNG', 'frame_001549.PNG', 'frame_001550.PNG', 'frame_001551.PNG', 'frame_001552.PNG', 'frame_001553.PNG', 'frame_001554.PNG', 'frame_001555.PNG', 'frame_001556.PNG', 'frame_001557.PNG', 'frame_001558.PNG', 'frame_001559.PNG') tensor([1, 1, 1, 1, 1, 1, 1, 1, 1, 1, 1, 1, 1, 1, 1, 1, 1, 1, 1, 1, 1, 1, 1, 1,\n",
      "        1, 1, 1, 1, 1, 1, 1, 1], device='cuda:0')\n",
      "('frame_001560.PNG', 'frame_001561.PNG', 'frame_001562.PNG', 'frame_001563.PNG', 'frame_001564.PNG', 'frame_001565.PNG', 'frame_001566.PNG', 'frame_001567.PNG', 'frame_001568.PNG', 'frame_001569.PNG', 'frame_001570.PNG', 'frame_001571.PNG', 'frame_001572.PNG', 'frame_001573.PNG', 'frame_001574.PNG', 'frame_001575.PNG', 'frame_001576.PNG', 'frame_001577.PNG', 'frame_001578.PNG', 'frame_001579.PNG', 'frame_001580.PNG', 'frame_001581.PNG', 'frame_001582.PNG', 'frame_001583.PNG', 'frame_001584.PNG', 'frame_001585.PNG', 'frame_001586.PNG', 'frame_001587.PNG', 'frame_001588.PNG', 'frame_001589.PNG', 'frame_001590.PNG', 'frame_001591.PNG') tensor([1, 1, 1, 1, 1, 1, 1, 1, 1, 1, 1, 1, 1, 1, 1, 1, 1, 1, 1, 1, 1, 1, 1, 1,\n",
      "        1, 1, 1, 1, 1, 1, 1, 1], device='cuda:0')\n",
      "('frame_001592.PNG', 'frame_001593.PNG', 'frame_001594.PNG', 'frame_001595.PNG', 'frame_001596.PNG', 'frame_001597.PNG', 'frame_001598.PNG', 'frame_001599.PNG', 'frame_001600.PNG', 'frame_001601.PNG', 'frame_001602.PNG', 'frame_001603.PNG', 'frame_001604.PNG', 'frame_001605.PNG', 'frame_001606.PNG', 'frame_001607.PNG', 'frame_001608.PNG', 'frame_001609.PNG', 'frame_001610.PNG', 'frame_001611.PNG', 'frame_001612.PNG', 'frame_001613.PNG', 'frame_001614.PNG', 'frame_001615.PNG', 'frame_001616.PNG', 'frame_001617.PNG', 'frame_001618.PNG', 'frame_001619.PNG', 'frame_001620.PNG', 'frame_001621.PNG', 'frame_001622.PNG', 'frame_001623.PNG') tensor([1, 1, 1, 1, 1, 1, 1, 1, 1, 1, 1, 1, 1, 1, 1, 1, 1, 1, 1, 1, 1, 1, 1, 1,\n",
      "        1, 1, 1, 1, 1, 1, 1, 1], device='cuda:0')\n",
      "('frame_001624.PNG', 'frame_001625.PNG', 'frame_001626.PNG', 'frame_001627.PNG', 'frame_001628.PNG', 'frame_001629.PNG', 'frame_001630.PNG', 'frame_001631.PNG', 'frame_001632.PNG', 'frame_001633.PNG', 'frame_001634.PNG', 'frame_001635.PNG', 'frame_001636.PNG', 'frame_001637.PNG', 'frame_001638.PNG', 'frame_001639.PNG', 'frame_001640.PNG', 'frame_001641.PNG', 'frame_001642.PNG', 'frame_001643.PNG', 'frame_001644.PNG', 'frame_001645.PNG', 'frame_001646.PNG', 'frame_001647.PNG', 'frame_001648.PNG', 'frame_001649.PNG', 'frame_001650.PNG', 'frame_001651.PNG', 'frame_001652.PNG', 'frame_001653.PNG', 'frame_001654.PNG', 'frame_001655.PNG') "
     ]
    },
    {
     "name": "stderr",
     "output_type": "stream",
     "text": [
      " 46%|████▋     | 137/296 [00:08<00:06, 24.51it/s]"
     ]
    },
    {
     "name": "stdout",
     "output_type": "stream",
     "text": [
      "tensor([1, 1, 1, 1, 1, 1, 1, 1, 1, 1, 1, 1, 1, 1, 1, 1, 1, 1, 1, 1, 1, 1, 1, 1,\n",
      "        1, 1, 1, 1, 1, 1, 1, 1], device='cuda:0')\n",
      "('frame_001656.PNG', 'frame_001657.PNG', 'frame_001658.PNG', 'frame_001659.PNG', 'frame_001660.PNG', 'frame_001661.PNG', 'frame_001662.PNG', 'frame_001663.PNG', 'frame_001664.PNG', 'frame_001665.PNG', 'frame_001666.PNG', 'frame_001667.PNG', 'frame_001668.PNG', 'frame_001669.PNG', 'frame_001670.PNG', 'frame_001671.PNG', 'frame_001672.PNG', 'frame_001673.PNG', 'frame_001674.PNG', 'frame_001675.PNG', 'frame_001676.PNG', 'frame_001677.PNG', 'frame_001678.PNG', 'frame_001679.PNG', 'frame_001680.PNG', 'frame_001681.PNG', 'frame_001682.PNG', 'frame_001683.PNG', 'frame_001684.PNG', 'frame_001685.PNG', 'frame_001686.PNG', 'frame_001687.PNG') tensor([1, 1, 1, 1, 1, 1, 1, 1, 1, 1, 1, 1, 1, 1, 1, 1, 1, 1, 1, 1, 1, 1, 1, 1,\n",
      "        1, 1, 1, 1, 1, 1, 1, 1], device='cuda:0')\n",
      "('frame_001688.PNG', 'frame_001689.PNG', 'frame_001690.PNG', 'frame_001691.PNG', 'frame_001692.PNG', 'frame_001693.PNG', 'frame_001694.PNG', 'frame_001695.PNG', 'frame_001696.PNG', 'frame_001697.PNG', 'frame_001698.PNG', 'frame_001699.PNG', 'frame_001700.PNG', 'frame_001701.PNG', 'frame_001702.PNG', 'frame_001703.PNG', 'frame_001704.PNG', 'frame_001705.PNG', 'frame_001706.PNG', 'frame_001707.PNG', 'frame_001708.PNG', 'frame_001709.PNG', 'frame_001710.PNG', 'frame_001711.PNG', 'frame_001712.PNG', 'frame_001713.PNG', 'frame_001714.PNG', 'frame_001715.PNG', 'frame_001716.PNG', 'frame_001717.PNG', 'frame_001718.PNG', 'frame_001719.PNG') tensor([1, 1, 1, 1, 1, 1, 1, 1, 1, 1, 1, 1, 1, 1, 1, 1, 1, 1, 1, 1, 1, 1, 1, 1,\n",
      "        1, 1, 1, 1, 1, 1, 1, 1], device='cuda:0')\n",
      "('frame_001720.PNG', 'frame_001721.PNG', 'frame_001722.PNG', 'frame_001723.PNG', 'frame_001724.PNG', 'frame_001725.PNG', 'frame_001726.PNG', 'frame_001727.PNG', 'frame_001728.PNG', 'frame_001729.PNG', 'frame_001730.PNG', 'frame_001731.PNG', 'frame_001732.PNG', 'frame_001733.PNG', 'frame_001734.PNG', 'frame_001735.PNG', 'frame_001736.PNG', 'frame_001737.PNG', 'frame_001738.PNG', 'frame_001739.PNG', 'frame_001740.PNG', 'frame_001741.PNG', 'frame_001742.PNG', 'frame_001743.PNG', 'frame_001744.PNG', 'frame_001745.PNG', 'frame_001746.PNG', 'frame_001747.PNG', 'frame_001748.PNG', 'frame_001749.PNG', 'frame_001750.PNG', 'frame_001751.PNG') tensor([1, 1, 1, 1, 1, 1, 1, 1, 1, 1, 1, 1, 1, 1, 1, 1, 1, 1, 1, 1, 1, 1, 1, 1,\n",
      "        1, 1, 1, 1, 1, 1, 1, 1], device='cuda:0')\n",
      "('frame_001752.PNG', 'frame_001753.PNG', 'frame_001754.PNG', 'frame_001755.PNG', 'frame_001756.PNG', 'frame_001757.PNG', 'frame_001758.PNG', 'frame_001759.PNG', 'frame_001760.PNG', 'frame_001761.PNG', 'frame_001762.PNG', 'frame_001763.PNG', 'frame_001764.PNG', 'frame_001765.PNG', 'frame_001766.PNG', 'frame_001767.PNG', 'frame_001768.PNG', 'frame_001769.PNG', 'frame_001770.PNG', 'frame_001771.PNG', 'frame_001772.PNG', 'frame_001773.PNG', 'frame_001774.PNG', 'frame_001775.PNG', 'frame_001776.PNG', 'frame_001777.PNG', 'frame_001778.PNG', 'frame_001779.PNG', 'frame_001780.PNG', 'frame_001781.PNG', 'frame_001782.PNG', 'frame_001783.PNG') tensor([1, 1, 1, 1, 1, 1, 1, 1, 1, 1, 1, 1, 1, 1, 1, 1, 1, 1, 1, 1, 1, 1, 1, 1,\n",
      "        1, 1, 1, 1, 1, 1, 1, 1], device='cuda:0')\n",
      "('frame_001784.PNG', 'frame_001785.PNG', 'frame_001786.PNG', 'frame_001787.PNG', 'frame_001788.PNG', 'frame_001789.PNG', 'frame_001790.PNG', 'frame_001791.PNG', 'frame_001792.PNG', 'frame_001793.PNG', 'frame_001794.PNG', 'frame_001795.PNG', 'frame_001796.PNG', 'frame_001797.PNG', 'frame_001798.PNG', 'frame_001799.PNG', 'frame_001800.PNG', 'frame_001801.PNG', 'frame_001802.PNG', 'frame_001803.PNG', 'frame_001804.PNG', 'frame_001805.PNG', 'frame_001806.PNG', 'frame_001807.PNG', 'frame_001808.PNG', 'frame_001809.PNG', 'frame_001810.PNG', 'frame_001811.PNG', 'frame_001812.PNG', 'frame_001813.PNG', 'frame_001814.PNG', 'frame_001815.PNG') tensor([1, 1, 1, 1, 1, 1, 1, 1, 1, 1, 1, 1, 1, 1, 1, 1, 1, 1, 1, 1, 1, 1, 1, 1,\n",
      "        1, 1, 1, 1, 1, 1, 1, 1], device='cuda:0')\n"
     ]
    },
    {
     "name": "stderr",
     "output_type": "stream",
     "text": [
      " 47%|████▋     | 140/296 [00:08<00:06, 25.42it/s]"
     ]
    },
    {
     "name": "stdout",
     "output_type": "stream",
     "text": [
      "('frame_001816.PNG', 'frame_001817.PNG', 'frame_001818.PNG', 'frame_001819.PNG', 'frame_001820.PNG', 'frame_001821.PNG', 'frame_001822.PNG', 'frame_001823.PNG', 'frame_001824.PNG', 'frame_001825.PNG', 'frame_001826.PNG', 'frame_001827.PNG', 'frame_001828.PNG', 'frame_001829.PNG', 'frame_001830.PNG', 'frame_001831.PNG', 'frame_001832.PNG', 'frame_001833.PNG', 'frame_001834.PNG', 'frame_001835.PNG', 'frame_001836.PNG', 'frame_001837.PNG', 'frame_001838.PNG', 'frame_001839.PNG', 'frame_001840.PNG', 'frame_001841.PNG', 'frame_001842.PNG', 'frame_001843.PNG', 'frame_001844.PNG', 'frame_001845.PNG', 'frame_001846.PNG', 'frame_001847.PNG') tensor([1, 1, 1, 1, 1, 1, 1, 1, 1, 1, 1, 1, 1, 1, 1, 1, 1, 1, 1, 1, 1, 1, 1, 1,\n",
      "        1, 1, 1, 1, 1, 1, 1, 1], device='cuda:0')\n",
      "('frame_001848.PNG', 'frame_001849.PNG', 'frame_001850.PNG', 'frame_001851.PNG', 'frame_001852.PNG', 'frame_001853.PNG', 'frame_001854.PNG', 'frame_001855.PNG', 'frame_001856.PNG', 'frame_001857.PNG', 'frame_001858.PNG', 'frame_001859.PNG', 'frame_001860.PNG', 'frame_001861.PNG', 'frame_001862.PNG', 'frame_001863.PNG', 'frame_001864.PNG', 'frame_001865.PNG', 'frame_001866.PNG', 'frame_001867.PNG', 'frame_001868.PNG', 'frame_001869.PNG', 'frame_001870.PNG', 'frame_001871.PNG', 'frame_001872.PNG', 'frame_001873.PNG', 'frame_001874.PNG', 'frame_001875.PNG', 'frame_001876.PNG', 'frame_001877.PNG', 'frame_001878.PNG', 'frame_001879.PNG') tensor([1, 1, 1, 1, 1, 1, 1, 1, 1, 1, 1, 1, 1, 1, 1, 1, 1, 1, 1, 1, 1, 1, 1, 1,\n",
      "        1, 1, 1, 1, 1, 1, 1, 1], device='cuda:0')\n",
      "('frame_001880.PNG', 'frame_001881.PNG', 'frame_001882.PNG', 'frame_001883.PNG', 'frame_001884.PNG', 'frame_001885.PNG', 'frame_001886.PNG', 'frame_001887.PNG', 'frame_001888.PNG', 'frame_001889.PNG', 'frame_001890.PNG', 'frame_001891.PNG', 'frame_001892.PNG', 'frame_001893.PNG', 'frame_001894.PNG', 'frame_001895.PNG', 'frame_001896.PNG', 'frame_001897.PNG', 'frame_001898.PNG', 'frame_001899.PNG', 'frame_001900.PNG', 'frame_001901.PNG', 'frame_001902.PNG', 'frame_001903.PNG', 'frame_001904.PNG', 'frame_001905.PNG', 'frame_001906.PNG', 'frame_001907.PNG', 'frame_001908.PNG', 'frame_001909.PNG', 'frame_001910.PNG', 'frame_001911.PNG') tensor([1, 1, 1, 1, 1, 1, 1, 1, 1, 1, 1, 1, 1, 1, 1, 1, 1, 1, 1, 1, 1, 1, 1, 1,\n",
      "        1, 1, 1, 1, 1, 1, 1, 1], device='cuda:0')\n",
      "('frame_001912.PNG', 'frame_001913.PNG', 'frame_001914.PNG', 'frame_001915.PNG', 'frame_001916.PNG', 'frame_001917.PNG', 'frame_001918.PNG', 'frame_001919.PNG', 'frame_001920.PNG', 'frame_001921.PNG', 'frame_001922.PNG', 'frame_001923.PNG', 'frame_001924.PNG', 'frame_001925.PNG', 'frame_001926.PNG', 'frame_001927.PNG', 'frame_001928.PNG', 'frame_001929.PNG', 'frame_001930.PNG', 'frame_001931.PNG', 'frame_001932.PNG', 'frame_001933.PNG', 'frame_001934.PNG', 'frame_001935.PNG', 'frame_001936.PNG', 'frame_001937.PNG', 'frame_001938.PNG', 'frame_001939.PNG', 'frame_001940.PNG', 'frame_001941.PNG', 'frame_001942.PNG', 'frame_001943.PNG') tensor([1, 1, 1, 1, 1, 1, 1, 1, 1, 1, 1, 1, 1, 1, 1, 1, 1, 1, 1, 1, 1, 1, 1, 1,\n",
      "        1, 1, 1, 1, 1, 1, 1, 1], device='cuda:0')\n",
      "('frame_001944.PNG', 'frame_001945.PNG', 'frame_001946.PNG', 'frame_001947.PNG', 'frame_001948.PNG', 'frame_001949.PNG', 'frame_001950.PNG', 'frame_001951.PNG', 'frame_001952.PNG', 'frame_001953.PNG', 'frame_001954.PNG', 'frame_001955.PNG', 'frame_001956.PNG', 'frame_001957.PNG', 'frame_001958.PNG', 'frame_001959.PNG', 'frame_001960.PNG', 'frame_001961.PNG', 'frame_001962.PNG', 'frame_001963.PNG', 'frame_001964.PNG', 'frame_001965.PNG', 'frame_001966.PNG', 'frame_001967.PNG', 'frame_001968.PNG', 'frame_001969.PNG', 'frame_001970.PNG', 'frame_001971.PNG', 'frame_001972.PNG', 'frame_001973.PNG', 'frame_001974.PNG', 'frame_001975.PNG') tensor([1, 1, 1, 1, 1, 1, 1, 1, 1, 1, 1, 1, 1, 1, 1, 1, 1, 1, 1, 1, 1, 1, 1, 1,\n",
      "        1, 1, 1, 1, 1, 1, 1, 1], device='cuda:0')\n",
      "('frame_001976.PNG', 'frame_001977.PNG', 'frame_001978.PNG', 'frame_001979.PNG', 'frame_001980.PNG', 'frame_001981.PNG', 'frame_001982.PNG', 'frame_001983.PNG', 'frame_001984.PNG', 'frame_001985.PNG', 'frame_001986.PNG', 'frame_001987.PNG', 'frame_001988.PNG', 'frame_001989.PNG', 'frame_001990.PNG', 'frame_001991.PNG', 'frame_001992.PNG', 'frame_001993.PNG', 'frame_000000.PNG', 'frame_000001.PNG', 'frame_000002.PNG', 'frame_000003.PNG', 'frame_000004.PNG', 'frame_000005.PNG', 'frame_000006.PNG', 'frame_000007.PNG', 'frame_000008.PNG', 'frame_000009.PNG', 'frame_000010.PNG', 'frame_000011.PNG', 'frame_000012.PNG', 'frame_000013.PNG') "
     ]
    },
    {
     "name": "stderr",
     "output_type": "stream",
     "text": [
      " 49%|████▉     | 146/296 [00:08<00:05, 25.68it/s]"
     ]
    },
    {
     "name": "stdout",
     "output_type": "stream",
     "text": [
      "tensor([1, 1, 1, 1, 1, 1, 1, 1, 1, 1, 1, 1, 1, 1, 1, 1, 1, 1, 1, 1, 1, 1, 1, 1,\n",
      "        1, 1, 1, 1, 1, 1, 1, 1], device='cuda:0')\n",
      "('frame_000014.PNG', 'frame_000015.PNG', 'frame_000016.PNG', 'frame_000017.PNG', 'frame_000018.PNG', 'frame_000019.PNG', 'frame_000020.PNG', 'frame_000021.PNG', 'frame_000022.PNG', 'frame_000023.PNG', 'frame_000024.PNG', 'frame_000025.PNG', 'frame_000026.PNG', 'frame_000027.PNG', 'frame_000028.PNG', 'frame_000029.PNG', 'frame_000030.PNG', 'frame_000031.PNG', 'frame_000032.PNG', 'frame_000033.PNG', 'frame_000034.PNG', 'frame_000035.PNG', 'frame_000036.PNG', 'frame_000037.PNG', 'frame_000038.PNG', 'frame_000039.PNG', 'frame_000040.PNG', 'frame_000041.PNG', 'frame_000042.PNG', 'frame_000043.PNG', 'frame_000044.PNG', 'frame_000045.PNG') tensor([1, 1, 1, 1, 1, 1, 1, 1, 1, 1, 1, 1, 1, 1, 1, 1, 1, 1, 1, 1, 1, 1, 1, 1,\n",
      "        1, 1, 1, 1, 1, 1, 1, 1], device='cuda:0')\n",
      "('frame_000046.PNG', 'frame_000047.PNG', 'frame_000048.PNG', 'frame_000049.PNG', 'frame_000050.PNG', 'frame_000051.PNG', 'frame_000052.PNG', 'frame_000053.PNG', 'frame_000054.PNG', 'frame_000055.PNG', 'frame_000056.PNG', 'frame_000057.PNG', 'frame_000058.PNG', 'frame_000059.PNG', 'frame_000060.PNG', 'frame_000061.PNG', 'frame_000062.PNG', 'frame_000063.PNG', 'frame_000064.PNG', 'frame_000065.PNG', 'frame_000066.PNG', 'frame_000067.PNG', 'frame_000068.PNG', 'frame_000069.PNG', 'frame_000070.PNG', 'frame_000071.PNG', 'frame_000072.PNG', 'frame_000073.PNG', 'frame_000074.PNG', 'frame_000075.PNG', 'frame_000076.PNG', 'frame_000077.PNG') tensor([1, 1, 1, 1, 1, 1, 1, 1, 1, 1, 1, 1, 1, 1, 1, 1, 1, 1, 1, 1, 1, 1, 1, 1,\n",
      "        1, 1, 1, 1, 1, 1, 1, 1], device='cuda:0')\n",
      "('frame_000078.PNG', 'frame_000079.PNG', 'frame_000080.PNG', 'frame_000081.PNG', 'frame_000082.PNG', 'frame_000083.PNG', 'frame_000084.PNG', 'frame_000085.PNG', 'frame_000086.PNG', 'frame_000087.PNG', 'frame_000088.PNG', 'frame_000089.PNG', 'frame_000090.PNG', 'frame_000091.PNG', 'frame_000092.PNG', 'frame_000093.PNG', 'frame_000094.PNG', 'frame_000095.PNG', 'frame_000096.PNG', 'frame_000097.PNG', 'frame_000098.PNG', 'frame_000099.PNG', 'frame_000100.PNG', 'frame_000101.PNG', 'frame_000102.PNG', 'frame_000103.PNG', 'frame_000104.PNG', 'frame_000105.PNG', 'frame_000106.PNG', 'frame_000107.PNG', 'frame_000108.PNG', 'frame_000109.PNG') tensor([1, 1, 1, 1, 1, 1, 1, 1, 1, 1, 1, 1, 1, 1, 1, 1, 1, 1, 1, 1, 1, 1, 1, 1,\n",
      "        1, 1, 1, 1, 1, 1, 1, 1], device='cuda:0')\n",
      "('frame_000110.PNG', 'frame_000111.PNG', 'frame_000112.PNG', 'frame_000113.PNG', 'frame_000114.PNG', 'frame_000115.PNG', 'frame_000116.PNG', 'frame_000117.PNG', 'frame_000118.PNG', 'frame_000119.PNG', 'frame_000120.PNG', 'frame_000121.PNG', 'frame_000122.PNG', 'frame_000123.PNG', 'frame_000124.PNG', 'frame_000125.PNG', 'frame_000126.PNG', 'frame_000127.PNG', 'frame_000128.PNG', 'frame_000129.PNG', 'frame_000130.PNG', 'frame_000131.PNG', 'frame_000132.PNG', 'frame_000133.PNG', 'frame_000134.PNG', 'frame_000135.PNG', 'frame_000136.PNG', 'frame_000137.PNG', 'frame_000138.PNG', 'frame_000139.PNG', 'frame_000140.PNG', 'frame_000141.PNG') tensor([1, 1, 1, 1, 1, 1, 1, 1, 1, 1, 1, 1, 1, 1, 1, 1, 1, 1, 1, 1, 1, 1, 1, 1,\n",
      "        1, 1, 1, 1, 1, 1, 1, 1], device='cuda:0')\n",
      "('frame_000142.PNG', 'frame_000143.PNG', 'frame_000144.PNG', 'frame_000145.PNG', 'frame_000146.PNG', 'frame_000147.PNG', 'frame_000148.PNG', 'frame_000149.PNG', 'frame_000150.PNG', 'frame_000151.PNG', 'frame_000152.PNG', 'frame_000153.PNG', 'frame_000154.PNG', 'frame_000155.PNG', 'frame_000156.PNG', 'frame_000157.PNG', 'frame_000158.PNG', 'frame_000159.PNG', 'frame_000160.PNG', 'frame_000161.PNG', 'frame_000162.PNG', 'frame_000163.PNG', 'frame_000164.PNG', 'frame_000165.PNG', 'frame_000166.PNG', 'frame_000167.PNG', 'frame_000168.PNG', 'frame_000169.PNG', 'frame_000170.PNG', 'frame_000171.PNG', 'frame_000172.PNG', 'frame_000173.PNG') tensor([1, 1, 1, 1, 1, 1, 1, 1, 1, 1, 1, 1, 1, 1, 1, 1, 1, 1, 1, 1, 1, 1, 1, 1,\n",
      "        1, 1, 1, 1, 1, 1, 1, 1], device='cuda:0')\n"
     ]
    },
    {
     "name": "stderr",
     "output_type": "stream",
     "text": [
      " 51%|█████▏    | 152/296 [00:09<00:05, 25.58it/s]"
     ]
    },
    {
     "name": "stdout",
     "output_type": "stream",
     "text": [
      "('frame_000174.PNG', 'frame_000175.PNG', 'frame_000176.PNG', 'frame_000177.PNG', 'frame_000178.PNG', 'frame_000179.PNG', 'frame_000180.PNG', 'frame_000181.PNG', 'frame_000182.PNG', 'frame_000183.PNG', 'frame_000184.PNG', 'frame_000185.PNG', 'frame_000186.PNG', 'frame_000187.PNG', 'frame_000188.PNG', 'frame_000189.PNG', 'frame_000190.PNG', 'frame_000191.PNG', 'frame_000192.PNG', 'frame_000193.PNG', 'frame_000194.PNG', 'frame_000195.PNG', 'frame_000196.PNG', 'frame_000197.PNG', 'frame_000198.PNG', 'frame_000199.PNG', 'frame_000200.PNG', 'frame_000201.PNG', 'frame_000202.PNG', 'frame_000203.PNG', 'frame_000204.PNG', 'frame_000205.PNG') tensor([1, 1, 1, 1, 1, 1, 1, 1, 1, 1, 1, 1, 1, 1, 1, 1, 1, 1, 1, 1, 1, 1, 1, 1,\n",
      "        1, 1, 1, 1, 1, 1, 1, 1], device='cuda:0')\n",
      "('frame_000206.PNG', 'frame_000207.PNG', 'frame_000208.PNG', 'frame_000209.PNG', 'frame_000210.PNG', 'frame_000211.PNG', 'frame_000212.PNG', 'frame_000213.PNG', 'frame_000214.PNG', 'frame_000215.PNG', 'frame_000216.PNG', 'frame_000217.PNG', 'frame_000218.PNG', 'frame_000219.PNG', 'frame_000220.PNG', 'frame_000221.PNG', 'frame_000222.PNG', 'frame_000223.PNG', 'frame_000224.PNG', 'frame_000225.PNG', 'frame_000226.PNG', 'frame_000227.PNG', 'frame_000228.PNG', 'frame_000229.PNG', 'frame_000230.PNG', 'frame_000231.PNG', 'frame_000232.PNG', 'frame_000233.PNG', 'frame_000234.PNG', 'frame_000235.PNG', 'frame_000236.PNG', 'frame_000237.PNG') tensor([1, 1, 1, 1, 1, 1, 1, 1, 1, 1, 1, 1, 1, 1, 1, 1, 1, 1, 1, 1, 1, 1, 1, 1,\n",
      "        1, 1, 1, 1, 1, 1, 1, 1], device='cuda:0')\n",
      "('frame_000238.PNG', 'frame_000239.PNG', 'frame_000240.PNG', 'frame_000241.PNG', 'frame_000242.PNG', 'frame_000243.PNG', 'frame_000244.PNG', 'frame_000245.PNG', 'frame_000246.PNG', 'frame_000247.PNG', 'frame_000248.PNG', 'frame_000249.PNG', 'frame_000250.PNG', 'frame_000251.PNG', 'frame_000252.PNG', 'frame_000253.PNG', 'frame_000254.PNG', 'frame_000255.PNG', 'frame_000256.PNG', 'frame_000257.PNG', 'frame_000258.PNG', 'frame_000259.PNG', 'frame_000260.PNG', 'frame_000261.PNG', 'frame_000262.PNG', 'frame_000263.PNG', 'frame_000264.PNG', 'frame_000265.PNG', 'frame_000266.PNG', 'frame_000267.PNG', 'frame_000268.PNG', 'frame_000269.PNG') tensor([1, 1, 1, 1, 1, 1, 1, 1, 1, 1, 1, 1, 1, 1, 1, 1, 1, 1, 1, 1, 1, 1, 1, 1,\n",
      "        1, 1, 1, 1, 1, 1, 1, 1], device='cuda:0')\n",
      "('frame_000270.PNG', 'frame_000271.PNG', 'frame_000272.PNG', 'frame_000273.PNG', 'frame_000274.PNG', 'frame_000275.PNG', 'frame_000276.PNG', 'frame_000277.PNG', 'frame_000278.PNG', 'frame_000279.PNG', 'frame_000280.PNG', 'frame_000281.PNG', 'frame_000282.PNG', 'frame_000283.PNG', 'frame_000284.PNG', 'frame_000285.PNG', 'frame_000286.PNG', 'frame_000287.PNG', 'frame_000288.PNG', 'frame_000289.PNG', 'frame_000290.PNG', 'frame_000291.PNG', 'frame_000292.PNG', 'frame_000293.PNG', 'frame_000294.PNG', 'frame_000295.PNG', 'frame_000296.PNG', 'frame_000297.PNG', 'frame_000298.PNG', 'frame_000299.PNG', 'frame_000300.PNG', 'frame_000301.PNG') tensor([1, 1, 1, 1, 1, 1, 1, 1, 1, 1, 1, 1, 1, 1, 1, 1, 1, 1, 1, 1, 1, 1, 1, 1,\n",
      "        1, 1, 1, 1, 1, 1, 1, 1], device='cuda:0')\n",
      "('frame_000302.PNG', 'frame_000303.PNG', 'frame_000304.PNG', 'frame_000305.PNG', 'frame_000306.PNG', 'frame_000307.PNG', 'frame_000308.PNG', 'frame_000309.PNG', 'frame_000310.PNG', 'frame_000311.PNG', 'frame_000312.PNG', 'frame_000313.PNG', 'frame_000314.PNG', 'frame_000315.PNG', 'frame_000316.PNG', 'frame_000317.PNG', 'frame_000318.PNG', 'frame_000319.PNG', 'frame_000320.PNG', 'frame_000321.PNG', 'frame_000322.PNG', 'frame_000323.PNG', 'frame_000324.PNG', 'frame_000325.PNG', 'frame_000326.PNG', 'frame_000327.PNG', 'frame_000328.PNG', 'frame_000329.PNG', 'frame_000330.PNG', 'frame_000331.PNG', 'frame_000332.PNG', 'frame_000333.PNG') tensor([1, 1, 1, 1, 1, 1, 1, 1, 1, 1, 1, 1, 1, 1, 1, 1, 1, 1, 1, 1, 1, 1, 1, 1,\n",
      "        1, 1, 1, 1, 1, 1, 1, 1], device='cuda:0')\n",
      "('frame_000334.PNG', 'frame_000335.PNG', 'frame_000336.PNG', 'frame_000337.PNG', 'frame_000338.PNG', 'frame_000339.PNG', 'frame_000340.PNG', 'frame_000341.PNG', 'frame_000342.PNG', 'frame_000343.PNG', 'frame_000344.PNG', 'frame_000345.PNG', 'frame_000346.PNG', 'frame_000347.PNG', 'frame_000348.PNG', 'frame_000349.PNG', 'frame_000350.PNG', 'frame_000351.PNG', 'frame_000352.PNG', 'frame_000353.PNG', 'frame_000354.PNG', 'frame_000355.PNG', 'frame_000356.PNG', 'frame_000357.PNG', 'frame_000358.PNG', 'frame_000359.PNG', 'frame_000360.PNG', 'frame_000361.PNG', 'frame_000362.PNG', 'frame_000363.PNG', 'frame_000364.PNG', 'frame_000365.PNG') "
     ]
    },
    {
     "name": "stderr",
     "output_type": "stream",
     "text": [
      " 53%|█████▎    | 158/296 [00:09<00:05, 26.32it/s]"
     ]
    },
    {
     "name": "stdout",
     "output_type": "stream",
     "text": [
      "tensor([1, 1, 1, 1, 1, 1, 1, 1, 1, 1, 1, 1, 1, 1, 1, 1, 1, 1, 1, 1, 1, 1, 1, 1,\n",
      "        1, 1, 1, 1, 1, 1, 1, 1], device='cuda:0')\n",
      "('frame_000366.PNG', 'frame_000367.PNG', 'frame_000368.PNG', 'frame_000369.PNG', 'frame_000370.PNG', 'frame_000371.PNG', 'frame_000372.PNG', 'frame_000373.PNG', 'frame_000374.PNG', 'frame_000375.PNG', 'frame_000376.PNG', 'frame_000377.PNG', 'frame_000378.PNG', 'frame_000379.PNG', 'frame_000380.PNG', 'frame_000381.PNG', 'frame_000382.PNG', 'frame_000383.PNG', 'frame_000384.PNG', 'frame_000385.PNG', 'frame_000386.PNG', 'frame_000387.PNG', 'frame_000388.PNG', 'frame_000389.PNG', 'frame_000390.PNG', 'frame_000391.PNG', 'frame_000392.PNG', 'frame_000393.PNG', 'frame_000394.PNG', 'frame_000395.PNG', 'frame_000396.PNG', 'frame_000397.PNG') tensor([1, 1, 1, 1, 1, 1, 1, 1, 1, 1, 1, 1, 1, 1, 1, 1, 1, 1, 1, 1, 1, 1, 1, 1,\n",
      "        1, 1, 1, 1, 1, 1, 1, 1], device='cuda:0')\n",
      "('frame_000398.PNG', 'frame_000399.PNG', 'frame_000400.PNG', 'frame_000401.PNG', 'frame_000402.PNG', 'frame_000403.PNG', 'frame_000404.PNG', 'frame_000405.PNG', 'frame_000406.PNG', 'frame_000407.PNG', 'frame_000408.PNG', 'frame_000409.PNG', 'frame_000410.PNG', 'frame_000411.PNG', 'frame_000412.PNG', 'frame_000413.PNG', 'frame_000414.PNG', 'frame_000415.PNG', 'frame_000416.PNG', 'frame_000417.PNG', 'frame_000418.PNG', 'frame_000419.PNG', 'frame_000420.PNG', 'frame_000421.PNG', 'frame_000422.PNG', 'frame_000423.PNG', 'frame_000424.PNG', 'frame_000425.PNG', 'frame_000426.PNG', 'frame_000427.PNG', 'frame_000428.PNG', 'frame_000429.PNG') tensor([1, 1, 1, 1, 1, 1, 1, 1, 1, 1, 1, 1, 1, 1, 1, 1, 1, 1, 1, 1, 1, 1, 1, 1,\n",
      "        1, 1, 1, 1, 1, 1, 1, 1], device='cuda:0')\n",
      "('frame_000430.PNG', 'frame_000431.PNG', 'frame_000432.PNG', 'frame_000433.PNG', 'frame_000434.PNG', 'frame_000435.PNG', 'frame_000436.PNG', 'frame_000437.PNG', 'frame_000438.PNG', 'frame_000439.PNG', 'frame_000440.PNG', 'frame_000441.PNG', 'frame_000442.PNG', 'frame_000443.PNG', 'frame_000444.PNG', 'frame_000445.PNG', 'frame_000446.PNG', 'frame_000447.PNG', 'frame_000448.PNG', 'frame_000449.PNG', 'frame_000450.PNG', 'frame_000451.PNG', 'frame_000452.PNG', 'frame_000453.PNG', 'frame_000454.PNG', 'frame_000455.PNG', 'frame_000456.PNG', 'frame_000457.PNG', 'frame_000458.PNG', 'frame_000459.PNG', 'frame_000460.PNG', 'frame_000461.PNG') tensor([1, 1, 1, 1, 1, 1, 1, 1, 1, 1, 1, 1, 1, 1, 1, 1, 1, 1, 1, 1, 1, 1, 1, 1,\n",
      "        1, 1, 1, 1, 1, 1, 1, 1], device='cuda:0')\n",
      "('frame_000462.PNG', 'frame_000463.PNG', 'frame_000464.PNG', 'frame_000465.PNG', 'frame_000466.PNG', 'frame_000467.PNG', 'frame_000468.PNG', 'frame_000469.PNG', 'frame_000470.PNG', 'frame_000471.PNG', 'frame_000472.PNG', 'frame_000473.PNG', 'frame_000474.PNG', 'frame_000475.PNG', 'frame_000476.PNG', 'frame_000477.PNG', 'frame_000478.PNG', 'frame_000479.PNG', 'frame_000480.PNG', 'frame_000481.PNG', 'frame_000482.PNG', 'frame_000483.PNG', 'frame_000484.PNG', 'frame_000485.PNG', 'frame_000486.PNG', 'frame_000487.PNG', 'frame_000488.PNG', 'frame_000489.PNG', 'frame_000490.PNG', 'frame_000491.PNG', 'frame_000492.PNG', 'frame_000493.PNG') tensor([1, 1, 1, 1, 1, 1, 1, 1, 1, 1, 1, 1, 1, 1, 1, 1, 1, 1, 1, 1, 1, 1, 1, 1,\n",
      "        1, 1, 1, 1, 1, 1, 1, 1], device='cuda:0')\n",
      "('frame_000494.PNG', 'frame_000495.PNG', 'frame_000496.PNG', 'frame_000497.PNG', 'frame_000498.PNG', 'frame_000499.PNG', 'frame_000500.PNG', 'frame_000501.PNG', 'frame_000502.PNG', 'frame_000503.PNG', 'frame_000504.PNG', 'frame_000505.PNG', 'frame_000506.PNG', 'frame_000507.PNG', 'frame_000508.PNG', 'frame_000509.PNG', 'frame_000510.PNG', 'frame_000511.PNG', 'frame_000512.PNG', 'frame_000513.PNG', 'frame_000514.PNG', 'frame_000515.PNG', 'frame_000516.PNG', 'frame_000517.PNG', 'frame_000518.PNG', 'frame_000519.PNG', 'frame_000520.PNG', 'frame_000521.PNG', 'frame_000522.PNG', 'frame_000523.PNG', 'frame_000524.PNG', 'frame_000525.PNG') tensor([1, 1, 1, 1, 1, 1, 1, 1, 1, 1, 1, 1, 1, 1, 1, 1, 1, 1, 1, 1, 1, 1, 1, 1,\n",
      "        1, 1, 1, 1, 1, 1, 1, 1], device='cuda:0')\n"
     ]
    },
    {
     "name": "stderr",
     "output_type": "stream",
     "text": [
      " 55%|█████▌    | 164/296 [00:09<00:05, 25.75it/s]"
     ]
    },
    {
     "name": "stdout",
     "output_type": "stream",
     "text": [
      "('frame_000526.PNG', 'frame_000527.PNG', 'frame_000528.PNG', 'frame_000529.PNG', 'frame_000530.PNG', 'frame_000531.PNG', 'frame_000532.PNG', 'frame_000533.PNG', 'frame_000534.PNG', 'frame_000535.PNG', 'frame_000536.PNG', 'frame_000537.PNG', 'frame_000538.PNG', 'frame_000539.PNG', 'frame_000540.PNG', 'frame_000541.PNG', 'frame_000542.PNG', 'frame_000543.PNG', 'frame_000544.PNG', 'frame_000545.PNG', 'frame_000546.PNG', 'frame_000547.PNG', 'frame_000548.PNG', 'frame_000549.PNG', 'frame_000550.PNG', 'frame_000551.PNG', 'frame_000552.PNG', 'frame_000553.PNG', 'frame_000554.PNG', 'frame_000555.PNG', 'frame_000556.PNG', 'frame_000557.PNG') tensor([1, 1, 1, 1, 1, 1, 1, 1, 1, 1, 1, 1, 1, 1, 1, 1, 1, 1, 1, 1, 1, 1, 1, 1,\n",
      "        1, 1, 1, 1, 1, 1, 1, 1], device='cuda:0')\n",
      "('frame_000558.PNG', 'frame_000559.PNG', 'frame_000560.PNG', 'frame_000561.PNG', 'frame_000562.PNG', 'frame_000563.PNG', 'frame_000564.PNG', 'frame_000565.PNG', 'frame_000566.PNG', 'frame_000567.PNG', 'frame_000568.PNG', 'frame_000569.PNG', 'frame_000570.PNG', 'frame_000571.PNG', 'frame_000572.PNG', 'frame_000573.PNG', 'frame_000574.PNG', 'frame_000575.PNG', 'frame_000576.PNG', 'frame_000577.PNG', 'frame_000578.PNG', 'frame_000579.PNG', 'frame_000580.PNG', 'frame_000581.PNG', 'frame_000582.PNG', 'frame_000583.PNG', 'frame_000584.PNG', 'frame_000585.PNG', 'frame_000586.PNG', 'frame_000587.PNG', 'frame_000588.PNG', 'frame_000589.PNG') tensor([1, 1, 1, 1, 1, 1, 1, 1, 1, 1, 1, 1, 1, 1, 1, 1, 1, 1, 1, 1, 1, 1, 1, 1,\n",
      "        1, 1, 1, 1, 1, 1, 1, 1], device='cuda:0')\n",
      "('frame_000590.PNG', 'frame_000591.PNG', 'frame_000592.PNG', 'frame_000593.PNG', 'frame_000594.PNG', 'frame_000595.PNG', 'frame_000596.PNG', 'frame_000597.PNG', 'frame_000598.PNG', 'frame_000599.PNG', 'frame_000600.PNG', 'frame_000601.PNG', 'frame_000602.PNG', 'frame_000603.PNG', 'frame_000604.PNG', 'frame_000605.PNG', 'frame_000606.PNG', 'frame_000607.PNG', 'frame_000608.PNG', 'frame_000609.PNG', 'frame_000610.PNG', 'frame_000611.PNG', 'frame_000612.PNG', 'frame_000613.PNG', 'frame_000614.PNG', 'frame_000615.PNG', 'frame_000616.PNG', 'frame_000617.PNG', 'frame_000618.PNG', 'frame_000619.PNG', 'frame_000620.PNG', 'frame_000621.PNG') tensor([1, 1, 1, 1, 1, 1, 1, 1, 1, 1, 1, 1, 1, 1, 1, 1, 1, 1, 1, 1, 1, 1, 1, 1,\n",
      "        1, 1, 1, 1, 1, 1, 1, 1], device='cuda:0')\n",
      "('frame_000622.PNG', 'frame_000623.PNG', 'frame_000624.PNG', 'frame_000625.PNG', 'frame_000626.PNG', 'frame_000627.PNG', 'frame_000628.PNG', 'frame_000629.PNG', 'frame_000630.PNG', 'frame_000631.PNG', 'frame_000632.PNG', 'frame_000633.PNG', 'frame_000634.PNG', 'frame_000635.PNG', 'frame_000636.PNG', 'frame_000637.PNG', 'frame_000638.PNG', 'frame_000639.PNG', 'frame_000640.PNG', 'frame_000641.PNG', 'frame_000642.PNG', 'frame_000643.PNG', 'frame_000644.PNG', 'frame_000645.PNG', 'frame_000646.PNG', 'frame_000647.PNG', 'frame_000648.PNG', 'frame_000649.PNG', 'frame_000650.PNG', 'frame_000651.PNG', 'frame_000652.PNG', 'frame_000653.PNG') tensor([1, 1, 1, 1, 1, 1, 1, 1, 1, 1, 1, 1, 1, 1, 1, 1, 1, 1, 1, 1, 1, 1, 1, 1,\n",
      "        1, 1, 1, 1, 1, 1, 1, 1], device='cuda:0')\n",
      "('frame_000654.PNG', 'frame_000655.PNG', 'frame_000656.PNG', 'frame_000657.PNG', 'frame_000658.PNG', 'frame_000659.PNG', 'frame_000660.PNG', 'frame_000661.PNG', 'frame_000662.PNG', 'frame_000663.PNG', 'frame_000664.PNG', 'frame_000665.PNG', 'frame_000666.PNG', 'frame_000667.PNG', 'frame_000668.PNG', 'frame_000669.PNG', 'frame_000670.PNG', 'frame_000671.PNG', 'frame_000672.PNG', 'frame_000673.PNG', 'frame_000674.PNG', 'frame_000675.PNG', 'frame_000676.PNG', 'frame_000677.PNG', 'frame_000678.PNG', 'frame_000679.PNG', 'frame_000680.PNG', 'frame_000681.PNG', 'frame_000682.PNG', 'frame_000683.PNG', 'frame_000684.PNG', 'frame_000685.PNG') tensor([1, 1, 1, 1, 1, 1, 1, 1, 1, 1, 1, 1, 1, 1, 1, 1, 1, 1, 1, 1, 1, 1, 1, 1,\n",
      "        1, 1, 1, 1, 1, 1, 1, 1], device='cuda:0')\n",
      "('frame_000686.PNG', 'frame_000687.PNG', 'frame_000688.PNG', 'frame_000689.PNG', 'frame_000690.PNG', 'frame_000691.PNG', 'frame_000692.PNG', 'frame_000693.PNG', 'frame_000694.PNG', 'frame_000695.PNG', 'frame_000696.PNG', 'frame_000697.PNG', 'frame_000698.PNG', 'frame_000699.PNG', 'frame_000700.PNG', 'frame_000701.PNG', 'frame_000702.PNG', 'frame_000703.PNG', 'frame_000704.PNG', 'frame_000705.PNG', 'frame_000706.PNG', 'frame_000707.PNG', 'frame_000708.PNG', 'frame_000709.PNG', 'frame_000710.PNG', 'frame_000711.PNG', 'frame_000712.PNG', 'frame_000713.PNG', 'frame_000714.PNG', 'frame_000715.PNG', 'frame_000716.PNG', 'frame_000717.PNG') "
     ]
    },
    {
     "name": "stderr",
     "output_type": "stream",
     "text": [
      " 57%|█████▋    | 170/296 [00:09<00:04, 26.39it/s]"
     ]
    },
    {
     "name": "stdout",
     "output_type": "stream",
     "text": [
      "tensor([1, 1, 1, 1, 1, 1, 1, 1, 1, 1, 1, 1, 1, 1, 1, 1, 1, 1, 1, 1, 1, 1, 1, 1,\n",
      "        1, 1, 1, 1, 1, 1, 1, 1], device='cuda:0')\n",
      "('frame_000718.PNG', 'frame_000719.PNG', 'frame_000720.PNG', 'frame_000721.PNG', 'frame_000722.PNG', 'frame_000723.PNG', 'frame_000724.PNG', 'frame_000725.PNG', 'frame_000726.PNG', 'frame_000727.PNG', 'frame_000728.PNG', 'frame_000729.PNG', 'frame_000730.PNG', 'frame_000731.PNG', 'frame_000732.PNG', 'frame_000733.PNG', 'frame_000734.PNG', 'frame_000735.PNG', 'frame_000736.PNG', 'frame_000737.PNG', 'frame_000738.PNG', 'frame_000739.PNG', 'frame_000740.PNG', 'frame_000741.PNG', 'frame_000742.PNG', 'frame_000743.PNG', 'frame_000744.PNG', 'frame_000745.PNG', 'frame_000746.PNG', 'frame_000747.PNG', 'frame_000748.PNG', 'frame_000749.PNG') tensor([1, 1, 1, 1, 1, 1, 1, 1, 1, 1, 1, 1, 1, 1, 1, 1, 1, 1, 1, 1, 1, 1, 1, 1,\n",
      "        1, 1, 1, 1, 1, 1, 1, 1], device='cuda:0')\n",
      "('frame_000750.PNG', 'frame_000751.PNG', 'frame_000752.PNG', 'frame_000753.PNG', 'frame_000754.PNG', 'frame_000755.PNG', 'frame_000756.PNG', 'frame_000757.PNG', 'frame_000758.PNG', 'frame_000759.PNG', 'frame_000760.PNG', 'frame_000761.PNG', 'frame_000762.PNG', 'frame_000763.PNG', 'frame_000764.PNG', 'frame_000765.PNG', 'frame_000766.PNG', 'frame_000767.PNG', 'frame_000768.PNG', 'frame_000769.PNG', 'frame_000770.PNG', 'frame_000771.PNG', 'frame_000772.PNG', 'frame_000773.PNG', 'frame_000774.PNG', 'frame_000775.PNG', 'frame_000776.PNG', 'frame_000777.PNG', 'frame_000778.PNG', 'frame_000779.PNG', 'frame_000780.PNG', 'frame_000781.PNG') tensor([1, 1, 1, 1, 1, 1, 1, 1, 1, 1, 1, 1, 1, 1, 1, 1, 1, 1, 1, 1, 1, 1, 1, 1,\n",
      "        1, 1, 1, 1, 1, 1, 1, 1], device='cuda:0')\n",
      "('frame_000782.PNG', 'frame_000783.PNG', 'frame_000784.PNG', 'frame_000785.PNG', 'frame_000786.PNG', 'frame_000787.PNG', 'frame_000788.PNG', 'frame_000789.PNG', 'frame_000790.PNG', 'frame_000791.PNG', 'frame_000792.PNG', 'frame_000793.PNG', 'frame_000794.PNG', 'frame_000795.PNG', 'frame_000796.PNG', 'frame_000797.PNG', 'frame_000798.PNG', 'frame_000799.PNG', 'frame_000800.PNG', 'frame_000801.PNG', 'frame_000802.PNG', 'frame_000803.PNG', 'frame_000804.PNG', 'frame_000805.PNG', 'frame_000806.PNG', 'frame_000807.PNG', 'frame_000808.PNG', 'frame_000809.PNG', 'frame_000810.PNG', 'frame_000811.PNG', 'frame_000812.PNG', 'frame_000813.PNG') tensor([1, 1, 1, 1, 1, 1, 1, 1, 1, 1, 1, 1, 1, 1, 1, 1, 1, 1, 1, 1, 1, 1, 1, 1,\n",
      "        1, 1, 1, 1, 1, 1, 1, 1], device='cuda:0')\n",
      "('frame_000814.PNG', 'frame_000815.PNG', 'frame_000816.PNG', 'frame_000817.PNG', 'frame_000818.PNG', 'frame_000819.PNG', 'frame_000820.PNG', 'frame_000821.PNG', 'frame_000822.PNG', 'frame_000823.PNG', 'frame_000824.PNG', 'frame_000825.PNG', 'frame_000826.PNG', 'frame_000827.PNG', 'frame_000828.PNG', 'frame_000829.PNG', 'frame_000830.PNG', 'frame_000831.PNG', 'frame_000832.PNG', 'frame_000833.PNG', 'frame_000834.PNG', 'frame_000835.PNG', 'frame_000836.PNG', 'frame_000837.PNG', 'frame_000838.PNG', 'frame_000839.PNG', 'frame_000840.PNG', 'frame_000841.PNG', 'frame_000842.PNG', 'frame_000843.PNG', 'frame_000844.PNG', 'frame_000845.PNG') tensor([1, 1, 1, 1, 1, 1, 1, 1, 1, 1, 1, 1, 1, 1, 1, 1, 1, 1, 1, 1, 1, 1, 1, 1,\n",
      "        1, 1, 1, 1, 1, 1, 1, 1], device='cuda:0')\n",
      "('frame_000846.PNG', 'frame_000847.PNG', 'frame_000848.PNG', 'frame_000849.PNG', 'frame_000850.PNG', 'frame_000851.PNG', 'frame_000852.PNG', 'frame_000853.PNG', 'frame_000854.PNG', 'frame_000855.PNG', 'frame_000856.PNG', 'frame_000857.PNG', 'frame_000858.PNG', 'frame_000859.PNG', 'frame_000860.PNG', 'frame_000861.PNG', 'frame_000862.PNG', 'frame_000863.PNG', 'frame_000864.PNG', 'frame_000865.PNG', 'frame_000866.PNG', 'frame_000867.PNG', 'frame_000868.PNG', 'frame_000869.PNG', 'frame_000870.PNG', 'frame_000871.PNG', 'frame_000872.PNG', 'frame_000873.PNG', 'frame_000874.PNG', 'frame_000875.PNG', 'frame_000876.PNG', 'frame_000877.PNG') tensor([1, 1, 1, 1, 1, 1, 1, 1, 1, 1, 1, 1, 1, 1, 1, 1, 1, 1, 1, 1, 1, 1, 1, 1,\n",
      "        1, 1, 1, 1, 1, 1, 1, 1], device='cuda:0')\n"
     ]
    },
    {
     "name": "stderr",
     "output_type": "stream",
     "text": [
      " 58%|█████▊    | 173/296 [00:09<00:04, 25.86it/s]"
     ]
    },
    {
     "name": "stdout",
     "output_type": "stream",
     "text": [
      "('frame_000878.PNG', 'frame_000879.PNG', 'frame_000880.PNG', 'frame_000881.PNG', 'frame_000882.PNG', 'frame_000883.PNG', 'frame_000884.PNG', 'frame_000885.PNG', 'frame_000886.PNG', 'frame_000887.PNG', 'frame_000888.PNG', 'frame_000889.PNG', 'frame_000890.PNG', 'frame_000891.PNG', 'frame_000892.PNG', 'frame_000893.PNG', 'frame_000894.PNG', 'frame_000895.PNG', 'frame_000896.PNG', 'frame_000897.PNG', 'frame_000898.PNG', 'frame_000899.PNG', 'frame_000900.PNG', 'frame_000901.PNG', 'frame_000902.PNG', 'frame_000903.PNG', 'frame_000904.PNG', 'frame_000905.PNG', 'frame_000906.PNG', 'frame_000907.PNG', 'frame_000908.PNG', 'frame_000909.PNG') tensor([1, 1, 1, 1, 1, 1, 1, 1, 1, 1, 1, 1, 1, 1, 1, 1, 1, 1, 1, 1, 1, 1, 1, 1,\n",
      "        1, 1, 1, 1, 1, 1, 1, 1], device='cuda:0')\n",
      "('frame_000910.PNG', 'frame_000911.PNG', 'frame_000912.PNG', 'frame_000913.PNG', 'frame_000914.PNG', 'frame_000915.PNG', 'frame_000916.PNG', 'frame_000917.PNG', 'frame_000918.PNG', 'frame_000919.PNG', 'frame_000920.PNG', 'frame_000921.PNG', 'frame_000922.PNG', 'frame_000923.PNG', 'frame_000924.PNG', 'frame_000925.PNG', 'frame_000926.PNG', 'frame_000927.PNG', 'frame_000928.PNG', 'frame_000929.PNG', 'frame_000930.PNG', 'frame_000931.PNG', 'frame_000932.PNG', 'frame_000933.PNG', 'frame_000934.PNG', 'frame_000935.PNG', 'frame_000936.PNG', 'frame_000937.PNG', 'frame_000938.PNG', 'frame_000939.PNG', 'frame_000940.PNG', 'frame_000941.PNG') tensor([1, 1, 1, 1, 1, 1, 1, 1, 1, 1, 1, 1, 1, 1, 1, 1, 1, 1, 1, 1, 1, 1, 1, 1,\n",
      "        1, 1, 1, 1, 1, 1, 1, 1], device='cuda:0')\n",
      "('frame_000942.PNG', 'frame_000943.PNG', 'frame_000944.PNG', 'frame_000945.PNG', 'frame_000946.PNG', 'frame_000947.PNG', 'frame_000948.PNG', 'frame_000949.PNG', 'frame_000950.PNG', 'frame_000951.PNG', 'frame_000952.PNG', 'frame_000953.PNG', 'frame_000954.PNG', 'frame_000955.PNG', 'frame_000956.PNG', 'frame_000957.PNG', 'frame_000958.PNG', 'frame_000959.PNG', 'frame_000960.PNG', 'frame_000961.PNG', 'frame_000962.PNG', 'frame_000963.PNG', 'frame_000964.PNG', 'frame_000965.PNG', 'frame_000966.PNG', 'frame_000967.PNG', 'frame_000968.PNG', 'frame_000969.PNG', 'frame_000970.PNG', 'frame_000971.PNG', 'frame_000972.PNG', 'frame_000973.PNG') tensor([1, 1, 1, 1, 1, 1, 1, 1, 1, 1, 1, 1, 1, 1, 1, 1, 1, 1, 1, 1, 1, 1, 1, 1,\n",
      "        1, 1, 1, 1, 1, 1, 1, 1], device='cuda:0')\n",
      "('frame_000974.PNG', 'frame_000975.PNG', 'frame_000976.PNG', 'frame_000977.PNG', 'frame_000978.PNG', 'frame_000979.PNG', 'frame_000980.PNG', 'frame_000981.PNG', 'frame_000982.PNG', 'frame_000983.PNG', 'frame_000984.PNG', 'frame_000985.PNG', 'frame_000986.PNG', 'frame_000987.PNG', 'frame_000988.PNG', 'frame_000989.PNG', 'frame_000990.PNG', 'frame_000991.PNG', 'frame_000992.PNG', 'frame_000993.PNG', 'frame_000994.PNG', 'frame_000995.PNG', 'frame_000996.PNG', 'frame_000997.PNG', 'frame_000998.PNG', 'frame_000999.PNG', 'frame_001000.PNG', 'frame_001001.PNG', 'frame_001002.PNG', 'frame_001003.PNG', 'frame_001004.PNG', 'frame_001005.PNG') tensor([1, 1, 1, 1, 1, 1, 1, 1, 1, 1, 1, 1, 1, 1, 1, 1, 1, 1, 1, 1, 1, 1, 1, 1,\n",
      "        1, 1, 1, 1, 1, 1, 1, 1], device='cuda:0')\n",
      "('frame_001006.PNG', 'frame_001007.PNG', 'frame_001008.PNG', 'frame_001009.PNG', 'frame_001010.PNG', 'frame_001011.PNG', 'frame_001012.PNG', 'frame_001013.PNG', 'frame_001014.PNG', 'frame_001015.PNG', 'frame_001016.PNG', 'frame_001017.PNG', 'frame_001018.PNG', 'frame_001019.PNG', 'frame_001020.PNG', 'frame_001021.PNG', 'frame_001022.PNG', 'frame_001023.PNG', 'frame_001024.PNG', 'frame_001025.PNG', 'frame_001026.PNG', 'frame_001027.PNG', 'frame_001028.PNG', 'frame_003800.PNG', 'frame_003801.PNG', 'frame_003802.PNG', 'frame_003803.PNG', 'frame_003804.PNG', 'frame_003805.PNG', 'frame_003806.PNG', 'frame_003807.PNG', 'frame_003808.PNG') tensor([1, 1, 1, 1, 1, 1, 1, 1, 1, 1, 1, 1, 1, 1, 1, 1, 1, 1, 1, 1, 1, 1, 1, 1,\n",
      "        1, 1, 1, 1, 1, 1, 1, 1], device='cuda:0')\n"
     ]
    },
    {
     "name": "stderr",
     "output_type": "stream",
     "text": [
      " 60%|██████    | 179/296 [00:10<00:04, 25.99it/s]"
     ]
    },
    {
     "name": "stdout",
     "output_type": "stream",
     "text": [
      "('frame_003809.PNG', 'frame_003810.PNG', 'frame_003811.PNG', 'frame_003812.PNG', 'frame_003813.PNG', 'frame_003814.PNG', 'frame_003815.PNG', 'frame_003816.PNG', 'frame_003817.PNG', 'frame_003818.PNG', 'frame_003819.PNG', 'frame_003820.PNG', 'frame_003821.PNG', 'frame_003822.PNG', 'frame_003823.PNG', 'frame_003824.PNG', 'frame_003825.PNG', 'frame_003826.PNG', 'frame_003827.PNG', 'frame_003828.PNG', 'frame_003829.PNG', 'frame_003830.PNG', 'frame_003831.PNG', 'frame_003832.PNG', 'frame_003833.PNG', 'frame_003834.PNG', 'frame_003835.PNG', 'frame_003836.PNG', 'frame_003837.PNG', 'frame_003838.PNG', 'frame_003839.PNG', 'frame_003840.PNG') tensor([1, 1, 1, 1, 1, 1, 1, 1, 1, 1, 1, 1, 1, 1, 1, 1, 1, 1, 1, 1, 1, 1, 1, 1,\n",
      "        1, 1, 1, 1, 1, 1, 1, 1], device='cuda:0')\n",
      "('frame_003841.PNG', 'frame_003842.PNG', 'frame_003843.PNG', 'frame_003844.PNG', 'frame_003845.PNG', 'frame_003846.PNG', 'frame_003847.PNG', 'frame_003848.PNG', 'frame_003849.PNG', 'frame_003850.PNG', 'frame_003851.PNG', 'frame_003852.PNG', 'frame_003853.PNG', 'frame_003854.PNG', 'frame_003855.PNG', 'frame_003856.PNG', 'frame_003857.PNG', 'frame_003858.PNG', 'frame_003859.PNG', 'frame_003860.PNG', 'frame_003861.PNG', 'frame_003862.PNG', 'frame_003863.PNG', 'frame_003864.PNG', 'frame_003865.PNG', 'frame_003866.PNG', 'frame_003867.PNG', 'frame_003868.PNG', 'frame_003869.PNG', 'frame_003870.PNG', 'frame_003871.PNG', 'frame_003872.PNG') tensor([1, 1, 1, 1, 1, 1, 1, 1, 1, 1, 1, 1, 1, 1, 1, 1, 1, 1, 1, 1, 1, 1, 1, 1,\n",
      "        1, 1, 1, 1, 1, 1, 1, 1], device='cuda:0')\n",
      "('frame_003873.PNG', 'frame_003874.PNG', 'frame_003875.PNG', 'frame_003876.PNG', 'frame_003877.PNG', 'frame_003878.PNG', 'frame_003879.PNG', 'frame_003880.PNG', 'frame_003881.PNG', 'frame_003882.PNG', 'frame_003883.PNG', 'frame_003884.PNG', 'frame_003885.PNG', 'frame_003886.PNG', 'frame_003887.PNG', 'frame_003888.PNG', 'frame_003889.PNG', 'frame_003890.PNG', 'frame_003891.PNG', 'frame_003892.PNG', 'frame_003893.PNG', 'frame_003894.PNG', 'frame_003895.PNG', 'frame_003896.PNG', 'frame_003897.PNG', 'frame_003898.PNG', 'frame_003899.PNG', 'frame_003900.PNG', 'frame_003901.PNG', 'frame_003902.PNG', 'frame_003903.PNG', 'frame_003904.PNG') tensor([1, 1, 1, 1, 1, 1, 1, 1, 1, 1, 1, 1, 1, 1, 1, 1, 1, 1, 1, 1, 1, 1, 1, 1,\n",
      "        1, 1, 1, 1, 1, 1, 1, 1], device='cuda:0')\n",
      "('frame_003905.PNG', 'frame_003906.PNG', 'frame_003907.PNG', 'frame_003908.PNG', 'frame_003909.PNG', 'frame_003910.PNG', 'frame_003911.PNG', 'frame_003912.PNG', 'frame_003913.PNG', 'frame_003914.PNG', 'frame_003915.PNG', 'frame_003916.PNG', 'frame_003917.PNG', 'frame_003918.PNG', 'frame_003919.PNG', 'frame_003920.PNG', 'frame_003921.PNG', 'frame_003922.PNG', 'frame_003923.PNG', 'frame_003924.PNG', 'frame_003925.PNG', 'frame_003926.PNG', 'frame_003927.PNG', 'frame_003928.PNG', 'frame_003929.PNG', 'frame_003930.PNG', 'frame_003931.PNG', 'frame_003932.PNG', 'frame_003933.PNG', 'frame_003934.PNG', 'frame_003935.PNG', 'frame_003936.PNG') tensor([1, 1, 1, 1, 1, 1, 1, 1, 1, 1, 1, 1, 1, 1, 1, 1, 1, 1, 1, 1, 1, 1, 1, 1,\n",
      "        1, 1, 1, 1, 1, 1, 1, 1], device='cuda:0')\n",
      "('frame_003937.PNG', 'frame_003938.PNG', 'frame_003939.PNG', 'frame_003940.PNG', 'frame_003941.PNG', 'frame_003942.PNG', 'frame_003943.PNG', 'frame_003944.PNG', 'frame_003945.PNG', 'frame_003946.PNG', 'frame_003947.PNG', 'frame_003948.PNG', 'frame_003949.PNG', 'frame_003950.PNG', 'frame_003951.PNG', 'frame_003952.PNG', 'frame_003953.PNG', 'frame_003954.PNG', 'frame_003955.PNG', 'frame_003956.PNG', 'frame_003957.PNG', 'frame_003958.PNG', 'frame_003959.PNG', 'frame_003960.PNG', 'frame_003961.PNG', 'frame_003962.PNG', 'frame_003963.PNG', 'frame_003964.PNG', 'frame_003965.PNG', 'frame_003966.PNG', 'frame_003967.PNG', 'frame_003968.PNG') tensor([1, 1, 1, 1, 1, 1, 1, 1, 1, 1, 1, 1, 1, 1, 1, 1, 1, 1, 1, 1, 1, 1, 1, 1,\n",
      "        1, 1, 1, 1, 1, 1, 1, 1], device='cuda:0')\n",
      "('frame_003969.PNG', 'frame_003970.PNG', 'frame_003971.PNG', 'frame_003972.PNG', 'frame_003973.PNG', 'frame_003974.PNG', 'frame_003975.PNG', 'frame_003976.PNG', 'frame_003977.PNG', 'frame_003978.PNG', 'frame_003979.PNG', 'frame_003980.PNG', 'frame_003981.PNG', 'frame_003982.PNG', 'frame_003983.PNG', 'frame_003984.PNG', 'frame_003985.PNG', 'frame_003986.PNG', 'frame_003987.PNG', 'frame_003988.PNG', 'frame_003989.PNG', 'frame_003990.PNG', 'frame_003991.PNG', 'frame_003992.PNG', 'frame_003993.PNG', 'frame_003994.PNG', 'frame_003995.PNG', 'frame_003996.PNG', 'frame_003997.PNG', 'frame_003998.PNG', 'frame_003999.PNG', 'frame_004000.PNG') tensor([1, 1, 1, 1, 1, 1, 1, 1, 1, 1, 1, 1, 1, 1, 1, 1, 1, 1, 1, 1, 1, 1, 1, 1,\n",
      "        1, 1, 1, 1, 1, 1, 1, 1], device='cuda:0')\n"
     ]
    },
    {
     "name": "stderr",
     "output_type": "stream",
     "text": [
      " 62%|██████▎   | 185/296 [00:10<00:04, 25.61it/s]"
     ]
    },
    {
     "name": "stdout",
     "output_type": "stream",
     "text": [
      "('frame_004001.PNG', 'frame_004002.PNG', 'frame_004003.PNG', 'frame_004004.PNG', 'frame_004005.PNG', 'frame_004006.PNG', 'frame_004007.PNG', 'frame_004008.PNG', 'frame_004009.PNG', 'frame_004010.PNG', 'frame_004011.PNG', 'frame_004012.PNG', 'frame_004013.PNG', 'frame_004014.PNG', 'frame_004015.PNG', 'frame_004016.PNG', 'frame_004017.PNG', 'frame_004018.PNG', 'frame_004019.PNG', 'frame_004020.PNG', 'frame_004021.PNG', 'frame_004022.PNG', 'frame_004023.PNG', 'frame_004024.PNG', 'frame_004025.PNG', 'frame_004026.PNG', 'frame_004027.PNG', 'frame_004028.PNG', 'frame_004029.PNG', 'frame_004030.PNG', 'frame_004031.PNG', 'frame_004032.PNG') tensor([1, 1, 1, 1, 1, 1, 1, 1, 1, 1, 1, 1, 1, 1, 1, 1, 1, 1, 1, 1, 1, 1, 1, 1,\n",
      "        1, 1, 1, 1, 1, 1, 1, 1], device='cuda:0')\n",
      "('frame_004033.PNG', 'frame_004034.PNG', 'frame_004035.PNG', 'frame_004036.PNG', 'frame_004037.PNG', 'frame_004038.PNG', 'frame_004039.PNG', 'frame_004040.PNG', 'frame_004041.PNG', 'frame_004042.PNG', 'frame_004043.PNG', 'frame_004044.PNG', 'frame_004045.PNG', 'frame_004046.PNG', 'frame_004047.PNG', 'frame_004048.PNG', 'frame_004049.PNG', 'frame_004050.PNG', 'frame_004051.PNG', 'frame_004052.PNG', 'frame_004053.PNG', 'frame_004054.PNG', 'frame_004055.PNG', 'frame_004056.PNG', 'frame_004057.PNG', 'frame_004058.PNG', 'frame_004059.PNG', 'frame_004060.PNG', 'frame_004061.PNG', 'frame_004062.PNG', 'frame_004063.PNG', 'frame_004064.PNG') tensor([1, 1, 1, 1, 1, 1, 1, 1, 1, 1, 1, 1, 1, 1, 1, 1, 1, 1, 1, 1, 1, 1, 1, 1,\n",
      "        1, 1, 1, 1, 1, 1, 1, 1], device='cuda:0')\n",
      "('frame_004065.PNG', 'frame_004066.PNG', 'frame_004067.PNG', 'frame_004068.PNG', 'frame_004069.PNG', 'frame_004070.PNG', 'frame_004071.PNG', 'frame_004072.PNG', 'frame_004073.PNG', 'frame_004074.PNG', 'frame_004075.PNG', 'frame_004076.PNG', 'frame_004077.PNG', 'frame_004078.PNG', 'frame_004079.PNG', 'frame_004080.PNG', 'frame_004081.PNG', 'frame_004082.PNG', 'frame_004083.PNG', 'frame_004084.PNG', 'frame_004085.PNG', 'frame_004086.PNG', 'frame_004087.PNG', 'frame_004088.PNG', 'frame_004089.PNG', 'frame_004090.PNG', 'frame_004091.PNG', 'frame_004092.PNG', 'frame_004093.PNG', 'frame_004094.PNG', 'frame_004095.PNG', 'frame_004096.PNG') tensor([1, 1, 1, 1, 1, 1, 1, 1, 1, 1, 1, 1, 1, 1, 1, 1, 1, 1, 1, 1, 1, 1, 1, 1,\n",
      "        1, 1, 1, 1, 1, 1, 1, 1], device='cuda:0')\n",
      "('frame_004097.PNG', 'frame_004098.PNG', 'frame_004099.PNG', 'frame_004100.PNG', 'frame_004101.PNG', 'frame_004102.PNG', 'frame_004103.PNG', 'frame_004104.PNG', 'frame_004105.PNG', 'frame_004106.PNG', 'frame_004107.PNG', 'frame_004108.PNG', 'frame_004109.PNG', 'frame_004110.PNG', 'frame_004111.PNG', 'frame_004112.PNG', 'frame_004113.PNG', 'frame_004114.PNG', 'frame_004115.PNG', 'frame_004116.PNG', 'frame_004117.PNG', 'frame_004118.PNG', 'frame_004119.PNG', 'frame_004120.PNG', 'frame_004121.PNG', 'frame_004122.PNG', 'frame_004123.PNG', 'frame_004124.PNG', 'frame_004125.PNG', 'frame_004126.PNG', 'frame_004127.PNG', 'frame_004128.PNG') tensor([1, 1, 1, 1, 1, 1, 1, 1, 1, 1, 1, 1, 1, 1, 1, 1, 1, 1, 1, 1, 1, 1, 1, 1,\n",
      "        1, 1, 1, 1, 1, 1, 1, 1], device='cuda:0')\n",
      "('frame_004129.PNG', 'frame_004130.PNG', 'frame_004131.PNG', 'frame_004132.PNG', 'frame_004133.PNG', 'frame_004134.PNG', 'frame_004135.PNG', 'frame_004136.PNG', 'frame_004137.PNG', 'frame_004138.PNG', 'frame_004139.PNG', 'frame_004140.PNG', 'frame_004141.PNG', 'frame_004142.PNG', 'frame_004143.PNG', 'frame_004144.PNG', 'frame_004145.PNG', 'frame_004146.PNG', 'frame_004147.PNG', 'frame_004148.PNG', 'frame_004149.PNG', 'frame_004150.PNG', 'frame_004151.PNG', 'frame_004152.PNG', 'frame_004153.PNG', 'frame_004154.PNG', 'frame_004155.PNG', 'frame_004156.PNG', 'frame_004157.PNG', 'frame_004158.PNG', 'frame_004159.PNG', 'frame_004160.PNG') tensor([1, 1, 1, 1, 1, 1, 1, 1, 1, 1, 1, 1, 1, 1, 1, 1, 1, 1, 1, 1, 1, 1, 1, 1,\n",
      "        1, 1, 1, 1, 1, 1, 1, 1], device='cuda:0')\n"
     ]
    },
    {
     "name": "stderr",
     "output_type": "stream",
     "text": [
      " 65%|██████▍   | 191/296 [00:10<00:04, 24.69it/s]"
     ]
    },
    {
     "name": "stdout",
     "output_type": "stream",
     "text": [
      "('frame_004161.PNG', 'frame_004162.PNG', 'frame_004163.PNG', 'frame_004164.PNG', 'frame_004165.PNG', 'frame_004166.PNG', 'frame_004167.PNG', 'frame_004168.PNG', 'frame_004169.PNG', 'frame_004170.PNG', 'frame_004171.PNG', 'frame_004172.PNG', 'frame_004173.PNG', 'frame_004174.PNG', 'frame_004175.PNG', 'frame_004176.PNG', 'frame_004177.PNG', 'frame_004178.PNG', 'frame_004179.PNG', 'frame_004180.PNG', 'frame_004181.PNG', 'frame_004182.PNG', 'frame_004183.PNG', 'frame_004184.PNG', 'frame_004185.PNG', 'frame_004186.PNG', 'frame_004187.PNG', 'frame_004188.PNG', 'frame_004189.PNG', 'frame_004190.PNG', 'frame_004191.PNG', 'frame_004192.PNG') tensor([1, 1, 1, 1, 1, 1, 1, 1, 1, 1, 1, 1, 1, 1, 1, 1, 1, 1, 1, 1, 1, 1, 1, 1,\n",
      "        1, 1, 1, 1, 1, 1, 1, 1], device='cuda:0')\n",
      "('frame_004193.PNG', 'frame_004194.PNG', 'frame_004195.PNG', 'frame_004196.PNG', 'frame_004197.PNG', 'frame_004198.PNG', 'frame_004199.PNG', 'frame_004200.PNG', 'frame_004201.PNG', 'frame_004202.PNG', 'frame_004203.PNG', 'frame_004204.PNG', 'frame_004205.PNG', 'frame_004206.PNG', 'frame_004207.PNG', 'frame_004208.PNG', 'frame_004209.PNG', 'frame_004210.PNG', 'frame_004211.PNG', 'frame_004212.PNG', 'frame_004213.PNG', 'frame_004214.PNG', 'frame_004215.PNG', 'frame_004216.PNG', 'frame_004217.PNG', 'frame_004218.PNG', 'frame_004219.PNG', 'frame_004220.PNG', 'frame_004221.PNG', 'frame_004222.PNG', 'frame_004223.PNG', 'frame_004224.PNG') tensor([1, 1, 1, 1, 1, 1, 1, 1, 1, 1, 1, 1, 1, 1, 1, 1, 1, 1, 1, 1, 1, 1, 1, 1,\n",
      "        1, 1, 1, 1, 1, 1, 1, 1], device='cuda:0')\n",
      "('frame_004225.PNG', 'frame_004226.PNG', 'frame_004227.PNG', 'frame_004228.PNG', 'frame_004229.PNG', 'frame_004230.PNG', 'frame_004231.PNG', 'frame_004232.PNG', 'frame_004233.PNG', 'frame_004234.PNG', 'frame_004235.PNG', 'frame_004236.PNG', 'frame_004237.PNG', 'frame_004238.PNG', 'frame_004239.PNG', 'frame_004240.PNG', 'frame_004241.PNG', 'frame_004242.PNG', 'frame_004243.PNG', 'frame_004244.PNG', 'frame_004245.PNG', 'frame_004246.PNG', 'frame_004247.PNG', 'frame_004248.PNG', 'frame_004249.PNG', 'frame_004250.PNG', 'frame_004251.PNG', 'frame_004252.PNG', 'frame_004253.PNG', 'frame_004254.PNG', 'frame_004255.PNG', 'frame_004256.PNG') tensor([1, 1, 1, 1, 1, 1, 1, 1, 1, 1, 1, 1, 1, 1, 1, 1, 1, 1, 1, 1, 1, 1, 1, 1,\n",
      "        1, 1, 1, 1, 1, 1, 1, 1], device='cuda:0')\n",
      "('frame_004257.PNG', 'frame_004258.PNG', 'frame_004259.PNG', 'frame_004260.PNG', 'frame_004261.PNG', 'frame_004262.PNG', 'frame_004263.PNG', 'frame_004264.PNG', 'frame_004265.PNG', 'frame_004266.PNG', 'frame_004267.PNG', 'frame_004268.PNG', 'frame_004269.PNG', 'frame_004270.PNG', 'frame_004271.PNG', 'frame_004272.PNG', 'frame_004273.PNG', 'frame_004274.PNG', 'frame_004275.PNG', 'frame_004276.PNG', 'frame_004277.PNG', 'frame_004278.PNG', 'frame_004279.PNG', 'frame_004280.PNG', 'frame_004281.PNG', 'frame_004282.PNG', 'frame_004283.PNG', 'frame_004284.PNG', 'frame_004285.PNG', 'frame_004286.PNG', 'frame_004287.PNG', 'frame_004288.PNG') tensor([1, 1, 1, 1, 1, 1, 1, 1, 1, 1, 1, 1, 1, 1, 1, 1, 1, 1, 1, 1, 1, 1, 1, 1,\n",
      "        1, 1, 1, 1, 1, 1, 1, 1], device='cuda:0')\n",
      "('frame_004289.PNG', 'frame_004290.PNG', 'frame_004291.PNG', 'frame_004292.PNG', 'frame_004293.PNG', 'frame_004294.PNG', 'frame_004295.PNG', 'frame_004296.PNG', 'frame_004297.PNG', 'frame_004298.PNG', 'frame_004299.PNG', 'frame_004300.PNG', 'frame_004301.PNG', 'frame_004302.PNG', 'frame_004303.PNG', 'frame_004304.PNG', 'frame_004305.PNG', 'frame_004306.PNG', 'frame_004307.PNG', 'frame_004308.PNG', 'frame_004309.PNG', 'frame_004310.PNG', 'frame_004311.PNG', 'frame_004312.PNG', 'frame_004313.PNG', 'frame_004314.PNG', 'frame_004315.PNG', 'frame_004316.PNG', 'frame_004317.PNG', 'frame_004318.PNG', 'frame_004319.PNG', 'frame_004320.PNG') tensor([1, 1, 1, 1, 1, 1, 1, 1, 1, 1, 1, 1, 1, 1, 1, 1, 1, 1, 1, 1, 1, 1, 1, 1,\n",
      "        1, 1, 1, 1, 1, 1, 1, 1], device='cuda:0')\n"
     ]
    },
    {
     "name": "stderr",
     "output_type": "stream",
     "text": [
      " 66%|██████▌   | 194/296 [00:10<00:04, 25.23it/s]"
     ]
    },
    {
     "name": "stdout",
     "output_type": "stream",
     "text": [
      "('frame_004321.PNG', 'frame_004322.PNG', 'frame_004323.PNG', 'frame_004324.PNG', 'frame_004325.PNG', 'frame_004326.PNG', 'frame_004327.PNG', 'frame_004328.PNG', 'frame_004329.PNG', 'frame_004330.PNG', 'frame_004331.PNG', 'frame_004332.PNG', 'frame_004333.PNG', 'frame_004334.PNG', 'frame_004335.PNG', 'frame_004336.PNG', 'frame_004337.PNG', 'frame_004338.PNG', 'frame_004339.PNG', 'frame_004340.PNG', 'frame_004341.PNG', 'frame_004342.PNG', 'frame_004343.PNG', 'frame_004344.PNG', 'frame_004345.PNG', 'frame_004346.PNG', 'frame_004347.PNG', 'frame_004348.PNG', 'frame_004349.PNG', 'frame_004350.PNG', 'frame_004351.PNG', 'frame_004352.PNG') tensor([1, 1, 1, 1, 1, 1, 1, 1, 1, 1, 1, 1, 1, 1, 1, 1, 1, 1, 1, 1, 1, 1, 1, 1,\n",
      "        1, 1, 1, 1, 1, 1, 1, 1], device='cuda:0')\n",
      "('frame_004353.PNG', 'frame_004354.PNG', 'frame_004355.PNG', 'frame_004356.PNG', 'frame_004357.PNG', 'frame_004358.PNG', 'frame_004359.PNG', 'frame_004360.PNG', 'frame_004361.PNG', 'frame_004362.PNG', 'frame_004363.PNG', 'frame_004364.PNG', 'frame_004365.PNG', 'frame_004366.PNG', 'frame_004367.PNG', 'frame_004368.PNG', 'frame_004369.PNG', 'frame_004370.PNG', 'frame_004371.PNG', 'frame_004372.PNG', 'frame_004373.PNG', 'frame_004374.PNG', 'frame_004375.PNG', 'frame_004376.PNG', 'frame_004377.PNG', 'frame_004378.PNG', 'frame_004379.PNG', 'frame_004380.PNG', 'frame_004381.PNG', 'frame_004382.PNG', 'frame_004383.PNG', 'frame_004384.PNG') tensor([1, 1, 1, 1, 1, 1, 1, 1, 1, 1, 1, 1, 1, 1, 1, 1, 1, 1, 1, 1, 1, 1, 1, 1,\n",
      "        1, 1, 1, 1, 1, 1, 1, 1], device='cuda:0')\n",
      "('frame_004385.PNG', 'frame_004386.PNG', 'frame_004387.PNG', 'frame_004388.PNG', 'frame_004389.PNG', 'frame_004390.PNG', 'frame_004391.PNG', 'frame_004392.PNG', 'frame_004393.PNG', 'frame_004394.PNG', 'frame_004395.PNG', 'frame_004396.PNG', 'frame_004397.PNG', 'frame_004398.PNG', 'frame_004399.PNG', 'frame_004400.PNG', 'frame_004401.PNG', 'frame_004402.PNG', 'frame_004403.PNG', 'frame_004404.PNG', 'frame_004405.PNG', 'frame_004406.PNG', 'frame_004407.PNG', 'frame_004408.PNG', 'frame_004409.PNG', 'frame_004410.PNG', 'frame_004411.PNG', 'frame_004412.PNG', 'frame_004413.PNG', 'frame_004414.PNG', 'frame_004415.PNG', 'frame_004416.PNG') tensor([1, 1, 1, 1, 1, 1, 1, 1, 1, 1, 1, 1, 1, 1, 1, 1, 1, 1, 1, 1, 1, 1, 1, 1,\n",
      "        1, 1, 1, 1, 1, 1, 1, 1], device='cuda:0')\n",
      "('frame_004417.PNG', 'frame_004418.PNG', 'frame_004419.PNG', 'frame_004420.PNG', 'frame_004421.PNG', 'frame_004422.PNG', 'frame_004423.PNG', 'frame_004424.PNG', 'frame_004425.PNG', 'frame_004426.PNG', 'frame_004427.PNG', 'frame_004428.PNG', 'frame_004429.PNG', 'frame_004430.PNG', 'frame_004431.PNG', 'frame_004432.PNG', 'frame_004433.PNG', 'frame_004434.PNG', 'frame_004435.PNG', 'frame_004436.PNG', 'frame_004437.PNG', 'frame_004438.PNG', 'frame_004439.PNG', 'frame_004440.PNG', 'frame_004441.PNG', 'frame_004442.PNG', 'frame_004443.PNG', 'frame_004444.PNG', 'frame_004445.PNG', 'frame_004446.PNG', 'frame_004447.PNG', 'frame_004448.PNG') tensor([1, 1, 1, 1, 1, 1, 1, 1, 1, 1, 1, 1, 1, 1, 1, 1, 1, 1, 1, 1, 1, 1, 1, 1,\n",
      "        1, 1, 1, 1, 1, 1, 1, 1], device='cuda:0')\n",
      "('frame_004449.PNG', 'frame_004450.PNG', 'frame_004451.PNG', 'frame_004452.PNG', 'frame_004453.PNG', 'frame_004454.PNG', 'frame_004455.PNG', 'frame_004456.PNG', 'frame_004457.PNG', 'frame_004458.PNG', 'frame_004459.PNG', 'frame_004460.PNG', 'frame_004461.PNG', 'frame_004462.PNG', 'frame_004463.PNG', 'frame_004464.PNG', 'frame_004465.PNG', 'frame_004466.PNG', 'frame_004467.PNG', 'frame_004468.PNG', 'frame_004469.PNG', 'frame_004470.PNG', 'frame_004471.PNG', 'frame_004472.PNG', 'frame_004473.PNG', 'frame_004474.PNG', 'frame_004475.PNG', 'frame_004476.PNG', 'frame_004477.PNG', 'frame_004478.PNG', 'frame_004479.PNG', 'frame_004480.PNG') tensor([1, 1, 1, 1, 1, 1, 1, 1, 1, 1, 1, 1, 1, 1, 1, 1, 1, 1, 1, 1, 1, 1, 1, 1,\n",
      "        1, 1, 1, 1, 1, 1, 1, 1], device='cuda:0')\n"
     ]
    },
    {
     "name": "stderr",
     "output_type": "stream",
     "text": [
      " 68%|██████▊   | 200/296 [00:10<00:04, 23.55it/s]"
     ]
    },
    {
     "name": "stdout",
     "output_type": "stream",
     "text": [
      "('frame_004481.PNG', 'frame_004482.PNG', 'frame_004483.PNG', 'frame_004484.PNG', 'frame_004485.PNG', 'frame_004486.PNG', 'frame_004487.PNG', 'frame_004488.PNG', 'frame_004489.PNG', 'frame_004490.PNG', 'frame_004491.PNG', 'frame_004492.PNG', 'frame_004493.PNG', 'frame_004494.PNG', 'frame_004495.PNG', 'frame_004496.PNG', 'frame_004497.PNG', 'frame_004498.PNG', 'frame_004499.PNG', 'frame_004500.PNG', 'frame_004501.PNG', 'frame_004502.PNG', 'frame_004503.PNG', 'frame_004504.PNG', 'frame_004505.PNG', 'frame_004506.PNG', 'frame_004507.PNG', 'frame_004508.PNG', 'frame_004509.PNG', 'frame_004510.PNG', 'frame_004511.PNG', 'frame_004512.PNG') tensor([1, 1, 1, 1, 1, 1, 1, 1, 1, 1, 1, 1, 1, 1, 1, 1, 1, 1, 1, 1, 1, 1, 1, 1,\n",
      "        1, 1, 1, 1, 1, 1, 1, 1], device='cuda:0')\n",
      "('frame_004513.PNG', 'frame_004514.PNG', 'frame_004515.PNG', 'frame_004516.PNG', 'frame_004517.PNG', 'frame_004518.PNG', 'frame_004519.PNG', 'frame_004520.PNG', 'frame_004521.PNG', 'frame_004522.PNG', 'frame_004523.PNG', 'frame_004524.PNG', 'frame_004525.PNG', 'frame_004526.PNG', 'frame_004527.PNG', 'frame_004528.PNG', 'frame_004529.PNG', 'frame_004530.PNG', 'frame_004531.PNG', 'frame_004532.PNG', 'frame_004533.PNG', 'frame_004534.PNG', 'frame_004535.PNG', 'frame_004536.PNG', 'frame_004537.PNG', 'frame_004538.PNG', 'frame_004539.PNG', 'frame_004540.PNG', 'frame_004541.PNG', 'frame_004542.PNG', 'frame_004543.PNG', 'frame_004544.PNG') tensor([1, 1, 1, 1, 1, 1, 1, 1, 1, 1, 1, 1, 1, 1, 1, 1, 1, 1, 1, 1, 1, 1, 1, 1,\n",
      "        1, 1, 1, 1, 1, 1, 1, 1], device='cuda:0')\n",
      "('frame_004545.PNG', 'frame_004546.PNG', 'frame_004547.PNG', 'frame_004548.PNG', 'frame_004549.PNG', 'frame_004550.PNG', 'frame_004551.PNG', 'frame_004552.PNG', 'frame_004553.PNG', 'frame_004554.PNG', 'frame_004555.PNG', 'frame_004556.PNG', 'frame_004557.PNG', 'frame_004558.PNG', 'frame_004559.PNG', 'frame_004560.PNG', 'frame_004561.PNG', 'frame_004562.PNG', 'frame_004563.PNG', 'frame_004564.PNG', 'frame_004565.PNG', 'frame_004566.PNG', 'frame_004567.PNG', 'frame_004568.PNG', 'frame_004569.PNG', 'frame_004570.PNG', 'frame_004571.PNG', 'frame_004572.PNG', 'frame_004573.PNG', 'frame_004574.PNG', 'frame_004575.PNG', 'frame_004576.PNG') tensor([1, 1, 1, 1, 1, 1, 1, 1, 1, 1, 1, 1, 1, 1, 1, 1, 1, 1, 1, 1, 1, 1, 1, 1,\n",
      "        1, 1, 1, 1, 1, 1, 1, 1], device='cuda:0')\n",
      "('frame_004577.PNG', 'frame_004578.PNG', 'frame_004579.PNG', 'frame_004580.PNG', 'frame_004581.PNG', 'frame_004582.PNG', 'frame_004583.PNG', 'frame_004584.PNG', 'frame_004585.PNG', 'frame_004586.PNG', 'frame_004587.PNG', 'frame_004588.PNG', 'frame_004589.PNG', 'frame_004590.PNG', 'frame_004591.PNG', 'frame_004592.PNG', 'frame_004593.PNG', 'frame_004594.PNG', 'frame_004595.PNG', 'frame_004596.PNG', 'frame_004597.PNG', 'frame_004598.PNG', 'frame_004599.PNG', 'frame_004600.PNG', 'frame_004601.PNG', 'frame_004602.PNG', 'frame_004603.PNG', 'frame_004604.PNG', 'frame_004605.PNG', 'frame_004606.PNG', 'frame_004607.PNG', 'frame_004608.PNG') tensor([1, 1, 1, 1, 1, 1, 1, 1, 1, 1, 1, 1, 1, 1, 1, 1, 1, 1, 1, 1, 1, 1, 1, 1,\n",
      "        1, 1, 1, 1, 1, 1, 1, 1], device='cuda:0')\n",
      "('frame_004609.PNG', 'frame_004610.PNG', 'frame_004611.PNG', 'frame_004612.PNG', 'frame_004613.PNG', 'frame_004614.PNG', 'frame_004615.PNG', 'frame_004616.PNG', 'frame_004617.PNG', 'frame_004618.PNG', 'frame_004619.PNG', 'frame_004620.PNG', 'frame_004621.PNG', 'frame_004622.PNG', 'frame_004623.PNG', 'frame_004624.PNG', 'frame_004625.PNG', 'frame_004626.PNG', 'frame_004627.PNG', 'frame_004628.PNG', 'frame_004629.PNG', 'frame_004630.PNG', 'frame_004631.PNG', 'frame_004632.PNG', 'frame_004633.PNG', 'frame_004634.PNG', 'frame_004635.PNG', 'frame_004636.PNG', 'frame_004637.PNG', 'frame_004638.PNG', 'frame_004639.PNG', 'frame_004640.PNG') tensor([1, 1, 1, 1, 1, 1, 1, 1, 1, 1, 1, 1, 1, 1, 1, 1, 1, 1, 1, 1, 1, 1, 1, 1,\n",
      "        1, 1, 1, 1, 1, 1, 1, 1], device='cuda:0')\n"
     ]
    },
    {
     "name": "stderr",
     "output_type": "stream",
     "text": [
      " 70%|██████▉   | 206/296 [00:11<00:03, 24.26it/s]"
     ]
    },
    {
     "name": "stdout",
     "output_type": "stream",
     "text": [
      "('frame_004641.PNG', 'frame_004642.PNG', 'frame_004643.PNG', 'frame_004644.PNG', 'frame_004645.PNG', 'frame_004646.PNG', 'frame_004647.PNG', 'frame_004648.PNG', 'frame_004649.PNG', 'frame_004650.PNG', 'frame_004651.PNG', 'frame_004652.PNG', 'frame_004653.PNG', 'frame_004654.PNG', 'frame_004655.PNG', 'frame_004656.PNG', 'frame_004657.PNG', 'frame_004658.PNG', 'frame_004659.PNG', 'frame_004660.PNG', 'frame_004661.PNG', 'frame_004662.PNG', 'frame_004663.PNG', 'frame_004664.PNG', 'frame_004665.PNG', 'frame_004666.PNG', 'frame_004667.PNG', 'frame_004668.PNG', 'frame_004669.PNG', 'frame_004670.PNG', 'frame_004671.PNG', 'frame_004672.PNG') tensor([1, 1, 1, 1, 1, 1, 1, 1, 1, 1, 1, 1, 1, 1, 1, 1, 1, 1, 1, 1, 1, 1, 1, 1,\n",
      "        1, 1, 1, 1, 1, 1, 1, 1], device='cuda:0')\n",
      "('frame_004673.PNG', 'frame_004674.PNG', 'frame_004675.PNG', 'frame_004676.PNG', 'frame_004677.PNG', 'frame_004678.PNG', 'frame_004679.PNG', 'frame_004680.PNG', 'frame_004681.PNG', 'frame_004682.PNG', 'frame_004683.PNG', 'frame_004684.PNG', 'frame_004685.PNG', 'frame_004686.PNG', 'frame_004687.PNG', 'frame_004688.PNG', 'frame_004689.PNG', 'frame_004690.PNG', 'frame_004691.PNG', 'frame_004692.PNG', 'frame_004693.PNG', 'frame_004694.PNG', 'frame_004695.PNG', 'frame_004696.PNG', 'frame_004697.PNG', 'frame_004698.PNG', 'frame_004699.PNG', 'frame_004700.PNG', 'frame_004701.PNG', 'frame_004702.PNG', 'frame_004703.PNG', 'frame_004704.PNG') tensor([1, 1, 1, 1, 1, 1, 1, 1, 1, 1, 1, 1, 1, 1, 1, 1, 1, 1, 1, 1, 1, 1, 1, 1,\n",
      "        1, 1, 1, 1, 1, 1, 1, 1], device='cuda:0')\n",
      "('frame_004705.PNG', 'frame_004706.PNG', 'frame_004707.PNG', 'frame_004708.PNG', 'frame_004709.PNG', 'frame_004710.PNG', 'frame_004711.PNG', 'frame_004712.PNG', 'frame_004713.PNG', 'frame_004714.PNG', 'frame_004715.PNG', 'frame_004716.PNG', 'frame_004717.PNG', 'frame_004718.PNG', 'frame_004719.PNG', 'frame_004720.PNG', 'frame_004721.PNG', 'frame_004722.PNG', 'frame_004723.PNG', 'frame_004724.PNG', 'frame_004725.PNG', 'frame_004726.PNG', 'frame_004727.PNG', 'frame_004728.PNG', 'frame_004729.PNG', 'frame_004730.PNG', 'frame_004731.PNG', 'frame_000000.PNG', 'frame_000001.PNG', 'frame_000002.PNG', 'frame_000003.PNG', 'frame_000004.PNG') tensor([1, 1, 1, 1, 1, 1, 1, 1, 1, 1, 1, 1, 1, 1, 1, 1, 1, 1, 1, 1, 1, 1, 1, 1,\n",
      "        1, 1, 1, 1, 1, 1, 1, 1], device='cuda:0')\n",
      "('frame_000005.PNG', 'frame_000006.PNG', 'frame_000007.PNG', 'frame_000008.PNG', 'frame_000009.PNG', 'frame_000010.PNG', 'frame_000011.PNG', 'frame_000012.PNG', 'frame_000013.PNG', 'frame_000014.PNG', 'frame_000015.PNG', 'frame_000016.PNG', 'frame_000017.PNG', 'frame_000018.PNG', 'frame_000019.PNG', 'frame_000020.PNG', 'frame_000021.PNG', 'frame_000022.PNG', 'frame_000023.PNG', 'frame_000024.PNG', 'frame_000025.PNG', 'frame_000026.PNG', 'frame_000027.PNG', 'frame_000028.PNG', 'frame_000029.PNG', 'frame_000030.PNG', 'frame_000031.PNG', 'frame_000032.PNG', 'frame_000033.PNG', 'frame_000034.PNG', 'frame_000035.PNG', 'frame_000036.PNG') tensor([1, 1, 1, 1, 1, 1, 1, 1, 1, 1, 1, 1, 1, 1, 1, 1, 1, 1, 1, 1, 1, 1, 1, 1,\n",
      "        1, 1, 1, 1, 1, 1, 1, 1], device='cuda:0')\n",
      "('frame_000037.PNG', 'frame_000038.PNG', 'frame_000039.PNG', 'frame_000040.PNG', 'frame_000041.PNG', 'frame_000042.PNG', 'frame_000043.PNG', 'frame_000044.PNG', 'frame_000045.PNG', 'frame_000046.PNG', 'frame_000047.PNG', 'frame_000048.PNG', 'frame_000049.PNG', 'frame_000050.PNG', 'frame_000051.PNG', 'frame_000052.PNG', 'frame_000053.PNG', 'frame_000054.PNG', 'frame_000055.PNG', 'frame_000056.PNG', 'frame_000057.PNG', 'frame_000058.PNG', 'frame_000059.PNG', 'frame_000060.PNG', 'frame_000061.PNG', 'frame_000062.PNG', 'frame_000063.PNG', 'frame_000064.PNG', 'frame_000065.PNG', 'frame_000066.PNG', 'frame_000067.PNG', 'frame_000068.PNG') tensor([1, 1, 1, 1, 1, 1, 1, 1, 1, 1, 1, 1, 1, 1, 1, 1, 1, 1, 1, 1, 1, 1, 1, 1,\n",
      "        1, 1, 1, 1, 1, 1, 1, 1], device='cuda:0')\n",
      "('frame_000069.PNG', 'frame_000070.PNG', 'frame_000071.PNG', 'frame_000072.PNG', 'frame_000073.PNG', 'frame_000074.PNG', 'frame_000075.PNG', 'frame_000076.PNG', 'frame_000077.PNG', 'frame_000078.PNG', 'frame_000079.PNG', 'frame_000080.PNG', 'frame_000081.PNG', 'frame_000082.PNG', 'frame_000083.PNG', 'frame_000084.PNG', 'frame_000085.PNG', 'frame_000086.PNG', 'frame_000087.PNG', 'frame_000088.PNG', 'frame_000089.PNG', 'frame_000090.PNG', 'frame_000091.PNG', 'frame_000092.PNG', 'frame_000093.PNG', 'frame_000094.PNG', 'frame_000095.PNG', 'frame_000096.PNG', 'frame_000097.PNG', 'frame_000098.PNG', 'frame_000099.PNG', 'frame_000100.PNG') "
     ]
    },
    {
     "name": "stderr",
     "output_type": "stream",
     "text": [
      " 72%|███████▏  | 212/296 [00:11<00:03, 24.91it/s]"
     ]
    },
    {
     "name": "stdout",
     "output_type": "stream",
     "text": [
      "tensor([1, 1, 1, 1, 1, 1, 1, 1, 1, 1, 1, 1, 1, 1, 1, 1, 1, 1, 1, 1, 1, 1, 1, 1,\n",
      "        1, 1, 1, 1, 1, 1, 1, 1], device='cuda:0')\n",
      "('frame_000101.PNG', 'frame_000102.PNG', 'frame_000103.PNG', 'frame_000104.PNG', 'frame_000105.PNG', 'frame_000106.PNG', 'frame_000107.PNG', 'frame_000108.PNG', 'frame_000109.PNG', 'frame_000110.PNG', 'frame_000111.PNG', 'frame_000112.PNG', 'frame_000113.PNG', 'frame_000114.PNG', 'frame_000115.PNG', 'frame_000116.PNG', 'frame_000117.PNG', 'frame_000118.PNG', 'frame_000119.PNG', 'frame_000120.PNG', 'frame_000121.PNG', 'frame_000122.PNG', 'frame_000123.PNG', 'frame_000124.PNG', 'frame_000125.PNG', 'frame_000126.PNG', 'frame_000127.PNG', 'frame_000128.PNG', 'frame_000129.PNG', 'frame_000130.PNG', 'frame_000131.PNG', 'frame_000132.PNG') tensor([1, 1, 1, 1, 1, 1, 1, 1, 1, 1, 1, 1, 1, 1, 1, 1, 1, 1, 1, 1, 1, 1, 1, 1,\n",
      "        1, 1, 1, 1, 1, 1, 1, 1], device='cuda:0')\n",
      "('frame_000133.PNG', 'frame_000134.PNG', 'frame_000135.PNG', 'frame_000136.PNG', 'frame_000137.PNG', 'frame_000138.PNG', 'frame_000139.PNG', 'frame_000140.PNG', 'frame_000141.PNG', 'frame_000142.PNG', 'frame_000143.PNG', 'frame_000144.PNG', 'frame_000145.PNG', 'frame_000146.PNG', 'frame_000147.PNG', 'frame_000148.PNG', 'frame_000149.PNG', 'frame_000150.PNG', 'frame_000151.PNG', 'frame_000152.PNG', 'frame_000153.PNG', 'frame_000154.PNG', 'frame_000155.PNG', 'frame_000156.PNG', 'frame_000157.PNG', 'frame_000158.PNG', 'frame_000159.PNG', 'frame_000160.PNG', 'frame_000161.PNG', 'frame_000162.PNG', 'frame_000163.PNG', 'frame_000164.PNG') tensor([1, 1, 1, 1, 1, 1, 1, 1, 1, 1, 1, 1, 1, 1, 1, 1, 1, 1, 1, 1, 1, 1, 1, 1,\n",
      "        1, 1, 1, 1, 1, 1, 1, 1], device='cuda:0')\n",
      "('frame_000165.PNG', 'frame_000166.PNG', 'frame_000167.PNG', 'frame_000168.PNG', 'frame_000169.PNG', 'frame_000170.PNG', 'frame_000171.PNG', 'frame_000172.PNG', 'frame_000173.PNG', 'frame_000174.PNG', 'frame_000175.PNG', 'frame_000176.PNG', 'frame_000177.PNG', 'frame_000178.PNG', 'frame_000179.PNG', 'frame_000180.PNG', 'frame_000181.PNG', 'frame_000182.PNG', 'frame_000183.PNG', 'frame_000184.PNG', 'frame_000185.PNG', 'frame_000186.PNG', 'frame_000187.PNG', 'frame_000188.PNG', 'frame_000189.PNG', 'frame_000190.PNG', 'frame_000191.PNG', 'frame_000192.PNG', 'frame_000193.PNG', 'frame_000194.PNG', 'frame_000195.PNG', 'frame_000196.PNG') tensor([1, 1, 1, 1, 1, 1, 1, 1, 1, 1, 1, 1, 1, 1, 1, 1, 1, 1, 1, 1, 1, 1, 1, 1,\n",
      "        1, 1, 1, 1, 1, 1, 1, 1], device='cuda:0')\n",
      "('frame_000197.PNG', 'frame_000198.PNG', 'frame_000199.PNG', 'frame_000200.PNG', 'frame_000201.PNG', 'frame_000202.PNG', 'frame_000203.PNG', 'frame_000204.PNG', 'frame_000205.PNG', 'frame_000206.PNG', 'frame_000207.PNG', 'frame_000208.PNG', 'frame_000209.PNG', 'frame_000210.PNG', 'frame_000211.PNG', 'frame_000212.PNG', 'frame_000213.PNG', 'frame_000214.PNG', 'frame_000215.PNG', 'frame_000216.PNG', 'frame_000217.PNG', 'frame_000218.PNG', 'frame_000219.PNG', 'frame_000220.PNG', 'frame_000221.PNG', 'frame_000222.PNG', 'frame_000223.PNG', 'frame_000224.PNG', 'frame_000225.PNG', 'frame_000226.PNG', 'frame_000227.PNG', 'frame_000228.PNG') tensor([1, 1, 1, 1, 1, 1, 1, 1, 1, 1, 1, 1, 1, 1, 1, 1, 1, 1, 1, 1, 1, 1, 1, 1,\n",
      "        1, 1, 1, 1, 1, 1, 1, 1], device='cuda:0')\n",
      "('frame_000229.PNG', 'frame_000230.PNG', 'frame_000231.PNG', 'frame_000232.PNG', 'frame_000233.PNG', 'frame_000234.PNG', 'frame_000235.PNG', 'frame_000236.PNG', 'frame_000237.PNG', 'frame_000238.PNG', 'frame_000239.PNG', 'frame_000240.PNG', 'frame_000241.PNG', 'frame_000242.PNG', 'frame_000243.PNG', 'frame_000244.PNG', 'frame_000245.PNG', 'frame_000246.PNG', 'frame_000247.PNG', 'frame_000248.PNG', 'frame_000249.PNG', 'frame_000250.PNG', 'frame_000251.PNG', 'frame_000252.PNG', 'frame_000253.PNG', 'frame_000254.PNG', 'frame_000255.PNG', 'frame_000256.PNG', 'frame_000257.PNG', 'frame_000258.PNG', 'frame_000259.PNG', 'frame_000260.PNG') tensor([1, 1, 1, 1, 1, 1, 1, 1, 1, 1, 1, 1, 1, 1, 1, 1, 1, 1, 1, 1, 1, 1, 1, 1,\n",
      "        1, 1, 1, 1, 1, 1, 1, 1], device='cuda:0')\n"
     ]
    },
    {
     "name": "stderr",
     "output_type": "stream",
     "text": [
      " 73%|███████▎  | 215/296 [00:11<00:03, 24.94it/s]"
     ]
    },
    {
     "name": "stdout",
     "output_type": "stream",
     "text": [
      "('frame_000261.PNG', 'frame_000262.PNG', 'frame_000263.PNG', 'frame_000264.PNG', 'frame_000265.PNG', 'frame_000266.PNG', 'frame_000267.PNG', 'frame_000268.PNG', 'frame_000269.PNG', 'frame_000270.PNG', 'frame_000271.PNG', 'frame_000272.PNG', 'frame_000273.PNG', 'frame_000274.PNG', 'frame_000275.PNG', 'frame_000276.PNG', 'frame_000277.PNG', 'frame_000278.PNG', 'frame_000279.PNG', 'frame_000280.PNG', 'frame_000281.PNG', 'frame_000282.PNG', 'frame_000283.PNG', 'frame_000284.PNG', 'frame_000285.PNG', 'frame_000286.PNG', 'frame_000287.PNG', 'frame_000288.PNG', 'frame_000289.PNG', 'frame_000290.PNG', 'frame_000291.PNG', 'frame_000292.PNG') tensor([1, 1, 1, 1, 1, 1, 1, 1, 1, 1, 1, 1, 1, 1, 1, 1, 1, 1, 1, 1, 1, 1, 1, 1,\n",
      "        1, 1, 1, 1, 1, 1, 1, 1], device='cuda:0')\n",
      "('frame_000293.PNG', 'frame_000294.PNG', 'frame_000295.PNG', 'frame_000296.PNG', 'frame_000297.PNG', 'frame_000298.PNG', 'frame_000299.PNG', 'frame_000300.PNG', 'frame_000301.PNG', 'frame_000302.PNG', 'frame_000303.PNG', 'frame_000304.PNG', 'frame_000305.PNG', 'frame_000306.PNG', 'frame_000307.PNG', 'frame_000308.PNG', 'frame_000309.PNG', 'frame_000310.PNG', 'frame_000311.PNG', 'frame_000312.PNG', 'frame_000313.PNG', 'frame_000314.PNG', 'frame_000315.PNG', 'frame_000316.PNG', 'frame_000317.PNG', 'frame_000318.PNG', 'frame_000319.PNG', 'frame_000320.PNG', 'frame_000321.PNG', 'frame_000322.PNG', 'frame_000323.PNG', 'frame_000324.PNG') tensor([1, 1, 1, 1, 1, 1, 1, 1, 1, 1, 1, 1, 1, 1, 1, 1, 1, 1, 1, 1, 1, 1, 1, 1,\n",
      "        1, 1, 1, 1, 1, 1, 1, 1], device='cuda:0')\n",
      "('frame_000325.PNG', 'frame_000326.PNG', 'frame_000327.PNG', 'frame_000328.PNG', 'frame_000329.PNG', 'frame_000330.PNG', 'frame_000331.PNG', 'frame_000332.PNG', 'frame_000333.PNG', 'frame_000334.PNG', 'frame_000335.PNG', 'frame_000336.PNG', 'frame_000337.PNG', 'frame_000338.PNG', 'frame_000339.PNG', 'frame_000340.PNG', 'frame_000341.PNG', 'frame_000342.PNG', 'frame_000343.PNG', 'frame_000344.PNG', 'frame_000345.PNG', 'frame_000346.PNG', 'frame_000347.PNG', 'frame_000348.PNG', 'frame_000349.PNG', 'frame_000350.PNG', 'frame_000351.PNG', 'frame_000352.PNG', 'frame_000353.PNG', 'frame_000354.PNG', 'frame_000355.PNG', 'frame_000356.PNG') tensor([1, 1, 1, 1, 1, 1, 1, 1, 1, 1, 1, 1, 1, 1, 1, 1, 1, 1, 1, 1, 1, 1, 1, 1,\n",
      "        1, 1, 1, 1, 1, 1, 1, 1], device='cuda:0')\n",
      "('frame_000357.PNG', 'frame_000358.PNG', 'frame_000359.PNG', 'frame_000360.PNG', 'frame_000361.PNG', 'frame_000362.PNG', 'frame_000363.PNG', 'frame_000364.PNG', 'frame_000365.PNG', 'frame_000366.PNG', 'frame_000367.PNG', 'frame_000368.PNG', 'frame_000369.PNG', 'frame_000370.PNG', 'frame_000371.PNG', 'frame_000372.PNG', 'frame_000373.PNG', 'frame_000374.PNG', 'frame_000375.PNG', 'frame_000376.PNG', 'frame_000377.PNG', 'frame_000378.PNG', 'frame_000379.PNG', 'frame_000380.PNG', 'frame_000381.PNG', 'frame_000382.PNG', 'frame_000383.PNG', 'frame_000384.PNG', 'frame_000385.PNG', 'frame_000386.PNG', 'frame_000387.PNG', 'frame_000388.PNG') tensor([1, 1, 1, 1, 1, 1, 1, 1, 1, 1, 1, 1, 1, 1, 1, 1, 1, 1, 1, 1, 1, 1, 1, 1,\n",
      "        1, 1, 1, 1, 1, 1, 1, 1], device='cuda:0')\n",
      "('frame_000389.PNG', 'frame_000390.PNG', 'frame_000391.PNG', 'frame_000392.PNG', 'frame_000393.PNG', 'frame_000394.PNG', 'frame_000395.PNG', 'frame_000396.PNG', 'frame_000397.PNG', 'frame_000398.PNG', 'frame_000399.PNG', 'frame_000400.PNG', 'frame_000401.PNG', 'frame_000402.PNG', 'frame_000403.PNG', 'frame_000404.PNG', 'frame_000405.PNG', 'frame_000406.PNG', 'frame_000407.PNG', 'frame_000408.PNG', 'frame_000409.PNG', 'frame_000410.PNG', 'frame_000411.PNG', 'frame_000412.PNG', 'frame_000413.PNG', 'frame_000414.PNG', 'frame_000415.PNG', 'frame_000416.PNG', 'frame_000417.PNG', 'frame_000418.PNG', 'frame_000419.PNG', 'frame_000420.PNG') tensor([1, 1, 1, 1, 1, 1, 1, 1, 1, 1, 1, 1, 1, 1, 1, 1, 1, 1, 1, 1, 1, 1, 1, 1,\n",
      "        1, 1, 1, 1, 1, 1, 1, 1], device='cuda:0')\n",
      "('frame_000421.PNG', 'frame_000422.PNG', 'frame_000423.PNG', 'frame_000424.PNG', 'frame_000425.PNG', 'frame_000426.PNG', 'frame_000427.PNG', 'frame_000428.PNG', 'frame_000429.PNG', 'frame_000430.PNG', 'frame_000431.PNG', 'frame_000432.PNG', 'frame_000433.PNG', 'frame_000434.PNG', 'frame_000435.PNG', 'frame_000436.PNG', 'frame_000437.PNG', 'frame_000438.PNG', 'frame_000439.PNG', 'frame_000440.PNG', 'frame_000441.PNG', 'frame_000442.PNG', 'frame_000443.PNG', 'frame_000444.PNG', 'frame_000445.PNG', 'frame_000446.PNG', 'frame_000447.PNG', 'frame_000448.PNG', 'frame_000449.PNG', 'frame_000450.PNG', 'frame_000451.PNG', 'frame_000452.PNG') "
     ]
    },
    {
     "name": "stderr",
     "output_type": "stream",
     "text": [
      " 75%|███████▍  | 221/296 [00:11<00:02, 25.09it/s]"
     ]
    },
    {
     "name": "stdout",
     "output_type": "stream",
     "text": [
      "tensor([1, 1, 1, 1, 1, 1, 1, 1, 1, 1, 1, 1, 1, 1, 1, 1, 1, 1, 1, 1, 1, 1, 1, 1,\n",
      "        1, 1, 1, 1, 1, 1, 1, 1], device='cuda:0')\n",
      "('frame_000453.PNG', 'frame_000454.PNG', 'frame_000455.PNG', 'frame_000456.PNG', 'frame_000457.PNG', 'frame_000458.PNG', 'frame_000459.PNG', 'frame_000460.PNG', 'frame_000461.PNG', 'frame_000462.PNG', 'frame_000463.PNG', 'frame_000464.PNG', 'frame_000465.PNG', 'frame_000466.PNG', 'frame_000467.PNG', 'frame_000468.PNG', 'frame_000469.PNG', 'frame_000470.PNG', 'frame_000471.PNG', 'frame_000472.PNG', 'frame_000473.PNG', 'frame_000474.PNG', 'frame_000475.PNG', 'frame_000476.PNG', 'frame_000477.PNG', 'frame_000478.PNG', 'frame_000479.PNG', 'frame_000480.PNG', 'frame_000481.PNG', 'frame_000482.PNG', 'frame_000483.PNG', 'frame_000484.PNG') tensor([1, 1, 1, 1, 1, 1, 1, 1, 1, 1, 1, 1, 1, 1, 1, 1, 1, 1, 1, 1, 1, 1, 1, 1,\n",
      "        1, 1, 1, 1, 1, 1, 1, 1], device='cuda:0')\n",
      "('frame_000485.PNG', 'frame_000486.PNG', 'frame_000487.PNG', 'frame_000488.PNG', 'frame_000489.PNG', 'frame_000490.PNG', 'frame_000491.PNG', 'frame_000492.PNG', 'frame_000493.PNG', 'frame_000494.PNG', 'frame_000495.PNG', 'frame_000496.PNG', 'frame_000497.PNG', 'frame_000498.PNG', 'frame_000499.PNG', 'frame_000500.PNG', 'frame_000501.PNG', 'frame_000502.PNG', 'frame_000503.PNG', 'frame_000504.PNG', 'frame_000505.PNG', 'frame_000506.PNG', 'frame_000507.PNG', 'frame_000508.PNG', 'frame_000509.PNG', 'frame_000510.PNG', 'frame_000511.PNG', 'frame_000512.PNG', 'frame_000513.PNG', 'frame_000514.PNG', 'frame_000515.PNG', 'frame_000516.PNG') tensor([1, 1, 1, 1, 1, 1, 1, 1, 1, 1, 1, 1, 1, 1, 1, 1, 1, 1, 1, 1, 1, 1, 1, 1,\n",
      "        1, 1, 1, 1, 1, 1, 1, 1], device='cuda:0')\n",
      "('frame_000517.PNG', 'frame_000518.PNG', 'frame_000519.PNG', 'frame_000520.PNG', 'frame_000521.PNG', 'frame_000522.PNG', 'frame_000523.PNG', 'frame_000524.PNG', 'frame_000525.PNG', 'frame_000526.PNG', 'frame_000527.PNG', 'frame_000528.PNG', 'frame_000529.PNG', 'frame_000530.PNG', 'frame_000531.PNG', 'frame_000532.PNG', 'frame_000533.PNG', 'frame_000534.PNG', 'frame_000535.PNG', 'frame_000536.PNG', 'frame_000537.PNG', 'frame_000538.PNG', 'frame_000539.PNG', 'frame_000540.PNG', 'frame_000541.PNG', 'frame_000542.PNG', 'frame_000543.PNG', 'frame_000544.PNG', 'frame_000545.PNG', 'frame_000546.PNG', 'frame_000547.PNG', 'frame_000548.PNG') tensor([1, 1, 1, 1, 1, 1, 1, 1, 1, 1, 1, 1, 1, 1, 1, 1, 1, 1, 1, 1, 1, 1, 1, 1,\n",
      "        1, 1, 1, 1, 1, 1, 1, 1], device='cuda:0')\n",
      "('frame_000549.PNG', 'frame_000550.PNG', 'frame_000551.PNG', 'frame_000552.PNG', 'frame_000553.PNG', 'frame_000554.PNG', 'frame_000555.PNG', 'frame_000556.PNG', 'frame_000557.PNG', 'frame_000558.PNG', 'frame_000559.PNG', 'frame_000560.PNG', 'frame_000561.PNG', 'frame_000562.PNG', 'frame_000563.PNG', 'frame_000564.PNG', 'frame_000565.PNG', 'frame_000566.PNG', 'frame_000567.PNG', 'frame_000568.PNG', 'frame_000569.PNG', 'frame_000570.PNG', 'frame_000571.PNG', 'frame_000572.PNG', 'frame_000573.PNG', 'frame_000574.PNG', 'frame_000575.PNG', 'frame_000576.PNG', 'frame_000577.PNG', 'frame_000578.PNG', 'frame_000579.PNG', 'frame_000580.PNG') tensor([1, 1, 1, 1, 1, 1, 1, 1, 1, 1, 1, 1, 1, 1, 1, 1, 1, 1, 1, 1, 1, 1, 1, 1,\n",
      "        1, 1, 1, 1, 1, 1, 1, 1], device='cuda:0')\n",
      "('frame_000581.PNG', 'frame_000582.PNG', 'frame_000583.PNG', 'frame_000584.PNG', 'frame_000585.PNG', 'frame_000586.PNG', 'frame_000587.PNG', 'frame_000588.PNG', 'frame_000589.PNG', 'frame_000590.PNG', 'frame_000591.PNG', 'frame_000592.PNG', 'frame_000593.PNG', 'frame_000594.PNG', 'frame_000595.PNG', 'frame_000596.PNG', 'frame_000597.PNG', 'frame_000598.PNG', 'frame_000599.PNG', 'frame_000600.PNG', 'frame_000601.PNG', 'frame_000602.PNG', 'frame_000603.PNG', 'frame_000604.PNG', 'frame_000605.PNG', 'frame_000606.PNG', 'frame_000607.PNG', 'frame_000608.PNG', 'frame_000609.PNG', 'frame_000610.PNG', 'frame_000611.PNG', 'frame_000612.PNG') "
     ]
    },
    {
     "name": "stderr",
     "output_type": "stream",
     "text": [
      " 77%|███████▋  | 227/296 [00:11<00:02, 25.33it/s]"
     ]
    },
    {
     "name": "stdout",
     "output_type": "stream",
     "text": [
      "tensor([1, 1, 1, 1, 1, 1, 1, 1, 1, 1, 1, 1, 1, 1, 1, 1, 1, 1, 1, 1, 1, 1, 1, 1,\n",
      "        1, 1, 1, 1, 1, 1, 1, 1], device='cuda:0')\n",
      "('frame_000613.PNG', 'frame_000614.PNG', 'frame_000615.PNG', 'frame_000616.PNG', 'frame_000617.PNG', 'frame_000618.PNG', 'frame_000619.PNG', 'frame_000620.PNG', 'frame_000621.PNG', 'frame_000622.PNG', 'frame_000623.PNG', 'frame_000624.PNG', 'frame_000625.PNG', 'frame_000626.PNG', 'frame_000627.PNG', 'frame_000628.PNG', 'frame_000629.PNG', 'frame_000630.PNG', 'frame_000631.PNG', 'frame_000632.PNG', 'frame_000633.PNG', 'frame_000634.PNG', 'frame_000635.PNG', 'frame_000636.PNG', 'frame_000637.PNG', 'frame_000638.PNG', 'frame_000639.PNG', 'frame_000640.PNG', 'frame_000641.PNG', 'frame_000642.PNG', 'frame_000643.PNG', 'frame_000644.PNG') tensor([1, 1, 1, 1, 1, 1, 1, 1, 1, 1, 1, 1, 1, 1, 1, 1, 1, 1, 1, 1, 1, 1, 1, 1,\n",
      "        1, 1, 1, 1, 1, 1, 1, 1], device='cuda:0')\n",
      "('frame_000645.PNG', 'frame_000646.PNG', 'frame_000647.PNG', 'frame_000648.PNG', 'frame_000649.PNG', 'frame_000800.PNG', 'frame_000801.PNG', 'frame_000802.PNG', 'frame_000803.PNG', 'frame_000804.PNG', 'frame_000805.PNG', 'frame_000806.PNG', 'frame_000807.PNG', 'frame_000808.PNG', 'frame_000809.PNG', 'frame_000810.PNG', 'frame_000811.PNG', 'frame_000812.PNG', 'frame_000813.PNG', 'frame_000814.PNG', 'frame_000815.PNG', 'frame_000816.PNG', 'frame_000817.PNG', 'frame_000818.PNG', 'frame_000819.PNG', 'frame_000820.PNG', 'frame_000821.PNG', 'frame_000822.PNG', 'frame_000823.PNG', 'frame_000824.PNG', 'frame_000825.PNG', 'frame_000826.PNG') tensor([1, 1, 1, 1, 1, 1, 1, 1, 1, 1, 1, 1, 1, 1, 1, 1, 1, 1, 1, 1, 1, 1, 1, 1,\n",
      "        1, 1, 1, 1, 1, 1, 1, 1], device='cuda:0')\n",
      "('frame_000827.PNG', 'frame_000828.PNG', 'frame_000829.PNG', 'frame_000830.PNG', 'frame_000831.PNG', 'frame_000832.PNG', 'frame_000833.PNG', 'frame_000834.PNG', 'frame_000835.PNG', 'frame_000836.PNG', 'frame_000837.PNG', 'frame_000838.PNG', 'frame_000839.PNG', 'frame_000840.PNG', 'frame_000841.PNG', 'frame_000842.PNG', 'frame_000843.PNG', 'frame_000844.PNG', 'frame_000845.PNG', 'frame_000846.PNG', 'frame_000847.PNG', 'frame_000848.PNG', 'frame_000849.PNG', 'frame_000850.PNG', 'frame_000851.PNG', 'frame_000852.PNG', 'frame_000853.PNG', 'frame_000854.PNG', 'frame_000855.PNG', 'frame_000856.PNG', 'frame_000857.PNG', 'frame_000858.PNG') tensor([1, 1, 1, 1, 1, 1, 1, 1, 1, 1, 1, 1, 1, 1, 1, 1, 1, 1, 1, 1, 1, 1, 1, 1,\n",
      "        1, 1, 1, 1, 1, 1, 1, 1], device='cuda:0')\n",
      "('frame_000859.PNG', 'frame_000860.PNG', 'frame_000861.PNG', 'frame_000862.PNG', 'frame_000863.PNG', 'frame_000864.PNG', 'frame_000865.PNG', 'frame_000866.PNG', 'frame_000867.PNG', 'frame_000868.PNG', 'frame_000869.PNG', 'frame_000870.PNG', 'frame_000871.PNG', 'frame_000872.PNG', 'frame_000873.PNG', 'frame_000874.PNG', 'frame_000875.PNG', 'frame_000876.PNG', 'frame_000877.PNG', 'frame_000878.PNG', 'frame_000879.PNG', 'frame_000880.PNG', 'frame_000881.PNG', 'frame_000882.PNG', 'frame_000883.PNG', 'frame_000884.PNG', 'frame_000885.PNG', 'frame_000886.PNG', 'frame_000887.PNG', 'frame_000888.PNG', 'frame_000889.PNG', 'frame_000890.PNG') tensor([1, 1, 1, 1, 1, 1, 1, 1, 1, 1, 1, 1, 1, 1, 1, 1, 1, 1, 1, 1, 1, 1, 1, 1,\n",
      "        1, 1, 1, 1, 1, 1, 1, 1], device='cuda:0')\n",
      "('frame_000891.PNG', 'frame_000892.PNG', 'frame_000893.PNG', 'frame_000894.PNG', 'frame_000895.PNG', 'frame_000896.PNG', 'frame_000897.PNG', 'frame_000898.PNG', 'frame_000899.PNG', 'frame_000900.PNG', 'frame_000901.PNG', 'frame_000902.PNG', 'frame_000903.PNG', 'frame_000904.PNG', 'frame_000905.PNG', 'frame_000906.PNG', 'frame_000907.PNG', 'frame_000908.PNG', 'frame_000909.PNG', 'frame_000910.PNG', 'frame_000911.PNG', 'frame_000912.PNG', 'frame_000913.PNG', 'frame_000914.PNG', 'frame_000915.PNG', 'frame_000916.PNG', 'frame_000917.PNG', 'frame_000918.PNG', 'frame_000919.PNG', 'frame_000920.PNG', 'frame_000921.PNG', 'frame_000922.PNG') tensor([1, 1, 1, 1, 1, 1, 1, 1, 1, 1, 1, 1, 1, 1, 1, 1, 1, 1, 1, 1, 1, 1, 1, 1,\n",
      "        1, 1, 1, 1, 1, 1, 1, 1], device='cuda:0')\n"
     ]
    },
    {
     "name": "stderr",
     "output_type": "stream",
     "text": [
      " 79%|███████▊  | 233/296 [00:12<00:02, 25.39it/s]"
     ]
    },
    {
     "name": "stdout",
     "output_type": "stream",
     "text": [
      "('frame_000923.PNG', 'frame_000924.PNG', 'frame_000925.PNG', 'frame_000926.PNG', 'frame_000927.PNG', 'frame_000928.PNG', 'frame_000929.PNG', 'frame_000930.PNG', 'frame_000931.PNG', 'frame_000932.PNG', 'frame_000933.PNG', 'frame_000934.PNG', 'frame_000935.PNG', 'frame_000936.PNG', 'frame_000937.PNG', 'frame_000938.PNG', 'frame_000939.PNG', 'frame_000940.PNG', 'frame_000941.PNG', 'frame_000942.PNG', 'frame_000943.PNG', 'frame_000944.PNG', 'frame_000945.PNG', 'frame_000946.PNG', 'frame_000947.PNG', 'frame_000948.PNG', 'frame_000949.PNG', 'frame_000950.PNG', 'frame_000951.PNG', 'frame_000952.PNG', 'frame_000953.PNG', 'frame_000954.PNG') tensor([1, 1, 1, 1, 1, 1, 1, 1, 1, 1, 1, 1, 1, 1, 1, 1, 1, 1, 1, 1, 1, 1, 1, 1,\n",
      "        1, 1, 1, 1, 1, 1, 1, 1], device='cuda:0')\n",
      "('frame_000955.PNG', 'frame_000956.PNG', 'frame_000957.PNG', 'frame_000958.PNG', 'frame_000959.PNG', 'frame_000960.PNG', 'frame_000961.PNG', 'frame_000962.PNG', 'frame_000963.PNG', 'frame_000964.PNG', 'frame_000965.PNG', 'frame_000966.PNG', 'frame_000967.PNG', 'frame_000968.PNG', 'frame_000969.PNG', 'frame_000970.PNG', 'frame_000971.PNG', 'frame_000972.PNG', 'frame_000973.PNG', 'frame_000974.PNG', 'frame_000975.PNG', 'frame_000976.PNG', 'frame_000977.PNG', 'frame_000978.PNG', 'frame_000979.PNG', 'frame_000980.PNG', 'frame_000981.PNG', 'frame_000982.PNG', 'frame_000983.PNG', 'frame_000984.PNG', 'frame_000985.PNG', 'frame_000986.PNG') tensor([1, 1, 1, 1, 1, 1, 1, 1, 1, 1, 1, 1, 1, 1, 1, 1, 1, 1, 1, 1, 1, 1, 1, 1,\n",
      "        1, 1, 1, 1, 1, 1, 1, 1], device='cuda:0')\n",
      "('frame_000987.PNG', 'frame_000988.PNG', 'frame_000989.PNG', 'frame_000990.PNG', 'frame_000991.PNG', 'frame_000992.PNG', 'frame_000993.PNG', 'frame_000994.PNG', 'frame_000995.PNG', 'frame_000996.PNG', 'frame_000997.PNG', 'frame_000998.PNG', 'frame_000999.PNG', 'frame_001000.PNG', 'frame_001001.PNG', 'frame_001002.PNG', 'frame_001003.PNG', 'frame_001004.PNG', 'frame_001005.PNG', 'frame_001006.PNG', 'frame_001007.PNG', 'frame_001008.PNG', 'frame_001009.PNG', 'frame_001010.PNG', 'frame_001011.PNG', 'frame_001012.PNG', 'frame_001013.PNG', 'frame_001014.PNG', 'frame_001015.PNG', 'frame_001016.PNG', 'frame_001017.PNG', 'frame_001018.PNG') tensor([1, 1, 1, 1, 1, 1, 1, 1, 1, 1, 1, 1, 1, 1, 1, 1, 1, 1, 1, 1, 1, 1, 1, 1,\n",
      "        1, 1, 1, 1, 1, 1, 1, 1], device='cuda:0')\n",
      "('frame_001019.PNG', 'frame_001020.PNG', 'frame_001021.PNG', 'frame_001022.PNG', 'frame_001023.PNG', 'frame_001024.PNG', 'frame_001025.PNG', 'frame_001026.PNG', 'frame_001027.PNG', 'frame_001028.PNG', 'frame_001029.PNG', 'frame_001030.PNG', 'frame_001031.PNG', 'frame_001032.PNG', 'frame_001033.PNG', 'frame_001034.PNG', 'frame_001035.PNG', 'frame_001036.PNG', 'frame_001037.PNG', 'frame_001038.PNG', 'frame_001039.PNG', 'frame_001040.PNG', 'frame_001041.PNG', 'frame_001042.PNG', 'frame_001043.PNG', 'frame_001044.PNG', 'frame_001045.PNG', 'frame_001046.PNG', 'frame_001047.PNG', 'frame_001048.PNG', 'frame_001049.PNG', 'frame_001050.PNG') tensor([1, 1, 1, 1, 1, 1, 1, 1, 1, 1, 1, 1, 1, 1, 1, 1, 1, 1, 1, 1, 1, 1, 1, 1,\n",
      "        1, 1, 1, 1, 1, 1, 1, 1], device='cuda:0')\n",
      "('frame_001051.PNG', 'frame_001052.PNG', 'frame_001053.PNG', 'frame_001054.PNG', 'frame_001055.PNG', 'frame_001056.PNG', 'frame_001057.PNG', 'frame_001058.PNG', 'frame_001059.PNG', 'frame_001060.PNG', 'frame_001061.PNG', 'frame_001062.PNG', 'frame_001063.PNG', 'frame_001064.PNG', 'frame_001065.PNG', 'frame_001066.PNG', 'frame_001067.PNG', 'frame_001068.PNG', 'frame_001069.PNG', 'frame_001070.PNG', 'frame_001071.PNG', 'frame_001072.PNG', 'frame_001073.PNG', 'frame_001074.PNG', 'frame_001075.PNG', 'frame_001076.PNG', 'frame_001077.PNG', 'frame_001078.PNG', 'frame_001079.PNG', 'frame_001080.PNG', 'frame_001081.PNG', 'frame_001082.PNG') tensor([1, 1, 1, 1, 1, 1, 1, 1, 1, 1, 1, 1, 1, 1, 1, 1, 1, 1, 1, 1, 1, 1, 1, 1,\n",
      "        1, 1, 1, 1, 1, 1, 1, 1], device='cuda:0')\n"
     ]
    },
    {
     "name": "stderr",
     "output_type": "stream",
     "text": [
      " 80%|███████▉  | 236/296 [00:12<00:02, 24.47it/s]"
     ]
    },
    {
     "name": "stdout",
     "output_type": "stream",
     "text": [
      "('frame_001083.PNG', 'frame_001084.PNG', 'frame_001085.PNG', 'frame_001086.PNG', 'frame_001087.PNG', 'frame_001088.PNG', 'frame_001089.PNG', 'frame_001090.PNG', 'frame_001091.PNG', 'frame_001092.PNG', 'frame_001093.PNG', 'frame_001094.PNG', 'frame_001095.PNG', 'frame_001096.PNG', 'frame_001097.PNG', 'frame_001098.PNG', 'frame_001099.PNG', 'frame_001100.PNG', 'frame_001101.PNG', 'frame_001102.PNG', 'frame_001103.PNG', 'frame_001104.PNG', 'frame_001105.PNG', 'frame_001106.PNG', 'frame_001107.PNG', 'frame_001108.PNG', 'frame_001109.PNG', 'frame_001110.PNG', 'frame_001111.PNG', 'frame_001112.PNG', 'frame_001113.PNG', 'frame_001114.PNG') tensor([1, 1, 1, 1, 1, 1, 1, 1, 1, 1, 1, 1, 1, 1, 1, 1, 1, 1, 1, 1, 1, 1, 1, 1,\n",
      "        1, 1, 1, 1, 1, 1, 1, 1], device='cuda:0')\n",
      "('frame_001115.PNG', 'frame_001116.PNG', 'frame_001117.PNG', 'frame_001118.PNG', 'frame_001119.PNG', 'frame_001120.PNG', 'frame_001121.PNG', 'frame_001122.PNG', 'frame_001123.PNG', 'frame_001124.PNG', 'frame_001125.PNG', 'frame_001126.PNG', 'frame_001127.PNG', 'frame_001128.PNG', 'frame_001129.PNG', 'frame_001130.PNG', 'frame_001131.PNG', 'frame_001132.PNG', 'frame_001133.PNG', 'frame_001134.PNG', 'frame_001135.PNG', 'frame_001136.PNG', 'frame_001137.PNG', 'frame_001138.PNG', 'frame_001139.PNG', 'frame_001140.PNG', 'frame_001141.PNG', 'frame_001142.PNG', 'frame_001143.PNG', 'frame_001144.PNG', 'frame_001145.PNG', 'frame_001146.PNG') tensor([1, 1, 1, 1, 1, 1, 1, 1, 1, 1, 1, 1, 1, 1, 1, 1, 1, 1, 1, 1, 1, 1, 1, 1,\n",
      "        1, 1, 1, 1, 1, 1, 1, 1], device='cuda:0')\n",
      "('frame_001147.PNG', 'frame_001148.PNG', 'frame_001149.PNG', 'frame_001150.PNG', 'frame_001151.PNG', 'frame_001152.PNG', 'frame_001153.PNG', 'frame_001154.PNG', 'frame_001155.PNG', 'frame_001156.PNG', 'frame_001157.PNG', 'frame_001158.PNG', 'frame_001159.PNG', 'frame_001160.PNG', 'frame_001161.PNG', 'frame_001162.PNG', 'frame_001163.PNG', 'frame_001164.PNG', 'frame_001165.PNG', 'frame_001166.PNG', 'frame_001167.PNG', 'frame_001168.PNG', 'frame_001169.PNG', 'frame_001170.PNG', 'frame_001171.PNG', 'frame_001172.PNG', 'frame_001173.PNG', 'frame_001174.PNG', 'frame_001175.PNG', 'frame_001176.PNG', 'frame_001177.PNG', 'frame_001178.PNG') tensor([1, 1, 1, 1, 1, 1, 1, 1, 1, 1, 1, 1, 1, 1, 1, 1, 1, 1, 1, 1, 1, 1, 1, 1,\n",
      "        1, 1, 1, 1, 1, 1, 1, 1], device='cuda:0')\n",
      "('frame_001179.PNG', 'frame_001180.PNG', 'frame_001181.PNG', 'frame_001182.PNG', 'frame_001183.PNG', 'frame_001184.PNG', 'frame_001185.PNG', 'frame_001186.PNG', 'frame_001187.PNG', 'frame_001188.PNG', 'frame_001189.PNG', 'frame_001190.PNG', 'frame_001191.PNG', 'frame_001192.PNG', 'frame_001193.PNG', 'frame_001194.PNG', 'frame_001195.PNG', 'frame_001196.PNG', 'frame_001197.PNG', 'frame_001198.PNG', 'frame_001199.PNG', 'frame_001200.PNG', 'frame_001201.PNG', 'frame_001202.PNG', 'frame_001203.PNG', 'frame_001204.PNG', 'frame_001205.PNG', 'frame_001206.PNG', 'frame_001207.PNG', 'frame_001208.PNG', 'frame_001209.PNG', 'frame_001210.PNG') tensor([1, 1, 1, 1, 1, 1, 1, 1, 1, 1, 1, 1, 1, 1, 1, 1, 1, 1, 1, 1, 1, 1, 1, 1,\n",
      "        1, 1, 1, 1, 1, 1, 1, 1], device='cuda:0')\n",
      "('frame_001211.PNG', 'frame_001212.PNG', 'frame_001213.PNG', 'frame_001214.PNG', 'frame_001215.PNG', 'frame_001216.PNG', 'frame_001217.PNG', 'frame_001218.PNG', 'frame_001219.PNG', 'frame_001220.PNG', 'frame_001221.PNG', 'frame_001222.PNG', 'frame_001223.PNG', 'frame_001224.PNG', 'frame_001225.PNG', 'frame_001226.PNG', 'frame_001227.PNG', 'frame_001228.PNG', 'frame_001229.PNG', 'frame_001230.PNG', 'frame_001231.PNG', 'frame_001232.PNG', 'frame_001233.PNG', 'frame_001234.PNG', 'frame_001235.PNG', 'frame_001236.PNG', 'frame_001237.PNG', 'frame_001238.PNG', 'frame_001239.PNG', 'frame_001240.PNG', 'frame_001241.PNG', 'frame_001242.PNG') tensor([1, 1, 1, 1, 1, 1, 1, 1, 1, 1, 1, 1, 1, 1, 1, 1, 1, 1, 1, 1, 1, 1, 1, 1,\n",
      "        1, 1, 1, 1, 1, 1, 1, 1], device='cuda:0')\n"
     ]
    },
    {
     "name": "stderr",
     "output_type": "stream",
     "text": [
      " 82%|████████▏ | 242/296 [00:12<00:02, 22.18it/s]"
     ]
    },
    {
     "name": "stdout",
     "output_type": "stream",
     "text": [
      "('frame_001243.PNG', 'frame_001244.PNG', 'frame_001245.PNG', 'frame_001246.PNG', 'frame_001247.PNG', 'frame_000027.PNG', 'frame_000028.PNG', 'frame_000029.PNG', 'frame_000030.PNG', 'frame_000031.PNG', 'frame_000032.PNG', 'frame_000033.PNG', 'frame_000034.PNG', 'frame_000035.PNG', 'frame_000036.PNG', 'frame_000037.PNG', 'frame_000038.PNG', 'frame_000039.PNG', 'frame_000040.PNG', 'frame_000041.PNG', 'frame_000042.PNG', 'frame_000043.PNG', 'frame_000044.PNG', 'frame_000045.PNG', 'frame_000046.PNG', 'frame_000047.PNG', 'frame_000048.PNG', 'frame_000049.PNG', 'frame_000050.PNG', 'frame_000051.PNG', 'frame_000052.PNG', 'frame_000053.PNG') tensor([1, 1, 1, 1, 1, 1, 1, 1, 1, 1, 1, 1, 1, 1, 1, 1, 1, 1, 1, 1, 1, 1, 1, 1,\n",
      "        1, 1, 1, 1, 1, 1, 1, 1], device='cuda:0')\n",
      "('frame_000054.PNG', 'frame_000055.PNG', 'frame_000056.PNG', 'frame_000057.PNG', 'frame_000058.PNG', 'frame_000059.PNG', 'frame_000060.PNG', 'frame_000061.PNG', 'frame_000062.PNG', 'frame_000063.PNG', 'frame_000064.PNG', 'frame_000065.PNG', 'frame_000066.PNG', 'frame_000067.PNG', 'frame_000068.PNG', 'frame_000069.PNG', 'frame_000070.PNG', 'frame_000071.PNG', 'frame_000072.PNG', 'frame_000073.PNG', 'frame_000074.PNG', 'frame_000075.PNG', 'frame_000076.PNG', 'frame_000077.PNG', 'frame_000078.PNG', 'frame_000079.PNG', 'frame_000080.PNG', 'frame_000081.PNG', 'frame_000082.PNG', 'frame_000083.PNG', 'frame_000084.PNG', 'frame_000085.PNG') tensor([1, 1, 1, 1, 1, 1, 1, 1, 1, 1, 1, 1, 1, 1, 1, 1, 1, 1, 1, 1, 1, 1, 1, 1,\n",
      "        1, 1, 1, 1, 1, 1, 1, 1], device='cuda:0')\n",
      "('frame_000086.PNG', 'frame_000087.PNG', 'frame_000088.PNG', 'frame_000089.PNG', 'frame_000090.PNG', 'frame_000091.PNG', 'frame_000092.PNG', 'frame_000093.PNG', 'frame_000094.PNG', 'frame_000095.PNG', 'frame_000096.PNG', 'frame_000097.PNG', 'frame_000098.PNG', 'frame_000099.PNG', 'frame_000100.PNG', 'frame_000101.PNG', 'frame_000102.PNG', 'frame_000103.PNG', 'frame_000104.PNG', 'frame_000105.PNG', 'frame_000106.PNG', 'frame_000107.PNG', 'frame_000108.PNG', 'frame_000109.PNG', 'frame_000110.PNG', 'frame_000111.PNG', 'frame_000112.PNG', 'frame_000113.PNG', 'frame_000114.PNG', 'frame_000115.PNG', 'frame_000116.PNG', 'frame_000117.PNG') tensor([1, 1, 1, 1, 1, 1, 1, 1, 1, 1, 1, 1, 1, 1, 1, 1, 1, 1, 1, 1, 1, 1, 1, 1,\n",
      "        1, 1, 1, 1, 1, 1, 1, 1], device='cuda:0')\n",
      "('frame_000118.PNG', 'frame_000119.PNG', 'frame_000120.PNG', 'frame_000121.PNG', 'frame_000122.PNG', 'frame_000123.PNG', 'frame_000124.PNG', 'frame_000125.PNG', 'frame_000126.PNG', 'frame_000127.PNG', 'frame_000128.PNG', 'frame_000129.PNG', 'frame_000130.PNG', 'frame_000131.PNG', 'frame_000132.PNG', 'frame_000133.PNG', 'frame_000134.PNG', 'frame_000135.PNG', 'frame_000136.PNG', 'frame_000137.PNG', 'frame_000138.PNG', 'frame_000139.PNG', 'frame_000140.PNG', 'frame_000141.PNG', 'frame_000142.PNG', 'frame_000143.PNG', 'frame_000144.PNG', 'frame_000145.PNG', 'frame_000146.PNG', 'frame_000147.PNG', 'frame_000148.PNG', 'frame_000149.PNG') tensor([1, 1, 1, 1, 1, 1, 1, 1, 1, 1, 1, 1, 1, 1, 1, 1, 1, 1, 1, 1, 1, 1, 1, 1,\n",
      "        1, 1, 1, 1, 1, 1, 1, 1], device='cuda:0')\n"
     ]
    },
    {
     "name": "stderr",
     "output_type": "stream",
     "text": [
      " 83%|████████▎ | 245/296 [00:12<00:02, 21.67it/s]"
     ]
    },
    {
     "name": "stdout",
     "output_type": "stream",
     "text": [
      "('frame_000150.PNG', 'frame_000151.PNG', 'frame_000152.PNG', 'frame_000153.PNG', 'frame_000154.PNG', 'frame_000155.PNG', 'frame_000156.PNG', 'frame_000157.PNG', 'frame_000158.PNG', 'frame_000159.PNG', 'frame_000160.PNG', 'frame_000161.PNG', 'frame_000162.PNG', 'frame_000163.PNG', 'frame_000164.PNG', 'frame_000165.PNG', 'frame_000166.PNG', 'frame_000167.PNG', 'frame_000168.PNG', 'frame_000169.PNG', 'frame_000170.PNG', 'frame_000171.PNG', 'frame_000172.PNG', 'frame_000173.PNG', 'frame_000174.PNG', 'frame_000175.PNG', 'frame_000176.PNG', 'frame_000177.PNG', 'frame_000178.PNG', 'frame_000179.PNG', 'frame_000180.PNG', 'frame_000181.PNG') tensor([1, 1, 1, 1, 1, 1, 1, 1, 1, 1, 1, 1, 1, 1, 1, 1, 1, 1, 1, 1, 1, 1, 1, 1,\n",
      "        1, 1, 1, 1, 1, 1, 1, 1], device='cuda:0')\n",
      "('frame_000182.PNG', 'frame_000183.PNG', 'frame_000184.PNG', 'frame_000185.PNG', 'frame_000186.PNG', 'frame_000187.PNG', 'frame_000188.PNG', 'frame_000189.PNG', 'frame_000190.PNG', 'frame_000191.PNG', 'frame_000192.PNG', 'frame_000193.PNG', 'frame_000194.PNG', 'frame_000195.PNG', 'frame_000196.PNG', 'frame_000197.PNG', 'frame_000198.PNG', 'frame_000199.PNG', 'frame_000200.PNG', 'frame_000201.PNG', 'frame_000202.PNG', 'frame_000203.PNG', 'frame_000204.PNG', 'frame_000205.PNG', 'frame_000206.PNG', 'frame_000207.PNG', 'frame_000208.PNG', 'frame_000209.PNG', 'frame_000210.PNG', 'frame_000211.PNG', 'frame_000212.PNG', 'frame_000213.PNG') tensor([1, 1, 1, 1, 1, 1, 1, 1, 1, 1, 1, 1, 1, 1, 1, 1, 1, 1, 1, 1, 1, 1, 1, 1,\n",
      "        1, 1, 1, 1, 1, 1, 1, 1], device='cuda:0')\n",
      "('frame_000214.PNG', 'frame_000215.PNG', 'frame_000216.PNG', 'frame_000217.PNG', 'frame_000218.PNG', 'frame_000219.PNG', 'frame_000220.PNG', 'frame_000221.PNG', 'frame_000222.PNG', 'frame_000223.PNG', 'frame_000224.PNG', 'frame_000225.PNG', 'frame_000226.PNG', 'frame_000227.PNG', 'frame_000228.PNG', 'frame_000229.PNG', 'frame_000230.PNG', 'frame_000231.PNG', 'frame_000232.PNG', 'frame_000233.PNG', 'frame_000234.PNG', 'frame_000235.PNG', 'frame_000236.PNG', 'frame_000237.PNG', 'frame_000238.PNG', 'frame_000239.PNG', 'frame_000240.PNG', 'frame_000241.PNG', 'frame_000242.PNG', 'frame_000243.PNG', 'frame_000244.PNG', 'frame_000245.PNG') tensor([1, 1, 1, 1, 1, 1, 1, 1, 1, 1, 1, 1, 1, 1, 1, 1, 1, 1, 1, 1, 1, 1, 1, 1,\n",
      "        1, 1, 1, 1, 1, 1, 1, 1], device='cuda:0')\n",
      "('frame_000246.PNG', 'frame_000247.PNG', 'frame_000248.PNG', 'frame_000249.PNG', 'frame_000250.PNG', 'frame_000251.PNG', 'frame_000252.PNG', 'frame_000253.PNG', 'frame_000254.PNG', 'frame_000255.PNG', 'frame_000256.PNG', 'frame_000257.PNG', 'frame_000258.PNG', 'frame_000259.PNG', 'frame_000260.PNG', 'frame_000261.PNG', 'frame_000262.PNG', 'frame_000263.PNG', 'frame_000264.PNG', 'frame_000265.PNG', 'frame_000266.PNG', 'frame_000267.PNG', 'frame_000268.PNG', 'frame_000269.PNG', 'frame_000270.PNG', 'frame_000271.PNG', 'frame_000272.PNG', 'frame_000273.PNG', 'frame_000274.PNG', 'frame_000275.PNG', 'frame_000276.PNG', 'frame_000289.PNG') tensor([1, 1, 1, 1, 1, 1, 1, 1, 1, 1, 1, 1, 1, 1, 1, 1, 1, 1, 1, 1, 1, 1, 1, 1,\n",
      "        1, 1, 1, 1, 1, 1, 1, 1], device='cuda:0')\n",
      "('frame_000290.PNG', 'frame_000291.PNG', 'frame_000292.PNG', 'frame_000293.PNG', 'frame_000294.PNG', 'frame_000295.PNG', 'frame_000296.PNG', 'frame_000297.PNG', 'frame_000298.PNG', 'frame_000299.PNG', 'frame_000300.PNG', 'frame_000301.PNG', 'frame_000302.PNG', 'frame_000303.PNG', 'frame_000304.PNG', 'frame_000305.PNG', 'frame_000306.PNG', 'frame_000307.PNG', 'frame_000308.PNG', 'frame_000309.PNG', 'frame_000310.PNG', 'frame_000311.PNG', 'frame_000312.PNG', 'frame_000313.PNG', 'frame_000314.PNG', 'frame_000315.PNG', 'frame_000316.PNG', 'frame_000317.PNG', 'frame_000318.PNG', 'frame_000319.PNG', 'frame_000320.PNG', 'frame_000321.PNG') tensor([1, 1, 1, 1, 1, 1, 1, 1, 1, 1, 1, 1, 1, 1, 1, 1, 1, 1, 1, 1, 1, 1, 1, 1,\n",
      "        1, 1, 1, 1, 1, 1, 1, 1], device='cuda:0')\n"
     ]
    },
    {
     "name": "stderr",
     "output_type": "stream",
     "text": [
      " 85%|████████▍ | 251/296 [00:13<00:02, 22.46it/s]"
     ]
    },
    {
     "name": "stdout",
     "output_type": "stream",
     "text": [
      "('frame_000322.PNG', 'frame_000323.PNG', 'frame_000324.PNG', 'frame_000325.PNG', 'frame_000353.PNG', 'frame_000354.PNG', 'frame_000355.PNG', 'frame_000356.PNG', 'frame_000357.PNG', 'frame_000358.PNG', 'frame_000359.PNG', 'frame_000360.PNG', 'frame_000361.PNG', 'frame_000362.PNG', 'frame_000363.PNG', 'frame_000364.PNG', 'frame_000365.PNG', 'frame_000366.PNG', 'frame_000367.PNG', 'frame_000368.PNG', 'frame_000369.PNG', 'frame_000370.PNG', 'frame_000371.PNG', 'frame_000372.PNG', 'frame_000373.PNG', 'frame_000374.PNG', 'frame_000375.PNG', 'frame_000376.PNG', 'frame_000377.PNG', 'frame_000378.PNG', 'frame_000379.PNG', 'frame_000380.PNG') tensor([1, 1, 1, 1, 1, 1, 1, 1, 1, 1, 1, 1, 1, 1, 1, 1, 1, 1, 1, 1, 1, 1, 1, 1,\n",
      "        1, 1, 1, 1, 1, 1, 1, 1], device='cuda:0')\n",
      "('frame_000381.PNG', 'frame_000382.PNG', 'frame_000383.PNG', 'frame_000384.PNG', 'frame_000385.PNG', 'frame_000386.PNG', 'frame_000387.PNG', 'frame_000388.PNG', 'frame_000389.PNG', 'frame_000390.PNG', 'frame_000391.PNG', 'frame_000392.PNG', 'frame_000393.PNG', 'frame_000394.PNG', 'frame_000395.PNG', 'frame_000396.PNG', 'frame_000397.PNG', 'frame_000398.PNG', 'frame_000399.PNG', 'frame_000400.PNG', 'frame_000401.PNG', 'frame_000402.PNG', 'frame_000403.PNG', 'frame_000404.PNG', 'frame_000405.PNG', 'frame_000406.PNG', 'frame_000407.PNG', 'frame_000408.PNG', 'frame_000409.PNG', 'frame_000410.PNG', 'frame_000411.PNG', 'frame_000412.PNG') tensor([1, 1, 1, 1, 1, 1, 1, 1, 1, 1, 1, 1, 1, 1, 1, 1, 1, 1, 1, 1, 1, 1, 1, 1,\n",
      "        1, 1, 1, 1, 1, 1, 1, 1], device='cuda:0')\n",
      "('frame_000413.PNG', 'frame_000414.PNG', 'frame_000415.PNG', 'frame_000416.PNG', 'frame_000417.PNG', 'frame_000418.PNG', 'frame_000419.PNG', 'frame_000420.PNG', 'frame_000421.PNG', 'frame_000422.PNG', 'frame_000423.PNG', 'frame_000424.PNG', 'frame_000425.PNG', 'frame_000426.PNG', 'frame_000427.PNG', 'frame_000428.PNG', 'frame_000429.PNG', 'frame_000430.PNG', 'frame_000431.PNG', 'frame_000432.PNG', 'frame_000433.PNG', 'frame_000434.PNG', 'frame_000435.PNG', 'frame_000436.PNG', 'frame_000437.PNG', 'frame_000438.PNG', 'frame_000439.PNG', 'frame_000440.PNG', 'frame_000441.PNG', 'frame_000442.PNG', 'frame_000443.PNG', 'frame_000444.PNG') tensor([1, 1, 1, 1, 1, 1, 1, 1, 1, 1, 1, 1, 1, 1, 1, 1, 1, 1, 1, 1, 1, 1, 1, 1,\n",
      "        1, 1, 1, 1, 1, 1, 1, 1], device='cuda:0')\n",
      "('frame_000445.PNG', 'frame_000446.PNG', 'frame_000447.PNG', 'frame_000448.PNG', 'frame_000449.PNG', 'frame_000450.PNG', 'frame_000451.PNG', 'frame_000452.PNG', 'frame_000453.PNG', 'frame_000454.PNG', 'frame_000455.PNG', 'frame_000456.PNG', 'frame_000457.PNG', 'frame_000458.PNG', 'frame_000459.PNG', 'frame_000460.PNG', 'frame_000461.PNG', 'frame_000462.PNG', 'frame_000463.PNG', 'frame_000464.PNG', 'frame_000465.PNG', 'frame_000466.PNG', 'frame_000467.PNG', 'frame_000468.PNG', 'frame_000469.PNG', 'frame_000470.PNG', 'frame_000471.PNG', 'frame_000472.PNG', 'frame_000473.PNG', 'frame_000474.PNG', 'frame_000475.PNG', 'frame_000476.PNG') tensor([1, 1, 1, 1, 1, 1, 1, 1, 1, 1, 1, 1, 1, 1, 1, 1, 1, 1, 1, 1, 1, 1, 1, 1,\n",
      "        1, 1, 1, 1, 1, 1, 1, 1], device='cuda:0')\n",
      "('frame_000477.PNG', 'frame_000478.PNG', 'frame_000479.PNG', 'frame_000480.PNG', 'frame_000481.PNG', 'frame_000482.PNG', 'frame_000483.PNG', 'frame_000484.PNG', 'frame_000485.PNG', 'frame_000486.PNG', 'frame_000487.PNG', 'frame_000488.PNG', 'frame_000489.PNG', 'frame_000490.PNG', 'frame_000491.PNG', 'frame_000492.PNG', 'frame_000493.PNG', 'frame_000494.PNG', 'frame_000495.PNG', 'frame_000496.PNG', 'frame_000497.PNG', 'frame_000498.PNG', 'frame_000499.PNG', 'frame_000500.PNG', 'frame_000501.PNG', 'frame_000502.PNG', 'frame_000503.PNG', 'frame_000504.PNG', 'frame_000505.PNG', 'frame_000506.PNG', 'frame_000507.PNG', 'frame_000508.PNG') tensor([1, 1, 1, 1, 1, 1, 1, 1, 1, 1, 1, 1, 1, 1, 1, 1, 1, 1, 1, 1, 1, 1, 1, 1,\n",
      "        1, 1, 1, 1, 1, 1, 1, 1], device='cuda:0')\n"
     ]
    },
    {
     "name": "stderr",
     "output_type": "stream",
     "text": [
      " 87%|████████▋ | 257/296 [00:13<00:01, 23.79it/s]"
     ]
    },
    {
     "name": "stdout",
     "output_type": "stream",
     "text": [
      "('frame_000509.PNG', 'frame_000510.PNG', 'frame_000511.PNG', 'frame_000512.PNG', 'frame_000513.PNG', 'frame_000514.PNG', 'frame_000515.PNG', 'frame_000516.PNG', 'frame_000517.PNG', 'frame_000518.PNG', 'frame_000519.PNG', 'frame_000520.PNG', 'frame_000521.PNG', 'frame_000522.PNG', 'frame_000523.PNG', 'frame_000524.PNG', 'frame_000525.PNG', 'frame_000526.PNG', 'frame_000527.PNG', 'frame_000528.PNG', 'frame_000529.PNG', 'frame_000530.PNG', 'frame_000531.PNG', 'frame_000532.PNG', 'frame_000533.PNG', 'frame_000534.PNG', 'frame_000535.PNG', 'frame_000536.PNG', 'frame_000537.PNG', 'frame_000538.PNG', 'frame_000539.PNG', 'frame_000540.PNG') tensor([1, 1, 1, 1, 1, 1, 1, 1, 1, 1, 1, 1, 1, 1, 1, 1, 1, 1, 1, 1, 1, 1, 1, 1,\n",
      "        1, 1, 1, 1, 1, 1, 1, 1], device='cuda:0')\n",
      "('frame_000541.PNG', 'frame_000542.PNG', 'frame_000543.PNG', 'frame_000544.PNG', 'frame_000545.PNG', 'frame_000546.PNG', 'frame_000547.PNG', 'frame_000548.PNG', 'frame_000549.PNG', 'frame_000550.PNG', 'frame_000551.PNG', 'frame_000552.PNG', 'frame_000553.PNG', 'frame_000554.PNG', 'frame_000555.PNG', 'frame_000556.PNG', 'frame_000557.PNG', 'frame_000558.PNG', 'frame_000559.PNG', 'frame_000560.PNG', 'frame_000561.PNG', 'frame_000562.PNG', 'frame_000563.PNG', 'frame_000564.PNG', 'frame_000565.PNG', 'frame_000566.PNG', 'frame_000567.PNG', 'frame_000568.PNG', 'frame_000569.PNG', 'frame_000570.PNG', 'frame_000571.PNG', 'frame_000572.PNG') tensor([1, 1, 1, 1, 1, 1, 1, 1, 1, 1, 1, 1, 1, 1, 1, 1, 1, 1, 1, 1, 1, 1, 1, 1,\n",
      "        1, 1, 1, 1, 1, 1, 1, 1], device='cuda:0')\n",
      "('frame_000573.PNG', 'frame_000574.PNG', 'frame_000575.PNG', 'frame_000576.PNG', 'frame_000577.PNG', 'frame_000578.PNG', 'frame_000579.PNG', 'frame_000580.PNG', 'frame_000581.PNG', 'frame_000582.PNG', 'frame_000583.PNG', 'frame_000584.PNG', 'frame_000585.PNG', 'frame_000586.PNG', 'frame_000587.PNG', 'frame_000588.PNG', 'frame_000589.PNG', 'frame_000590.PNG', 'frame_000591.PNG', 'frame_000592.PNG', 'frame_000593.PNG', 'frame_000594.PNG', 'frame_000595.PNG', 'frame_000596.PNG', 'frame_000597.PNG', 'frame_000598.PNG', 'frame_000599.PNG', 'frame_000600.PNG', 'frame_000601.PNG', 'frame_000602.PNG', 'frame_000603.PNG', 'frame_000604.PNG') tensor([1, 1, 1, 1, 1, 1, 1, 1, 1, 1, 1, 1, 1, 1, 1, 1, 1, 1, 1, 1, 1, 1, 1, 1,\n",
      "        1, 1, 1, 1, 1, 1, 1, 1], device='cuda:0')\n",
      "('frame_000605.PNG', 'frame_000606.PNG', 'frame_000607.PNG', 'frame_000608.PNG', 'frame_000609.PNG', 'frame_000610.PNG', 'frame_000611.PNG', 'frame_000612.PNG', 'frame_000613.PNG', 'frame_000614.PNG', 'frame_000615.PNG', 'frame_000616.PNG', 'frame_000617.PNG', 'frame_000618.PNG', 'frame_000619.PNG', 'frame_000620.PNG', 'frame_000621.PNG', 'frame_000622.PNG', 'frame_000623.PNG', 'frame_000624.PNG', 'frame_000625.PNG', 'frame_000626.PNG', 'frame_000627.PNG', 'frame_000628.PNG', 'frame_000629.PNG', 'frame_000630.PNG', 'frame_000631.PNG', 'frame_000632.PNG', 'frame_000633.PNG', 'frame_000634.PNG', 'frame_000635.PNG', 'frame_000636.PNG') tensor([1, 1, 1, 1, 1, 1, 1, 1, 1, 1, 1, 1, 1, 1, 1, 1, 1, 1, 1, 1, 1, 1, 1, 1,\n",
      "        1, 1, 1, 1, 1, 1, 1, 1], device='cuda:0')\n",
      "('frame_000637.PNG', 'frame_000638.PNG', 'frame_000639.PNG', 'frame_000640.PNG', 'frame_000641.PNG', 'frame_000642.PNG', 'frame_000643.PNG', 'frame_000644.PNG', 'frame_000645.PNG', 'frame_000646.PNG', 'frame_000647.PNG', 'frame_000648.PNG', 'frame_000649.PNG', 'frame_000650.PNG', 'frame_000651.PNG', 'frame_000652.PNG', 'frame_000653.PNG', 'frame_000654.PNG', 'frame_000655.PNG', 'frame_000656.PNG', 'frame_000657.PNG', 'frame_000735.PNG', 'frame_000736.PNG', 'frame_000737.PNG', 'frame_000738.PNG', 'frame_000739.PNG', 'frame_000740.PNG', 'frame_000741.PNG', 'frame_000742.PNG', 'frame_000743.PNG', 'frame_000744.PNG', 'frame_000745.PNG') tensor([1, 1, 1, 1, 1, 1, 1, 1, 1, 1, 1, 1, 1, 1, 1, 1, 1, 1, 1, 1, 1, 1, 1, 1,\n",
      "        1, 1, 1, 1, 1, 1, 1, 1], device='cuda:0')\n"
     ]
    },
    {
     "name": "stderr",
     "output_type": "stream",
     "text": [
      " 88%|████████▊ | 260/296 [00:13<00:01, 23.17it/s]"
     ]
    },
    {
     "name": "stdout",
     "output_type": "stream",
     "text": [
      "('frame_000746.PNG', 'frame_000747.PNG', 'frame_000748.PNG', 'frame_000749.PNG', 'frame_000750.PNG', 'frame_000751.PNG', 'frame_000752.PNG', 'frame_000753.PNG', 'frame_000754.PNG', 'frame_000755.PNG', 'frame_000756.PNG', 'frame_000757.PNG', 'frame_000758.PNG', 'frame_000759.PNG', 'frame_000760.PNG', 'frame_000761.PNG', 'frame_000762.PNG', 'frame_000763.PNG', 'frame_000764.PNG', 'frame_000765.PNG', 'frame_000766.PNG', 'frame_000767.PNG', 'frame_000768.PNG', 'frame_000769.PNG', 'frame_000770.PNG', 'frame_000771.PNG', 'frame_000772.PNG', 'frame_000773.PNG', 'frame_000774.PNG', 'frame_000775.PNG', 'frame_000776.PNG', 'frame_000777.PNG') tensor([1, 1, 1, 1, 1, 1, 1, 1, 1, 1, 1, 1, 1, 1, 1, 1, 1, 1, 1, 1, 1, 1, 1, 1,\n",
      "        1, 1, 1, 1, 1, 1, 1, 1], device='cuda:0')\n",
      "('frame_000778.PNG', 'frame_000779.PNG', 'frame_000780.PNG', 'frame_000781.PNG', 'frame_000782.PNG', 'frame_000783.PNG', 'frame_000784.PNG', 'frame_000785.PNG', 'frame_000786.PNG', 'frame_000829.PNG', 'frame_000830.PNG', 'frame_000831.PNG', 'frame_000832.PNG', 'frame_000833.PNG', 'frame_000834.PNG', 'frame_000835.PNG', 'frame_000836.PNG', 'frame_000837.PNG', 'frame_000838.PNG', 'frame_000839.PNG', 'frame_000840.PNG', 'frame_000841.PNG', 'frame_000842.PNG', 'frame_000843.PNG', 'frame_000844.PNG', 'frame_000845.PNG', 'frame_000846.PNG', 'frame_000847.PNG', 'frame_000848.PNG', 'frame_000849.PNG', 'frame_000850.PNG', 'frame_000851.PNG') tensor([1, 1, 1, 1, 1, 1, 1, 1, 1, 1, 1, 1, 1, 1, 1, 1, 1, 1, 1, 1, 1, 1, 1, 1,\n",
      "        1, 1, 1, 1, 1, 1, 1, 1], device='cuda:0')\n",
      "('frame_000852.PNG', 'frame_000853.PNG', 'frame_000854.PNG', 'frame_000855.PNG', 'frame_000856.PNG', 'frame_000857.PNG', 'frame_000858.PNG', 'frame_000859.PNG', 'frame_000860.PNG', 'frame_000861.PNG', 'frame_000862.PNG', 'frame_000863.PNG', 'frame_000864.PNG', 'frame_000865.PNG', 'frame_000866.PNG', 'frame_000867.PNG', 'frame_000868.PNG', 'frame_000869.PNG', 'frame_000870.PNG', 'frame_000871.PNG', 'frame_000872.PNG', 'frame_000873.PNG', 'frame_000874.PNG', 'frame_000875.PNG', 'frame_000876.PNG', 'frame_000877.PNG', 'frame_000878.PNG', 'frame_000879.PNG', 'frame_000880.PNG', 'frame_000881.PNG', 'frame_000882.PNG', 'frame_000883.PNG') tensor([1, 1, 1, 1, 1, 1, 1, 1, 1, 1, 1, 1, 1, 1, 1, 1, 1, 1, 1, 1, 1, 1, 1, 1,\n",
      "        1, 1, 1, 1, 1, 1, 1, 1], device='cuda:0')\n",
      "('frame_000884.PNG', 'frame_000885.PNG', 'frame_000886.PNG', 'frame_000887.PNG', 'frame_000888.PNG', 'frame_000889.PNG', 'frame_000890.PNG', 'frame_000891.PNG', 'frame_000892.PNG', 'frame_000893.PNG', 'frame_000894.PNG', 'frame_000895.PNG', 'frame_000896.PNG', 'frame_000897.PNG', 'frame_000898.PNG', 'frame_000899.PNG', 'frame_000900.PNG', 'frame_000901.PNG', 'frame_000902.PNG', 'frame_000903.PNG', 'frame_000904.PNG', 'frame_000905.PNG', 'frame_000906.PNG', 'frame_000907.PNG', 'frame_000908.PNG', 'frame_000909.PNG', 'frame_000910.PNG', 'frame_000911.PNG', 'frame_000912.PNG', 'frame_000913.PNG', 'frame_000914.PNG', 'frame_000915.PNG') tensor([1, 1, 1, 1, 1, 1, 1, 1, 1, 1, 1, 1, 1, 1, 1, 1, 1, 1, 1, 1, 1, 1, 1, 1,\n",
      "        1, 1, 1, 1, 1, 1, 1, 1], device='cuda:0')\n",
      "('frame_000916.PNG', 'frame_000917.PNG', 'frame_000918.PNG', 'frame_000919.PNG', 'frame_000920.PNG', 'frame_000921.PNG', 'frame_000922.PNG', 'frame_000923.PNG', 'frame_000924.PNG', 'frame_000925.PNG', 'frame_000926.PNG', 'frame_000927.PNG', 'frame_000928.PNG', 'frame_000929.PNG', 'frame_000930.PNG', 'frame_000931.PNG', 'frame_000932.PNG', 'frame_000933.PNG', 'frame_000934.PNG', 'frame_000935.PNG', 'frame_000936.PNG', 'frame_000937.PNG', 'frame_000938.PNG', 'frame_000939.PNG', 'frame_000940.PNG', 'frame_000941.PNG', 'frame_000942.PNG', 'frame_000943.PNG', 'frame_000944.PNG', 'frame_000945.PNG', 'frame_000946.PNG', 'frame_000947.PNG') tensor([1, 1, 1, 1, 1, 1, 1, 1, 1, 1, 1, 1, 1, 1, 1, 1, 1, 1, 1, 1, 1, 1, 1, 1,\n",
      "        1, 1, 1, 1, 1, 1, 1, 1], device='cuda:0')\n"
     ]
    },
    {
     "name": "stderr",
     "output_type": "stream",
     "text": [
      " 90%|████████▉ | 266/296 [00:13<00:01, 23.16it/s]"
     ]
    },
    {
     "name": "stdout",
     "output_type": "stream",
     "text": [
      "('frame_000948.PNG', 'frame_000949.PNG', 'frame_000950.PNG', 'frame_000951.PNG', 'frame_000952.PNG', 'frame_000953.PNG', 'frame_000954.PNG', 'frame_000955.PNG', 'frame_000956.PNG', 'frame_000957.PNG', 'frame_000958.PNG', 'frame_000959.PNG', 'frame_000960.PNG', 'frame_000961.PNG', 'frame_000962.PNG', 'frame_000963.PNG', 'frame_000964.PNG', 'frame_000965.PNG', 'frame_000966.PNG', 'frame_000967.PNG', 'frame_000968.PNG', 'frame_000969.PNG', 'frame_000970.PNG', 'frame_000971.PNG', 'frame_000972.PNG', 'frame_000973.PNG', 'frame_000974.PNG', 'frame_000975.PNG', 'frame_000976.PNG', 'frame_000977.PNG', 'frame_000978.PNG', 'frame_000979.PNG') tensor([1, 1, 1, 1, 1, 1, 1, 1, 1, 1, 1, 1, 1, 1, 1, 1, 1, 1, 1, 1, 1, 1, 1, 1,\n",
      "        1, 1, 1, 1, 1, 1, 1, 1], device='cuda:0')\n",
      "('frame_000980.PNG', 'frame_000981.PNG', 'frame_000982.PNG', 'frame_000983.PNG', 'frame_000984.PNG', 'frame_000985.PNG', 'frame_000986.PNG', 'frame_000987.PNG', 'frame_000988.PNG', 'frame_000989.PNG', 'frame_000990.PNG', 'frame_000991.PNG', 'frame_000992.PNG', 'frame_000993.PNG', 'frame_000994.PNG', 'frame_000995.PNG', 'frame_000996.PNG', 'frame_000997.PNG', 'frame_000998.PNG', 'frame_000999.PNG', 'frame_001000.PNG', 'frame_001001.PNG', 'frame_001002.PNG', 'frame_001003.PNG', 'frame_001004.PNG', 'frame_001005.PNG', 'frame_001006.PNG', 'frame_001007.PNG', 'frame_001008.PNG', 'frame_001009.PNG', 'frame_001010.PNG', 'frame_001011.PNG') tensor([1, 1, 1, 1, 1, 1, 1, 1, 1, 1, 1, 1, 1, 1, 1, 1, 1, 1, 1, 1, 1, 1, 1, 1,\n",
      "        1, 1, 1, 1, 1, 1, 1, 1], device='cuda:0')\n",
      "('frame_001012.PNG', 'frame_001013.PNG', 'frame_001014.PNG', 'frame_001015.PNG', 'frame_001016.PNG', 'frame_001017.PNG', 'frame_001018.PNG', 'frame_001019.PNG', 'frame_001020.PNG', 'frame_001021.PNG', 'frame_001022.PNG', 'frame_001023.PNG', 'frame_001024.PNG', 'frame_001025.PNG', 'frame_001026.PNG', 'frame_001027.PNG', 'frame_001028.PNG', 'frame_001029.PNG', 'frame_001030.PNG', 'frame_001031.PNG', 'frame_001032.PNG', 'frame_001033.PNG', 'frame_001034.PNG', 'frame_001035.PNG', 'frame_001036.PNG', 'frame_001037.PNG', 'frame_001038.PNG', 'frame_001039.PNG', 'frame_001040.PNG', 'frame_001041.PNG', 'frame_001042.PNG', 'frame_001043.PNG') tensor([1, 1, 1, 1, 1, 1, 1, 1, 1, 1, 1, 1, 1, 1, 1, 1, 1, 1, 1, 1, 1, 1, 1, 1,\n",
      "        1, 1, 1, 1, 1, 1, 1, 1], device='cuda:0')\n",
      "('frame_001044.PNG', 'frame_001045.PNG', 'frame_001046.PNG', 'frame_001047.PNG', 'frame_001048.PNG', 'frame_001049.PNG', 'frame_001050.PNG', 'frame_001051.PNG', 'frame_001052.PNG', 'frame_001053.PNG', 'frame_001054.PNG', 'frame_001055.PNG', 'frame_001056.PNG', 'frame_001057.PNG', 'frame_001058.PNG', 'frame_001059.PNG', 'frame_001115.PNG', 'frame_001116.PNG', 'frame_001117.PNG', 'frame_001118.PNG', 'frame_001119.PNG', 'frame_001120.PNG', 'frame_001121.PNG', 'frame_001122.PNG', 'frame_001123.PNG', 'frame_001124.PNG', 'frame_001125.PNG', 'frame_001126.PNG', 'frame_001127.PNG', 'frame_001128.PNG', 'frame_001129.PNG', 'frame_001130.PNG') tensor([1, 1, 1, 1, 1, 1, 1, 1, 1, 1, 1, 1, 1, 1, 1, 1, 1, 1, 1, 1, 1, 1, 1, 1,\n",
      "        1, 1, 1, 1, 1, 1, 1, 1], device='cuda:0')\n",
      "('frame_001131.PNG', 'frame_001132.PNG', 'frame_001133.PNG', 'frame_001134.PNG', 'frame_001135.PNG', 'frame_001136.PNG', 'frame_001137.PNG', 'frame_001138.PNG', 'frame_001139.PNG', 'frame_001140.PNG', 'frame_001141.PNG', 'frame_001142.PNG', 'frame_001143.PNG', 'frame_001144.PNG', 'frame_001145.PNG', 'frame_001146.PNG', 'frame_001147.PNG', 'frame_001148.PNG', 'frame_001149.PNG', 'frame_001150.PNG', 'frame_001151.PNG', 'frame_001152.PNG', 'frame_001153.PNG', 'frame_001154.PNG', 'frame_001155.PNG', 'frame_001156.PNG', 'frame_001157.PNG', 'frame_001158.PNG', 'frame_001159.PNG', 'frame_001160.PNG', 'frame_001161.PNG', 'frame_001162.PNG') tensor([1, 1, 1, 1, 1, 1, 1, 1, 1, 1, 1, 1, 1, 1, 1, 1, 1, 1, 1, 1, 1, 1, 1, 1,\n",
      "        1, 1, 1, 1, 1, 1, 1, 1], device='cuda:0')\n"
     ]
    },
    {
     "name": "stderr",
     "output_type": "stream",
     "text": [
      " 92%|█████████▏| 272/296 [00:13<00:01, 23.26it/s]"
     ]
    },
    {
     "name": "stdout",
     "output_type": "stream",
     "text": [
      "('frame_001163.PNG', 'frame_001164.PNG', 'frame_001165.PNG', 'frame_001166.PNG', 'frame_001167.PNG', 'frame_001168.PNG', 'frame_001169.PNG', 'frame_001170.PNG', 'frame_001171.PNG', 'frame_001172.PNG', 'frame_001173.PNG', 'frame_001174.PNG', 'frame_001175.PNG', 'frame_001176.PNG', 'frame_001177.PNG', 'frame_001178.PNG', 'frame_001179.PNG', 'frame_001180.PNG', 'frame_001181.PNG', 'frame_001266.PNG', 'frame_001267.PNG', 'frame_001268.PNG', 'frame_001269.PNG', 'frame_001270.PNG', 'frame_001271.PNG', 'frame_001272.PNG', 'frame_001273.PNG', 'frame_001274.PNG', 'frame_001275.PNG', 'frame_001276.PNG', 'frame_001277.PNG', 'frame_001278.PNG') tensor([1, 1, 1, 1, 1, 1, 1, 1, 1, 1, 1, 1, 1, 1, 1, 1, 1, 1, 1, 1, 1, 1, 1, 1,\n",
      "        1, 1, 1, 1, 1, 1, 1, 1], device='cuda:0')\n",
      "('frame_001279.PNG', 'frame_001280.PNG', 'frame_001281.PNG', 'frame_001282.PNG', 'frame_001283.PNG', 'frame_001284.PNG', 'frame_001285.PNG', 'frame_001286.PNG', 'frame_001287.PNG', 'frame_001288.PNG', 'frame_001289.PNG', 'frame_001290.PNG', 'frame_001291.PNG', 'frame_001292.PNG', 'frame_001293.PNG', 'frame_001294.PNG', 'frame_001295.PNG', 'frame_001296.PNG', 'frame_001297.PNG', 'frame_001298.PNG', 'frame_001299.PNG', 'frame_001300.PNG', 'frame_001301.PNG', 'frame_001354.PNG', 'frame_001355.PNG', 'frame_001356.PNG', 'frame_001357.PNG', 'frame_001358.PNG', 'frame_001359.PNG', 'frame_001360.PNG', 'frame_001361.PNG', 'frame_001362.PNG') tensor([1, 1, 1, 1, 1, 1, 1, 1, 1, 1, 1, 1, 1, 1, 1, 1, 1, 1, 1, 1, 1, 1, 1, 1,\n",
      "        1, 1, 1, 1, 1, 1, 1, 1], device='cuda:0')\n",
      "('frame_001363.PNG', 'frame_001364.PNG', 'frame_001365.PNG', 'frame_001366.PNG', 'frame_001367.PNG', 'frame_001368.PNG', 'frame_001369.PNG', 'frame_001370.PNG', 'frame_001371.PNG', 'frame_001372.PNG', 'frame_001373.PNG', 'frame_001374.PNG', 'frame_001375.PNG', 'frame_001376.PNG', 'frame_001377.PNG', 'frame_001378.PNG', 'frame_001379.PNG', 'frame_001380.PNG', 'frame_001381.PNG', 'frame_001382.PNG', 'frame_001383.PNG', 'frame_001384.PNG', 'frame_001385.PNG', 'frame_001386.PNG', 'frame_001387.PNG', 'frame_001388.PNG', 'frame_001389.PNG', 'frame_001390.PNG', 'frame_001391.PNG', 'frame_001392.PNG', 'frame_001393.PNG', 'frame_001394.PNG') tensor([1, 1, 1, 1, 1, 1, 1, 1, 1, 1, 1, 1, 1, 1, 1, 1, 1, 1, 1, 1, 1, 1, 1, 1,\n",
      "        1, 1, 1, 1, 1, 1, 1, 1], device='cuda:0')\n",
      "('frame_001395.PNG', 'frame_001396.PNG', 'frame_001397.PNG', 'frame_001398.PNG', 'frame_001399.PNG', 'frame_001400.PNG', 'frame_001401.PNG', 'frame_001402.PNG', 'frame_001403.PNG', 'frame_001404.PNG', 'frame_001405.PNG', 'frame_001406.PNG', 'frame_001407.PNG', 'frame_001408.PNG', 'frame_001409.PNG', 'frame_001410.PNG', 'frame_001411.PNG', 'frame_001412.PNG', 'frame_001413.PNG', 'frame_001414.PNG', 'frame_001415.PNG', 'frame_001416.PNG', 'frame_001417.PNG', 'frame_001418.PNG', 'frame_001419.PNG', 'frame_001420.PNG', 'frame_001421.PNG', 'frame_001422.PNG', 'frame_001423.PNG', 'frame_001424.PNG', 'frame_001425.PNG', 'frame_001450.PNG') tensor([1, 1, 1, 1, 1, 1, 1, 1, 1, 1, 1, 1, 1, 1, 1, 1, 1, 1, 1, 1, 1, 1, 1, 1,\n",
      "        1, 1, 1, 1, 1, 1, 1, 1], device='cuda:0')\n",
      "('frame_001451.PNG', 'frame_001452.PNG', 'frame_001453.PNG', 'frame_001454.PNG', 'frame_001455.PNG', 'frame_001456.PNG', 'frame_001457.PNG', 'frame_001458.PNG', 'frame_001459.PNG', 'frame_001460.PNG', 'frame_001461.PNG', 'frame_001462.PNG', 'frame_001463.PNG', 'frame_001464.PNG', 'frame_001465.PNG', 'frame_001466.PNG', 'frame_001467.PNG', 'frame_001468.PNG', 'frame_001469.PNG', 'frame_001470.PNG', 'frame_001471.PNG', 'frame_001472.PNG', 'frame_001473.PNG', 'frame_001474.PNG', 'frame_001475.PNG', 'frame_001476.PNG', 'frame_001477.PNG', 'frame_001478.PNG', 'frame_001479.PNG', 'frame_001480.PNG', 'frame_001481.PNG', 'frame_001482.PNG') tensor([1, 1, 1, 1, 1, 1, 1, 1, 1, 1, 1, 1, 1, 1, 1, 1, 1, 1, 1, 1, 1, 1, 1, 1,\n",
      "        1, 1, 1, 1, 1, 1, 1, 1], device='cuda:0')\n"
     ]
    },
    {
     "name": "stderr",
     "output_type": "stream",
     "text": [
      " 93%|█████████▎| 275/296 [00:14<00:00, 23.85it/s]"
     ]
    },
    {
     "name": "stdout",
     "output_type": "stream",
     "text": [
      "('frame_001483.PNG', 'frame_001484.PNG', 'frame_001485.PNG', 'frame_001486.PNG', 'frame_001487.PNG', 'frame_001488.PNG', 'frame_001489.PNG', 'frame_001490.PNG', 'frame_001491.PNG', 'frame_001492.PNG', 'frame_001493.PNG', 'frame_001494.PNG', 'frame_001495.PNG', 'frame_001496.PNG', 'frame_001497.PNG', 'frame_001498.PNG', 'frame_001499.PNG', 'frame_001500.PNG', 'frame_001501.PNG', 'frame_001502.PNG', 'frame_001503.PNG', 'frame_001504.PNG', 'frame_001505.PNG', 'frame_001506.PNG', 'frame_001507.PNG', 'frame_001508.PNG', 'frame_001509.PNG', 'frame_001510.PNG', 'frame_001511.PNG', 'frame_001512.PNG', 'frame_001513.PNG', 'frame_001514.PNG') tensor([1, 1, 1, 1, 1, 1, 1, 1, 1, 1, 1, 1, 1, 1, 1, 1, 1, 1, 1, 1, 1, 1, 1, 1,\n",
      "        1, 1, 1, 1, 1, 1, 1, 1], device='cuda:0')\n",
      "('frame_001515.PNG', 'frame_001516.PNG', 'frame_001517.PNG', 'frame_001518.PNG', 'frame_001519.PNG', 'frame_001520.PNG', 'frame_001521.PNG', 'frame_001522.PNG', 'frame_001523.PNG', 'frame_001524.PNG', 'frame_001525.PNG', 'frame_001526.PNG', 'frame_001527.PNG', 'frame_001528.PNG', 'frame_001529.PNG', 'frame_001530.PNG', 'frame_001531.PNG', 'frame_001532.PNG', 'frame_001533.PNG', 'frame_001534.PNG', 'frame_001535.PNG', 'frame_001536.PNG', 'frame_001537.PNG', 'frame_001538.PNG', 'frame_001539.PNG', 'frame_001540.PNG', 'frame_001541.PNG', 'frame_001542.PNG', 'frame_001575.PNG', 'frame_001576.PNG', 'frame_001577.PNG', 'frame_001578.PNG') tensor([1, 1, 1, 1, 1, 1, 1, 1, 1, 1, 1, 1, 1, 1, 1, 1, 1, 1, 1, 1, 1, 1, 1, 1,\n",
      "        1, 1, 1, 1, 1, 1, 1, 1], device='cuda:0')\n",
      "('frame_001579.PNG', 'frame_001580.PNG', 'frame_001581.PNG', 'frame_001582.PNG', 'frame_001583.PNG', 'frame_001584.PNG', 'frame_001585.PNG', 'frame_001586.PNG', 'frame_001587.PNG', 'frame_001588.PNG', 'frame_001589.PNG', 'frame_001590.PNG', 'frame_001591.PNG', 'frame_001592.PNG', 'frame_001593.PNG', 'frame_001594.PNG', 'frame_001595.PNG', 'frame_001596.PNG', 'frame_001597.PNG', 'frame_001598.PNG', 'frame_001599.PNG', 'frame_001600.PNG', 'frame_001601.PNG', 'frame_001602.PNG', 'frame_001603.PNG', 'frame_001604.PNG', 'frame_001605.PNG', 'frame_001606.PNG', 'frame_001607.PNG', 'frame_001608.PNG', 'frame_001609.PNG', 'frame_001610.PNG') tensor([1, 1, 1, 1, 1, 1, 1, 1, 1, 1, 1, 1, 1, 1, 1, 1, 1, 1, 1, 1, 1, 1, 1, 1,\n",
      "        1, 1, 1, 1, 1, 1, 1, 1], device='cuda:0')\n",
      "('frame_001611.PNG', 'frame_001612.PNG', 'frame_001613.PNG', 'frame_001614.PNG', 'frame_001615.PNG', 'frame_001616.PNG', 'frame_001617.PNG', 'frame_001618.PNG', 'frame_001619.PNG', 'frame_001620.PNG', 'frame_001621.PNG', 'frame_001622.PNG', 'frame_001623.PNG', 'frame_001624.PNG', 'frame_001625.PNG', 'frame_001626.PNG', 'frame_001627.PNG', 'frame_001628.PNG', 'frame_001629.PNG', 'frame_001664.PNG', 'frame_001665.PNG', 'frame_001666.PNG', 'frame_001667.PNG', 'frame_001668.PNG', 'frame_001669.PNG', 'frame_001670.PNG', 'frame_001671.PNG', 'frame_001672.PNG', 'frame_001673.PNG', 'frame_001674.PNG', 'frame_001675.PNG', 'frame_001676.PNG') tensor([1, 1, 1, 1, 1, 1, 1, 1, 1, 1, 1, 1, 1, 1, 1, 1, 1, 1, 1, 1, 1, 1, 1, 1,\n",
      "        1, 1, 1, 1, 1, 1, 1, 1], device='cuda:0')\n",
      "('frame_001677.PNG', 'frame_001678.PNG', 'frame_001679.PNG', 'frame_001680.PNG', 'frame_001681.PNG', 'frame_001682.PNG', 'frame_001683.PNG', 'frame_001684.PNG', 'frame_001685.PNG', 'frame_001686.PNG', 'frame_001687.PNG', 'frame_001688.PNG', 'frame_001689.PNG', 'frame_001690.PNG', 'frame_001691.PNG', 'frame_001692.PNG', 'frame_001693.PNG', 'frame_001694.PNG', 'frame_001695.PNG', 'frame_001696.PNG', 'frame_001697.PNG', 'frame_001698.PNG', 'frame_001699.PNG', 'frame_001700.PNG', 'frame_001701.PNG', 'frame_001702.PNG', 'frame_001703.PNG', 'frame_001704.PNG', 'frame_001705.PNG', 'frame_001706.PNG', 'frame_001707.PNG', 'frame_001708.PNG') tensor([1, 1, 1, 1, 1, 1, 1, 1, 1, 1, 1, 1, 1, 1, 1, 1, 1, 1, 1, 1, 1, 1, 1, 1,\n",
      "        1, 1, 1, 1, 1, 1, 1, 1], device='cuda:0')\n"
     ]
    },
    {
     "name": "stderr",
     "output_type": "stream",
     "text": [
      " 95%|█████████▍| 281/296 [00:14<00:00, 22.69it/s]"
     ]
    },
    {
     "name": "stdout",
     "output_type": "stream",
     "text": [
      "('frame_001709.PNG', 'frame_001710.PNG', 'frame_001743.PNG', 'frame_001744.PNG', 'frame_001745.PNG', 'frame_001746.PNG', 'frame_001747.PNG', 'frame_001748.PNG', 'frame_001749.PNG', 'frame_001750.PNG', 'frame_001751.PNG', 'frame_001752.PNG', 'frame_001753.PNG', 'frame_001754.PNG', 'frame_001755.PNG', 'frame_001756.PNG', 'frame_001757.PNG', 'frame_001758.PNG', 'frame_001759.PNG', 'frame_001760.PNG', 'frame_001761.PNG', 'frame_001762.PNG', 'frame_001763.PNG', 'frame_001764.PNG', 'frame_001796.PNG', 'frame_001797.PNG', 'frame_001798.PNG', 'frame_001799.PNG', 'frame_001800.PNG', 'frame_001801.PNG', 'frame_001802.PNG', 'frame_001803.PNG') tensor([1, 1, 1, 1, 1, 1, 1, 1, 1, 1, 1, 1, 1, 1, 1, 1, 1, 1, 1, 1, 1, 1, 1, 1,\n",
      "        1, 1, 1, 1, 1, 1, 1, 1], device='cuda:0')\n",
      "('frame_001804.PNG', 'frame_001805.PNG', 'frame_001806.PNG', 'frame_001807.PNG', 'frame_001808.PNG', 'frame_001809.PNG', 'frame_001810.PNG', 'frame_001811.PNG', 'frame_001812.PNG', 'frame_001813.PNG', 'frame_001814.PNG', 'frame_001815.PNG', 'frame_001816.PNG', 'frame_001817.PNG', 'frame_001818.PNG', 'frame_001819.PNG', 'frame_001851.PNG', 'frame_001852.PNG', 'frame_001853.PNG', 'frame_001854.PNG', 'frame_001855.PNG', 'frame_001856.PNG', 'frame_001857.PNG', 'frame_001858.PNG', 'frame_001859.PNG', 'frame_001860.PNG', 'frame_001861.PNG', 'frame_001862.PNG', 'frame_001863.PNG', 'frame_001864.PNG', 'frame_001865.PNG', 'frame_001866.PNG') tensor([1, 1, 1, 1, 1, 1, 1, 1, 1, 1, 1, 1, 1, 1, 1, 1, 1, 1, 1, 1, 1, 1, 1, 1,\n",
      "        1, 1, 1, 1, 1, 1, 1, 1], device='cuda:0')\n",
      "('frame_001867.PNG', 'frame_001868.PNG', 'frame_001869.PNG', 'frame_001870.PNG', 'frame_001871.PNG', 'frame_001872.PNG', 'frame_001873.PNG', 'frame_001874.PNG', 'frame_001875.PNG', 'frame_001876.PNG', 'frame_001877.PNG', 'frame_001878.PNG', 'frame_001879.PNG', 'frame_001880.PNG', 'frame_001881.PNG', 'frame_001882.PNG', 'frame_001883.PNG', 'frame_001884.PNG', 'frame_001885.PNG', 'frame_001886.PNG', 'frame_001887.PNG', 'frame_001888.PNG', 'frame_001889.PNG', 'frame_001890.PNG', 'frame_001891.PNG', 'frame_001892.PNG', 'frame_001893.PNG', 'frame_001894.PNG', 'frame_001895.PNG', 'frame_001896.PNG', 'frame_001897.PNG', 'frame_001898.PNG') tensor([1, 1, 1, 1, 1, 1, 1, 1, 1, 1, 1, 1, 1, 1, 1, 1, 1, 1, 1, 1, 1, 1, 1, 1,\n",
      "        1, 1, 1, 1, 1, 1, 1, 1], device='cuda:0')\n",
      "('frame_001899.PNG', 'frame_001900.PNG', 'frame_001901.PNG', 'frame_001902.PNG', 'frame_001903.PNG', 'frame_001904.PNG', 'frame_001905.PNG', 'frame_001906.PNG', 'frame_001907.PNG', 'frame_001908.PNG', 'frame_001909.PNG', 'frame_001910.PNG', 'frame_001911.PNG', 'frame_001912.PNG', 'frame_001913.PNG', 'frame_001914.PNG', 'frame_001915.PNG', 'frame_001916.PNG', 'frame_001917.PNG', 'frame_001918.PNG', 'frame_001919.PNG', 'frame_001920.PNG', 'frame_001921.PNG', 'frame_001922.PNG', 'frame_001923.PNG', 'frame_001924.PNG', 'frame_001925.PNG', 'frame_001926.PNG', 'frame_001927.PNG', 'frame_001928.PNG', 'frame_001929.PNG', 'frame_001930.PNG') tensor([1, 1, 1, 1, 1, 1, 1, 1, 1, 1, 1, 1, 1, 1, 1, 1, 1, 1, 1, 1, 1, 1, 1, 1,\n",
      "        1, 1, 1, 1, 1, 1, 1, 1], device='cuda:0')\n",
      "('frame_001931.PNG', 'frame_001932.PNG', 'frame_001933.PNG', 'frame_001934.PNG', 'frame_001935.PNG', 'frame_001936.PNG', 'frame_001937.PNG', 'frame_001938.PNG', 'frame_001939.PNG', 'frame_001940.PNG', 'frame_001941.PNG', 'frame_001942.PNG', 'frame_001943.PNG', 'frame_001944.PNG', 'frame_001945.PNG', 'frame_001946.PNG', 'frame_001947.PNG', 'frame_001948.PNG', 'frame_001949.PNG', 'frame_001950.PNG', 'frame_001951.PNG', 'frame_001952.PNG', 'frame_001953.PNG', 'frame_001954.PNG', 'frame_001955.PNG', 'frame_001956.PNG', 'frame_001957.PNG', 'frame_001958.PNG', 'frame_001959.PNG', 'frame_001960.PNG', 'frame_001961.PNG', 'frame_001962.PNG') tensor([1, 1, 1, 1, 1, 1, 1, 1, 1, 1, 1, 1, 1, 1, 1, 1, 1, 1, 1, 1, 1, 1, 1, 1,\n",
      "        1, 1, 1, 1, 1, 1, 1, 1], device='cuda:0')\n"
     ]
    },
    {
     "name": "stderr",
     "output_type": "stream",
     "text": [
      " 96%|█████████▌| 284/296 [00:14<00:00, 22.49it/s]"
     ]
    },
    {
     "name": "stdout",
     "output_type": "stream",
     "text": [
      "('frame_001963.PNG', 'frame_001964.PNG', 'frame_001965.PNG', 'frame_001966.PNG', 'frame_001967.PNG', 'frame_001968.PNG', 'frame_001969.PNG', 'frame_001970.PNG', 'frame_001971.PNG', 'frame_001972.PNG', 'frame_001973.PNG', 'frame_001974.PNG', 'frame_001975.PNG', 'frame_001976.PNG', 'frame_001977.PNG', 'frame_001978.PNG', 'frame_001979.PNG', 'frame_001980.PNG', 'frame_001981.PNG', 'frame_001982.PNG', 'frame_001983.PNG', 'frame_001984.PNG', 'frame_001985.PNG', 'frame_001986.PNG', 'frame_001987.PNG', 'frame_001988.PNG', 'frame_001989.PNG', 'frame_001990.PNG', 'frame_001991.PNG', 'frame_001992.PNG', 'frame_001993.PNG', 'frame_001994.PNG') tensor([1, 1, 1, 1, 1, 1, 1, 1, 1, 1, 1, 1, 1, 1, 1, 1, 1, 1, 1, 1, 1, 1, 1, 1,\n",
      "        1, 1, 1, 1, 1, 1, 1, 1], device='cuda:0')\n",
      "('frame_001995.PNG', 'frame_001996.PNG', 'frame_001997.PNG', 'frame_001998.PNG', 'frame_001999.PNG', 'frame_002000.PNG', 'frame_002001.PNG', 'frame_002002.PNG', 'frame_002003.PNG', 'frame_002004.PNG', 'frame_002005.PNG', 'frame_002006.PNG', 'frame_002007.PNG', 'frame_002008.PNG', 'frame_002009.PNG', 'frame_002010.PNG', 'frame_002011.PNG', 'frame_002012.PNG', 'frame_002013.PNG', 'frame_002014.PNG', 'frame_002015.PNG', 'frame_002016.PNG', 'frame_002017.PNG', 'frame_002018.PNG', 'frame_002019.PNG', 'frame_002020.PNG', 'frame_002021.PNG', 'frame_002022.PNG', 'frame_002023.PNG', 'frame_002024.PNG', 'frame_002025.PNG', 'frame_002026.PNG') tensor([1, 1, 1, 1, 1, 1, 1, 1, 1, 1, 1, 1, 1, 1, 1, 1, 1, 1, 1, 1, 1, 1, 1, 1,\n",
      "        1, 1, 1, 1, 1, 1, 1, 1], device='cuda:0')\n",
      "('frame_002027.PNG', 'frame_002028.PNG', 'frame_002029.PNG', 'frame_002030.PNG', 'frame_002031.PNG', 'frame_002032.PNG', 'frame_002033.PNG', 'frame_002034.PNG', 'frame_002035.PNG', 'frame_002036.PNG', 'frame_002037.PNG', 'frame_002038.PNG', 'frame_002039.PNG', 'frame_002040.PNG', 'frame_002041.PNG', 'frame_002042.PNG', 'frame_002043.PNG', 'frame_002044.PNG', 'frame_002045.PNG', 'frame_002046.PNG', 'frame_002047.PNG', 'frame_002048.PNG', 'frame_002049.PNG', 'frame_002050.PNG', 'frame_002051.PNG', 'frame_002052.PNG', 'frame_002053.PNG', 'frame_002054.PNG', 'frame_002055.PNG', 'frame_002056.PNG', 'frame_002057.PNG', 'frame_002058.PNG') tensor([1, 1, 1, 1, 1, 1, 1, 1, 1, 1, 1, 1, 1, 1, 1, 1, 1, 1, 1, 1, 1, 1, 1, 1,\n",
      "        1, 1, 1, 1, 1, 1, 1, 1], device='cuda:0')\n",
      "('frame_002059.PNG', 'frame_002060.PNG', 'frame_002061.PNG', 'frame_002062.PNG', 'frame_002063.PNG', 'frame_002064.PNG', 'frame_002065.PNG', 'frame_002066.PNG', 'frame_002067.PNG', 'frame_002068.PNG', 'frame_002069.PNG', 'frame_002070.PNG', 'frame_002071.PNG', 'frame_002072.PNG', 'frame_002073.PNG', 'frame_002074.PNG', 'frame_002075.PNG', 'frame_002076.PNG', 'frame_002077.PNG', 'frame_002078.PNG', 'frame_002079.PNG', 'frame_002080.PNG', 'frame_002081.PNG', 'frame_002082.PNG', 'frame_002083.PNG', 'frame_002084.PNG', 'frame_002085.PNG', 'frame_002086.PNG', 'frame_002087.PNG', 'frame_002088.PNG', 'frame_002089.PNG', 'frame_002090.PNG') tensor([1, 1, 1, 1, 1, 1, 1, 1, 1, 1, 1, 1, 1, 1, 1, 1, 1, 1, 1, 1, 1, 1, 1, 1,\n",
      "        1, 1, 1, 1, 1, 1, 1, 1], device='cuda:0')\n",
      "('frame_002091.PNG', 'frame_002092.PNG', 'frame_002093.PNG', 'frame_002094.PNG', 'frame_002095.PNG', 'frame_002096.PNG', 'frame_002097.PNG', 'frame_002098.PNG', 'frame_002099.PNG', 'frame_002100.PNG', 'frame_002101.PNG', 'frame_002102.PNG', 'frame_002103.PNG', 'frame_002104.PNG', 'frame_002105.PNG', 'frame_002177.PNG', 'frame_002178.PNG', 'frame_002179.PNG', 'frame_002180.PNG', 'frame_002181.PNG', 'frame_002182.PNG', 'frame_002183.PNG', 'frame_002184.PNG', 'frame_002185.PNG', 'frame_002186.PNG', 'frame_002187.PNG', 'frame_002188.PNG', 'frame_002189.PNG', 'frame_002190.PNG', 'frame_002191.PNG', 'frame_002192.PNG', 'frame_002193.PNG') "
     ]
    },
    {
     "name": "stderr",
     "output_type": "stream",
     "text": [
      " 98%|█████████▊| 290/296 [00:14<00:00, 22.87it/s]"
     ]
    },
    {
     "name": "stdout",
     "output_type": "stream",
     "text": [
      "tensor([1, 1, 1, 1, 1, 1, 1, 1, 1, 1, 1, 1, 1, 1, 1, 1, 1, 1, 1, 1, 1, 1, 1, 1,\n",
      "        1, 1, 1, 1, 1, 1, 1, 1], device='cuda:0')\n",
      "('frame_002194.PNG', 'frame_002195.PNG', 'frame_002196.PNG', 'frame_002197.PNG', 'frame_002198.PNG', 'frame_002199.PNG', 'frame_002200.PNG', 'frame_002201.PNG', 'frame_002202.PNG', 'frame_002203.PNG', 'frame_002204.PNG', 'frame_002205.PNG', 'frame_002206.PNG', 'frame_002207.PNG', 'frame_002208.PNG', 'frame_002209.PNG', 'frame_002210.PNG', 'frame_002211.PNG', 'frame_002212.PNG', 'frame_002213.PNG', 'frame_002214.PNG', 'frame_002215.PNG', 'frame_002216.PNG', 'frame_002217.PNG', 'frame_002218.PNG', 'frame_002219.PNG', 'frame_002220.PNG', 'frame_002221.PNG', 'frame_002222.PNG', 'frame_002223.PNG', 'frame_002224.PNG', 'frame_002225.PNG') tensor([1, 1, 1, 1, 1, 1, 1, 1, 1, 1, 1, 1, 1, 1, 1, 1, 1, 1, 1, 1, 1, 1, 1, 1,\n",
      "        1, 1, 1, 1, 1, 1, 1, 1], device='cuda:0')\n",
      "('frame_002226.PNG', 'frame_002227.PNG', 'frame_002228.PNG', 'frame_002229.PNG', 'frame_002230.PNG', 'frame_002231.PNG', 'frame_002232.PNG', 'frame_002233.PNG', 'frame_002234.PNG', 'frame_002235.PNG', 'frame_002236.PNG', 'frame_002237.PNG', 'frame_002273.PNG', 'frame_002274.PNG', 'frame_002275.PNG', 'frame_002276.PNG', 'frame_002277.PNG', 'frame_002278.PNG', 'frame_002279.PNG', 'frame_002280.PNG', 'frame_002281.PNG', 'frame_002282.PNG', 'frame_002283.PNG', 'frame_002284.PNG', 'frame_002285.PNG', 'frame_002286.PNG', 'frame_002287.PNG', 'frame_002288.PNG', 'frame_002289.PNG', 'frame_002290.PNG', 'frame_002291.PNG', 'frame_002292.PNG') tensor([1, 1, 1, 1, 1, 1, 1, 1, 1, 1, 1, 1, 1, 1, 1, 1, 1, 1, 1, 1, 1, 1, 1, 1,\n",
      "        1, 1, 1, 1, 1, 1, 1, 1], device='cuda:0')\n",
      "('frame_002293.PNG', 'frame_002294.PNG', 'frame_002295.PNG', 'frame_002296.PNG', 'frame_002297.PNG', 'frame_002298.PNG', 'frame_002299.PNG', 'frame_002300.PNG', 'frame_002301.PNG', 'frame_002302.PNG', 'frame_002303.PNG', 'frame_002304.PNG', 'frame_002305.PNG', 'frame_002306.PNG', 'frame_002307.PNG', 'frame_002308.PNG', 'frame_002309.PNG', 'frame_002310.PNG', 'frame_002311.PNG', 'frame_002312.PNG', 'frame_002313.PNG', 'frame_002314.PNG', 'frame_002315.PNG', 'frame_002316.PNG', 'frame_002317.PNG', 'frame_002318.PNG', 'frame_002319.PNG', 'frame_002320.PNG', 'frame_002321.PNG', 'frame_002322.PNG', 'frame_002323.PNG', 'frame_002324.PNG') tensor([1, 1, 1, 1, 1, 1, 1, 1, 1, 1, 1, 1, 1, 1, 1, 1, 1, 1, 1, 1, 1, 1, 1, 1,\n",
      "        1, 1, 1, 1, 1, 1, 1, 1], device='cuda:0')\n",
      "('frame_002325.PNG', 'frame_002326.PNG', 'frame_002327.PNG', 'frame_002328.PNG', 'frame_002329.PNG', 'frame_002330.PNG', 'frame_002331.PNG', 'frame_002362.PNG', 'frame_002363.PNG', 'frame_002364.PNG', 'frame_002365.PNG', 'frame_002366.PNG', 'frame_002367.PNG', 'frame_002368.PNG', 'frame_002369.PNG', 'frame_002370.PNG', 'frame_002371.PNG', 'frame_002372.PNG', 'frame_002373.PNG', 'frame_002374.PNG', 'frame_002375.PNG', 'frame_002376.PNG', 'frame_002377.PNG', 'frame_002378.PNG', 'frame_002379.PNG', 'frame_002380.PNG', 'frame_002381.PNG', 'frame_002382.PNG', 'frame_002383.PNG', 'frame_002384.PNG', 'frame_002385.PNG', 'frame_002386.PNG') tensor([1, 1, 1, 1, 1, 1, 1, 1, 1, 1, 1, 1, 1, 1, 1, 1, 1, 1, 1, 1, 1, 1, 1, 1,\n",
      "        1, 1, 1, 1, 1, 1, 1, 1], device='cuda:0')\n",
      "('frame_002387.PNG', 'frame_002388.PNG', 'frame_002389.PNG', 'frame_002390.PNG', 'frame_002391.PNG', 'frame_002392.PNG', 'frame_002393.PNG', 'frame_002394.PNG', 'frame_002395.PNG', 'frame_002396.PNG', 'frame_002397.PNG', 'frame_002398.PNG', 'frame_002399.PNG', 'frame_002400.PNG', 'frame_002401.PNG', 'frame_002402.PNG', 'frame_002403.PNG', 'frame_002404.PNG', 'frame_002405.PNG', 'frame_002406.PNG', 'frame_002407.PNG', 'frame_002408.PNG', 'frame_002409.PNG', 'frame_002410.PNG', 'frame_002411.PNG', 'frame_002412.PNG', 'frame_002413.PNG', 'frame_002414.PNG', 'frame_002415.PNG', 'frame_002416.PNG', 'frame_002417.PNG', 'frame_002418.PNG') "
     ]
    },
    {
     "name": "stderr",
     "output_type": "stream",
     "text": [
      "100%|██████████| 296/296 [00:14<00:00, 19.78it/s]"
     ]
    },
    {
     "name": "stdout",
     "output_type": "stream",
     "text": [
      "tensor([1, 1, 1, 1, 1, 1, 1, 1, 1, 1, 1, 1, 1, 1, 1, 1, 1, 1, 1, 1, 1, 1, 1, 1,\n",
      "        1, 1, 1, 1, 1, 1, 1, 1], device='cuda:0')\n",
      "('frame_002457.PNG', 'frame_002458.PNG', 'frame_002459.PNG', 'frame_002460.PNG', 'frame_002461.PNG', 'frame_002462.PNG', 'frame_002463.PNG', 'frame_002464.PNG', 'frame_002465.PNG', 'frame_002466.PNG', 'frame_002467.PNG', 'frame_002468.PNG', 'frame_002469.PNG', 'frame_002470.PNG', 'frame_002471.PNG', 'frame_002472.PNG', 'frame_002473.PNG', 'frame_002474.PNG', 'frame_002475.PNG', 'frame_002476.PNG', 'frame_002477.PNG', 'frame_002478.PNG', 'frame_002479.PNG', 'frame_002480.PNG', 'frame_002481.PNG', 'frame_002482.PNG', 'frame_002483.PNG', 'frame_002484.PNG', 'frame_002485.PNG', 'frame_002486.PNG', 'frame_002487.PNG', 'frame_002488.PNG') tensor([1, 1, 1, 1, 1, 1, 1, 1, 1, 1, 1, 1, 1, 1, 1, 1, 1, 1, 1, 1, 1, 1, 1, 1,\n",
      "        1, 1, 1, 1, 1, 1, 1, 1], device='cuda:0')\n",
      "('frame_002489.PNG', 'frame_002490.PNG', 'frame_002491.PNG', 'frame_002492.PNG', 'frame_002539.PNG', 'frame_002540.PNG', 'frame_002541.PNG', 'frame_002542.PNG', 'frame_002543.PNG', 'frame_002544.PNG', 'frame_002545.PNG', 'frame_002546.PNG', 'frame_002547.PNG', 'frame_002548.PNG', 'frame_002549.PNG', 'frame_002550.PNG', 'frame_002551.PNG', 'frame_002552.PNG', 'frame_002553.PNG', 'frame_002554.PNG', 'frame_002555.PNG', 'frame_002556.PNG', 'frame_002557.PNG', 'frame_002558.PNG', 'frame_002559.PNG', 'frame_002560.PNG', 'frame_002561.PNG', 'frame_002562.PNG', 'frame_002563.PNG', 'frame_002564.PNG', 'frame_002565.PNG', 'frame_002566.PNG') tensor([1, 1, 1, 1, 1, 1, 1, 1, 1, 1, 1, 1, 1, 1, 1, 1, 1, 1, 1, 1, 1, 1, 1, 1,\n",
      "        1, 1, 1, 1, 1, 1, 1, 1], device='cuda:0')\n",
      "('frame_002567.PNG', 'frame_002568.PNG', 'frame_002569.PNG', 'frame_002570.PNG', 'frame_002571.PNG', 'frame_002572.PNG', 'frame_002573.PNG', 'frame_002574.PNG', 'frame_002575.PNG', 'frame_002576.PNG', 'frame_002577.PNG', 'frame_002578.PNG', 'frame_002579.PNG', 'frame_002580.PNG', 'frame_002581.PNG', 'frame_002582.PNG', 'frame_002583.PNG', 'frame_002584.PNG', 'frame_002585.PNG', 'frame_002586.PNG', 'frame_002587.PNG', 'frame_002588.PNG', 'frame_002589.PNG', 'frame_002590.PNG', 'frame_002591.PNG', 'frame_002592.PNG', 'frame_002593.PNG', 'frame_002594.PNG', 'frame_002595.PNG', 'frame_002596.PNG', 'frame_002597.PNG', 'frame_002598.PNG') tensor([1, 1, 1, 1, 1, 1, 1, 1, 1, 1, 1, 1, 1, 1, 1, 1, 1, 1, 1, 1, 1, 1, 1, 1,\n",
      "        1, 1, 1, 1, 1, 1, 1, 1], device='cuda:0')\n",
      "('frame_002599.PNG', 'frame_002600.PNG', 'frame_002601.PNG', 'frame_002602.PNG', 'frame_002603.PNG', 'frame_002604.PNG', 'frame_002605.PNG', 'frame_002606.PNG') tensor([1, 1, 1, 1, 1, 1, 1, 1], device='cuda:0')\n"
     ]
    },
    {
     "name": "stderr",
     "output_type": "stream",
     "text": [
      "\n"
     ]
    }
   ],
   "source": [
    "from tqdm import tqdm\n",
    "\n",
    "tests = Data(test_image, test_names)\n",
    "tests_dataloader = torch.utils.data.DataLoader(\n",
    "    tests, batch_size = config.batch_size)\n",
    "\n",
    "\n",
    "with torch.no_grad(), open(\"result.csv\", \"w\", newline='') as result:\n",
    "    result_writer = csv.writer(result)\n",
    "    for image, names in tqdm(tests_dataloader):\n",
    "        image = image.to(device, dtype=torch.float)\n",
    "\n",
    "        output = model(image)\n",
    "        output = output.argmax(dim=1).cpu().item()\n",
    "        assert(output.shape[0] == names.shape[0])\n",
    "        \n",
    "        result_writer.writerows(zip(names, output))\n"
   ]
  }
 ],
 "metadata": {
  "kernelspec": {
   "display_name": "Python 3.10.5 ('nhatenv')",
   "language": "python",
   "name": "python3"
  },
  "language_info": {
   "codemirror_mode": {
    "name": "ipython",
    "version": 3
   },
   "file_extension": ".py",
   "mimetype": "text/x-python",
   "name": "python",
   "nbconvert_exporter": "python",
   "pygments_lexer": "ipython3",
   "version": "3.10.5"
  },
  "orig_nbformat": 4,
  "vscode": {
   "interpreter": {
    "hash": "867ad48846dc57cdb6a7846b46ef358b3169581697c80695711b9dc516eb64da"
   }
  }
 },
 "nbformat": 4,
 "nbformat_minor": 2
}
