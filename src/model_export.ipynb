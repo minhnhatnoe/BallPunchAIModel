{
 "cells": [
  {
   "cell_type": "markdown",
   "metadata": {},
   "source": [
    "# Get the dataset\n"
   ]
  },
  {
   "cell_type": "code",
   "execution_count": null,
   "metadata": {},
   "outputs": [],
   "source": [
    "import csv\n",
    "import numpy as np\n",
    "import config\n",
    "\n",
    "test_image = np.load(config.t_path)\n",
    "test_names = np.load(config.n_path)\n",
    "\n",
    "assert(test_image.shape[0] == test_names.shape[0])\n"
   ]
  },
  {
   "cell_type": "markdown",
   "metadata": {},
   "source": [
    "# Boilerplate Code"
   ]
  },
  {
   "cell_type": "code",
   "execution_count": null,
   "metadata": {},
   "outputs": [],
   "source": [
    "import torch\n",
    "from typing import Tuple\n",
    "class Data(torch.utils.data.Dataset):\n",
    "    def __init__(self, image: np.ndarray, name: np.ndarray) -> None:\n",
    "        assert(image.shape[0] == name.shape[0])\n",
    "        self.image = image\n",
    "        self.name = name\n",
    "    \n",
    "    def __len__(self) -> int:\n",
    "        return self.image.shape[0]\n",
    "    \n",
    "    def __getitem__(self, idx: int) -> 'Tuple[np.ndarray, str]':\n",
    "        return self.image[idx], self.name[idx]\n"
   ]
  },
  {
   "cell_type": "markdown",
   "metadata": {},
   "source": [
    "# Model"
   ]
  },
  {
   "cell_type": "code",
   "execution_count": null,
   "metadata": {},
   "outputs": [],
   "source": [
    "model = config.get_model()\n",
    "model.load_state_dict(torch.load(config.model_path))\n",
    "\n",
    "use_cuda = torch.cuda.is_available()\n",
    "if not use_cuda:\n",
    "    print(\"CUDA not used!\")\n",
    "device = torch.device(\"cuda\" if use_cuda else \"cpu\")\n",
    "\n",
    "model = model.to(device)\n"
   ]
  },
  {
   "cell_type": "markdown",
   "metadata": {},
   "source": [
    "# Run tests"
   ]
  },
  {
   "cell_type": "code",
   "execution_count": null,
   "metadata": {},
   "outputs": [],
   "source": [
    "from tqdm import tqdm\n",
    "\n",
    "tests = Data(test_image, test_names)\n",
    "tests_dataloader = torch.utils.data.DataLoader(\n",
    "    tests, batch_size = config.batch_size)\n",
    "\n",
    "\n",
    "with torch.no_grad(), open(config.result_path, \"w\", newline='') as result:\n",
    "    result_writer = csv.writer(result)\n",
    "    for image, names in tqdm(tests_dataloader):\n",
    "        image = image.to(device, dtype=torch.float)\n",
    "\n",
    "        output = model(image)\n",
    "        output = output.argmax(dim=1).cpu().item()\n",
    "        assert(output.shape[0] == names.shape[0])\n",
    "        \n",
    "        result_writer.writerows(zip(names, output))\n"
   ]
  },
  {
   "cell_type": "markdown",
   "metadata": {},
   "source": [
    "# Submit\n"
   ]
  },
  {
   "cell_type": "code",
   "execution_count": 5,
   "metadata": {},
   "outputs": [
    {
     "name": "stderr",
     "output_type": "stream",
     "text": [
      "/home/phuonghd/.conda/envs/nhatenv/lib/python3.10/site-packages/tqdm/auto.py:22: TqdmWarning: IProgress not found. Please update jupyter and ipywidgets. See https://ipywidgets.readthedocs.io/en/stable/user_install.html\n",
      "  from .autonotebook import tqdm as notebook_tqdm\n"
     ]
    },
    {
     "name": "stdout",
     "output_type": "stream",
     "text": [
      "HEHE\n"
     ]
    }
   ],
   "source": [
    "from datetime import datetime\n",
    "from kaggle.api.kaggle_api_extended import KaggleApi\n",
    "api = KaggleApi()\n",
    "api.authenticate()\n",
    "\n",
    "choice = input(f\"Data saved at {config.result_path}. Submit?\")\n",
    "if choice == \"\":\n",
    "    api.competition_submit(config.result_path, f\"Submitted with hope and joy at {datetime.now()}\", \"hsgs-hackathon2022\")"
   ]
  }
 ],
 "metadata": {
  "kernelspec": {
   "display_name": "Python 3.10.5 ('nhatenv')",
   "language": "python",
   "name": "python3"
  },
  "language_info": {
   "codemirror_mode": {
    "name": "ipython",
    "version": 3
   },
   "file_extension": ".py",
   "mimetype": "text/x-python",
   "name": "python",
   "nbconvert_exporter": "python",
   "pygments_lexer": "ipython3",
   "version": "3.10.5"
  },
  "orig_nbformat": 4,
  "vscode": {
   "interpreter": {
    "hash": "867ad48846dc57cdb6a7846b46ef358b3169581697c80695711b9dc516eb64da"
   }
  }
 },
 "nbformat": 4,
 "nbformat_minor": 2
}
