{
 "cells": [
  {
   "cell_type": "markdown",
   "metadata": {},
   "source": [
    "# 1. Import"
   ]
  },
  {
   "cell_type": "code",
   "execution_count": 1,
   "metadata": {},
   "outputs": [],
   "source": [
    "from os import path\n",
    "import config\n",
    "\n",
    "\n",
    "def get_path(filename: str) -> tuple[str, str]:\n",
    "    return (\n",
    "        path.join(config.dataset_path, f\"{filename}_Extract.npy\"),\n",
    "        path.join(config.dataset_path, f\"{filename}.npy\")\n",
    "    )\n"
   ]
  },
  {
   "cell_type": "code",
   "execution_count": 2,
   "metadata": {},
   "outputs": [],
   "source": [
    "import os\n",
    "import toolset\n",
    "import numpy as np\n",
    "from npy_append_array import NpyAppendArray\n",
    "\n",
    "if os.path.exists(toolset.temp_x_path()):\n",
    "    os.remove(toolset.temp_x_path())\n",
    "if os.path.exists(toolset.temp_y_path()):\n",
    "    os.remove(toolset.temp_y_path())\n",
    "\n",
    "with NpyAppendArray(toolset.temp_x_path()) as array_x,\\\n",
    "        NpyAppendArray(toolset.temp_y_path()) as array_y:\n",
    "    for name in config.file_names:\n",
    "        paths = get_path(name)\n",
    "        current_x = np.load(paths[0], mmap_mode=\"r\")\n",
    "        current_x = current_x / 255.0\n",
    "        array_x.append(current_x)\n",
    "        # current_y = np.load(paths[1], mmap_mode=\"r\")\n",
    "        # array_y.append(current_y)\n"
   ]
  },
  {
   "cell_type": "markdown",
   "metadata": {},
   "source": [
    "# 2. Preprocess"
   ]
  },
  {
   "cell_type": "code",
   "execution_count": 3,
   "metadata": {},
   "outputs": [],
   "source": [
    "data_x = np.load(toolset.temp_x_path(), \"r\")\n",
    "# data_y = np.load(toolset.temp_y_path(), \"r\")\n",
    "# if data_x.shape[0] != data_y.shape[0]:\n",
    "#     print(\"!\")"
   ]
  },
  {
   "cell_type": "code",
   "execution_count": 4,
   "metadata": {},
   "outputs": [
    {
     "name": "stdout",
     "output_type": "stream",
     "text": [
      "17753\n"
     ]
    }
   ],
   "source": [
    "from sklearn.model_selection import train_test_split\n",
    "indices = np.arange(data_x.shape[0])\n",
    "train_indices, judge_indices = train_test_split(\n",
    "    indices, test_size=config.test_size, random_state=42)\n"
   ]
  },
  {
   "cell_type": "code",
   "execution_count": null,
   "metadata": {},
   "outputs": [],
   "source": [
    "import torch\n",
    "class Data(torch.utils.data.Dataset):\n",
    "    def __init__(self, data: np.ndarray, label: np.ndarray) -> None:\n",
    "        self.x = data\n",
    "        self.y = label\n",
    "    \n",
    "    def __len__(self):\n",
    "        return self.y.shape[0]\n",
    "    \n",
    "    def __getitem__(self, idx):\n",
    "        return self.x[idx], self.y[idx]\n"
   ]
  },
  {
   "cell_type": "markdown",
   "metadata": {},
   "source": [
    "# 3. Model"
   ]
  },
  {
   "cell_type": "code",
   "execution_count": null,
   "metadata": {},
   "outputs": [],
   "source": [
    "from torch import nn\n",
    "\n",
    "class CNNModel(nn.Module):\n",
    "    def __init__(self) -> None:\n",
    "        super(CNNModel, self).__init__()\n",
    "        "
   ]
  }
 ],
 "metadata": {
  "kernelspec": {
   "display_name": "Python 3.10.5 64-bit",
   "language": "python",
   "name": "python3"
  },
  "language_info": {
   "codemirror_mode": {
    "name": "ipython",
    "version": 3
   },
   "file_extension": ".py",
   "mimetype": "text/x-python",
   "name": "python",
   "nbconvert_exporter": "python",
   "pygments_lexer": "ipython3",
   "version": "3.10.5"
  },
  "orig_nbformat": 4,
  "vscode": {
   "interpreter": {
    "hash": "26de051ba29f2982a8de78e945f0abaf191376122a1563185a90213a26c5da77"
   }
  }
 },
 "nbformat": 4,
 "nbformat_minor": 2
}
